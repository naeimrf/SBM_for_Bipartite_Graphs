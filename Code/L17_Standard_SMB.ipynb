{
 "cells": [
  {
   "cell_type": "markdown",
   "metadata": {},
   "source": [
    "%Porject 15cr (Naeim Rashidfarokhi - Deepthi H Venkataramana)"
   ]
  },
  {
   "cell_type": "markdown",
   "metadata": {},
   "source": [
    "This code is based on Equations 2 and 3 in Lecture notes nbr.17 by Aaron Clauset"
   ]
  },
  {
   "cell_type": "code",
   "execution_count": 1,
   "metadata": {},
   "outputs": [],
   "source": [
    "%matplotlib inline\n",
    "import matplotlib.pyplot as plt\n",
    "import numpy as np\n",
    "import pandas as pd\n",
    "import itertools as itt # to generate combinations\n",
    "import igraph as ig"
   ]
  },
  {
   "cell_type": "code",
   "execution_count": 2,
   "metadata": {},
   "outputs": [
    {
     "data": {
      "text/html": [
       "<style>.container { width:100% !important; }</style>"
      ],
      "text/plain": [
       "<IPython.core.display.HTML object>"
      ]
     },
     "metadata": {},
     "output_type": "display_data"
    }
   ],
   "source": [
    "from IPython.core.display import display, HTML\n",
    "display(HTML(\"<style>.container { width:100% !important; }</style>\"))"
   ]
  },
  {
   "cell_type": "markdown",
   "metadata": {},
   "source": [
    "Input data1"
   ]
  },
  {
   "cell_type": "code",
   "execution_count": 3,
   "metadata": {},
   "outputs": [
    {
     "name": "stdout",
     "output_type": "stream",
     "text": [
      "Enter the nbr of groups:2\n",
      "IGRAPH UN-- 6 7 -- \n",
      "+ attr: name (v)\n"
     ]
    },
    {
     "data": {
      "image/svg+xml": [
       "<?xml version=\"1.0\" encoding=\"UTF-8\"?>\n",
       "<svg xmlns=\"http://www.w3.org/2000/svg\" xmlns:xlink=\"http://www.w3.org/1999/xlink\" width=\"150pt\" height=\"150pt\" viewBox=\"0 0 150 150\" version=\"1.1\">\n",
       "<g id=\"surface2\">\n",
       "<rect x=\"0\" y=\"0\" width=\"150\" height=\"150\" style=\"fill:rgb(100%,100%,100%);fill-opacity:1;stroke:none;\"/>\n",
       "<path style=\"fill:none;stroke-width:1;stroke-linecap:butt;stroke-linejoin:miter;stroke:rgb(26.666667%,26.666667%,26.666667%);stroke-opacity:1;stroke-miterlimit:10;\" d=\"M 130 110.070312 L 90.863281 130 \"/>\n",
       "<path style=\"fill:none;stroke-width:1;stroke-linecap:butt;stroke-linejoin:miter;stroke:rgb(26.666667%,26.666667%,26.666667%);stroke-opacity:1;stroke-miterlimit:10;\" d=\"M 130 110.070312 L 88.027344 91.558594 \"/>\n",
       "<path style=\"fill:none;stroke-width:1;stroke-linecap:butt;stroke-linejoin:miter;stroke:rgb(26.666667%,26.666667%,26.666667%);stroke-opacity:1;stroke-miterlimit:10;\" d=\"M 90.863281 130 L 88.027344 91.558594 \"/>\n",
       "<path style=\"fill:none;stroke-width:1;stroke-linecap:butt;stroke-linejoin:miter;stroke:rgb(26.666667%,26.666667%,26.666667%);stroke-opacity:1;stroke-miterlimit:10;\" d=\"M 88.027344 91.558594 L 61.972656 58.441406 \"/>\n",
       "<path style=\"fill:none;stroke-width:1;stroke-linecap:butt;stroke-linejoin:miter;stroke:rgb(26.666667%,26.666667%,26.666667%);stroke-opacity:1;stroke-miterlimit:10;\" d=\"M 61.972656 58.441406 L 20 39.929688 \"/>\n",
       "<path style=\"fill:none;stroke-width:1;stroke-linecap:butt;stroke-linejoin:miter;stroke:rgb(26.666667%,26.666667%,26.666667%);stroke-opacity:1;stroke-miterlimit:10;\" d=\"M 61.972656 58.441406 L 59.136719 20 \"/>\n",
       "<path style=\"fill:none;stroke-width:1;stroke-linecap:butt;stroke-linejoin:miter;stroke:rgb(26.666667%,26.666667%,26.666667%);stroke-opacity:1;stroke-miterlimit:10;\" d=\"M 20 39.929688 L 59.136719 20 \"/>\n",
       "<path style=\"fill-rule:nonzero;fill:rgb(0%,0%,0%);fill-opacity:1;stroke-width:1;stroke-linecap:butt;stroke-linejoin:miter;stroke:rgb(0%,0%,0%);stroke-opacity:1;stroke-miterlimit:10;\" d=\"M 140 110.070312 C 140 115.59375 135.523438 120.070312 130 120.070312 C 124.476562 120.070312 120 115.59375 120 110.070312 C 120 104.546875 124.476562 100.070312 130 100.070312 C 135.523438 100.070312 140 104.546875 140 110.070312 \"/>\n",
       "<path style=\"fill-rule:nonzero;fill:rgb(0%,0%,0%);fill-opacity:1;stroke-width:1;stroke-linecap:butt;stroke-linejoin:miter;stroke:rgb(0%,0%,0%);stroke-opacity:1;stroke-miterlimit:10;\" d=\"M 100.863281 130 C 100.863281 135.523438 96.386719 140 90.863281 140 C 85.339844 140 80.863281 135.523438 80.863281 130 C 80.863281 124.476562 85.339844 120 90.863281 120 C 96.386719 120 100.863281 124.476562 100.863281 130 \"/>\n",
       "<path style=\"fill-rule:nonzero;fill:rgb(0%,0%,0%);fill-opacity:1;stroke-width:1;stroke-linecap:butt;stroke-linejoin:miter;stroke:rgb(0%,0%,0%);stroke-opacity:1;stroke-miterlimit:10;\" d=\"M 98.027344 91.558594 C 98.027344 97.078125 93.550781 101.558594 88.027344 101.558594 C 82.503906 101.558594 78.027344 97.078125 78.027344 91.558594 C 78.027344 86.035156 82.503906 81.558594 88.027344 81.558594 C 93.550781 81.558594 98.027344 86.035156 98.027344 91.558594 \"/>\n",
       "<path style=\"fill-rule:nonzero;fill:rgb(0%,0%,0%);fill-opacity:1;stroke-width:1;stroke-linecap:butt;stroke-linejoin:miter;stroke:rgb(0%,0%,0%);stroke-opacity:1;stroke-miterlimit:10;\" d=\"M 71.972656 58.441406 C 71.972656 63.964844 67.496094 68.441406 61.972656 68.441406 C 56.449219 68.441406 51.972656 63.964844 51.972656 58.441406 C 51.972656 52.921875 56.449219 48.441406 61.972656 48.441406 C 67.496094 48.441406 71.972656 52.921875 71.972656 58.441406 \"/>\n",
       "<path style=\"fill-rule:nonzero;fill:rgb(0%,0%,0%);fill-opacity:1;stroke-width:1;stroke-linecap:butt;stroke-linejoin:miter;stroke:rgb(0%,0%,0%);stroke-opacity:1;stroke-miterlimit:10;\" d=\"M 30 39.929688 C 30 45.453125 25.523438 49.929688 20 49.929688 C 14.476562 49.929688 10 45.453125 10 39.929688 C 10 34.40625 14.476562 29.929688 20 29.929688 C 25.523438 29.929688 30 34.40625 30 39.929688 \"/>\n",
       "<path style=\"fill-rule:nonzero;fill:rgb(0%,0%,0%);fill-opacity:1;stroke-width:1;stroke-linecap:butt;stroke-linejoin:miter;stroke:rgb(0%,0%,0%);stroke-opacity:1;stroke-miterlimit:10;\" d=\"M 69.136719 20 C 69.136719 25.523438 64.660156 30 59.136719 30 C 53.613281 30 49.136719 25.523438 49.136719 20 C 49.136719 14.476562 53.613281 10 59.136719 10 C 64.660156 10 69.136719 14.476562 69.136719 20 \"/>\n",
       "</g>\n",
       "</svg>\n"
      ],
      "text/plain": [
       "<igraph.drawing.Plot at 0x7f38104b9c10>"
      ]
     },
     "execution_count": 3,
     "metadata": {
      "image/svg+xml": {
       "isolated": true
      }
     },
     "output_type": "execute_result"
    }
   ],
   "source": [
    "k = input(\"Enter the nbr of groups:\")\n",
    "# k = 6\n",
    "## PLEASE unlock the dataset below with k=2 to check the accracy of code against values in Lecture 17!\n",
    "vtx = np.array((0,1,2,3,4,5))\n",
    "edges = np.array([[0,1], [0,2], [1,2], [2,3], [3,4], [3,5], [4,5]])\n",
    "\n",
    "# Smaller graph to check the code!\n",
    "# vtx = np.array(range(11))\n",
    "# edges = np.array([[0,1], [0,2], [1,2], [10,3], [3,4], [3,5], [4,5],[6,7], [7,3], [6,4], [6,5], [0,9], [3,8], [7,8], [0,3], [4,2], [1,9]])\n",
    "\n",
    "# Source for dataset below: https://github.com/junipertcy/bipartiteSBM\n",
    "# vtx = np.array(range(32))\n",
    "# edges = np.array([[0,23],[0,24],[0,28],[0,30],[1,25],[1,26],[1,27],[1,28],[1,29],[1,30],[2,26],[2,28],[2,29],[3,26],[3,28],[3,29],[4,25],[4,26],[4,28],[4,29],[4,30],[5,19],[5,21],[5,22],[5,23],[5,24],[5,25],[5,26],[5,27],[5,28],[5,29],[5,31],[6,15],[6,16],[6,17],[6,19],[6,20],[6,21],[6,22],[6,28],[7,15],[7,16],[7,17],[7,18],[7,19],[7,20],[7,21],[7,22],[7,25],[7,26],[7,27],[7,29],[7,30],[7,31],[8,14], [8, 15], [8, 16], [8, 17],[8, 18], [8, 19], [8, 27], [8, 28], [8, 29], [8, 30],[9, 17], [9, 18], [9, 21],[10, 16], [10, 17], [10, 21],[11, 14], [11, 16], [11, 17], [11, 18], [11, 20], [11, 21],[12, 16], [12, 18], [12, 21],[13, 14], [13, 15], [13, 16], [13, 17], [13, 18], [13, 20]])\n",
    "\n",
    "# vtx = np.array(range(35))\n",
    "# edges = np.array([[2, 1],[3, 1],[3, 2],[4, 1], [4, 2], [4, 3],[5, 1],[6, 1],[7, 1], [7, 5], [7, 6],[8, 1],[8, 2], [8, 3], [8, 4],[9, 1],[9, 3],[10, 3],[11, 1],[11, 5], [11, 6],[12, 1],[13, 1], [13, 4],[14, 1], [14, 2], [14, 3], [14, 4],[17, 6], [17, 7],[18, 1], [18, 2],[20, 1], [20, 2],[22, 1], [22, 2],[26, 24], [26, 25],[28, 3], [28, 24], [28, 25],[29, 3],[30, 24], [30, 27],[31, 2], [31, 9], [32, 1], [32, 25], [32, 26], [32, 29],[33, 3], [33, 9], [33, 15], [33, 16], [33, 19], [33, 21], [33, 23], [33, 24], [33, 30], [33, 31], [33, 32],[34, 9], [34, 10], [34, 14], [34, 15], [34, 16], [34, 19], [34, 20], [34, 21], [34, 23], [34, 24], [34, 27], [34, 28], [34, 29], [34, 30], [34, 31], [34, 32], [34, 33]])\n",
    "\n",
    "g = ig.Graph()\n",
    "g.add_vertices(list(range(len(vtx))))\n",
    "g.add_edges(edges)\n",
    "ig.summary(g)\n",
    "ig.plot(g, bbox=(0, 0, 150, 150), vertex_color='black')"
   ]
  },
  {
   "cell_type": "markdown",
   "metadata": {},
   "source": [
    "The code to find all combinations of a vertex set is inspired from discussion here: \n",
    "https://stackoverflow.com/questions/39192777/how-to-split-a-list-into-n-groups-in-all-possible-combinations-of-group-length-a\n",
    "A useful explanation to understand the code below: https://stackoverflow.com/questions/231767/what-does-the-yield-keyword-do"
   ]
  },
  {
   "cell_type": "code",
   "execution_count": 4,
   "metadata": {
    "hide_input": false
   },
   "outputs": [],
   "source": [
    "# All non-unique combinations prepared for undirected graphs\n",
    "def k_groups_sorted(vertex_seq, k):\n",
    "\n",
    "    n = len(vertex_seq)\n",
    "    groups = []  # a list of lists, currently empty\n",
    "\n",
    "    if k>n:\n",
    "        print(f'Division nbr was bigger than the nbr of vertices. \\nThe code continued with maximum nbr of devision which was one vertex per group.')\n",
    "    \n",
    "    def generate_partitions(i):\n",
    "        if i >= n:\n",
    "            yield list(map(tuple, groups))\n",
    "        else:\n",
    "            if n - i > k - len(groups):\n",
    "                for group in groups:\n",
    "                    group.append(vertex_seq[i])\n",
    "                    yield from generate_partitions(i + 1)\n",
    "                    group.pop()\n",
    "\n",
    "            if len(groups) < k:\n",
    "                groups.append([vertex_seq[i]])\n",
    "                yield from generate_partitions(i + 1)\n",
    "                groups.pop()\n",
    "\n",
    "    result = generate_partitions(0)\n",
    "\n",
    "    # Sort the parts in each partition in shortlex order\n",
    "    result = [sorted(parts, key = lambda x: (len(x), x)) for parts in result]\n",
    "    \n",
    "    # Sort partitions by the length of each part, then lexicographically.\n",
    "    result = sorted(result, key = lambda parts: (*map(len, parts), parts))\n",
    "\n",
    "    return result"
   ]
  },
  {
   "cell_type": "markdown",
   "metadata": {},
   "source": [
    "def standard_SBM(intra_exist, inter_exist, intra_nbr_tot, inter_nbr_tot)"
   ]
  },
  {
   "cell_type": "code",
   "execution_count": 5,
   "metadata": {},
   "outputs": [
    {
     "name": "stdout",
     "output_type": "stream",
     "text": [
      "Number of combinations: 31\n"
     ]
    }
   ],
   "source": [
    "# 'combs varaible' holds all graph combinations\n",
    "combs = k_groups_sorted(vtx, int(k))\n",
    "print(f'Number of combinations: {len(combs)}')\n",
    "# print(f'The first vertex combination:{combs}')\n",
    "# print(type(combs))"
   ]
  },
  {
   "cell_type": "markdown",
   "metadata": {},
   "source": [
    "prepare_possible_edges(combinations, k); Maximum Likilihood Estimation"
   ]
  },
  {
   "cell_type": "code",
   "execution_count": 6,
   "metadata": {
    "hide_input": false
   },
   "outputs": [],
   "source": [
    "# Parameters are a list of list for all combinations plus k as the nbr of communities\n",
    "def prepare_possible_edges(combinations, k):\n",
    "    nbr_comb = len(combinations)\n",
    "    print(f'Number of combinations: {nbr_comb}')\n",
    "    \n",
    "    # validity check for nbr of groups (k)\n",
    "    all_vertices = sum([len(i) for i in combinations[0]])           \n",
    "    if k > all_vertices:\n",
    "        k = all_vertices\n",
    "    \n",
    "    ### Number of vertex and possible intra edges in each group for all combinations\n",
    "    vtx_nbr_all_combinations = []\n",
    "    nbr_intra_edges_all_combinations = []\n",
    "    \n",
    "    group_vtx_one_comb = []\n",
    "    intra_edges_one_comb = []\n",
    "    \n",
    "    for comb in combinations:\n",
    "        for i in range(k):\n",
    "            gp_len = len(comb[i])\n",
    "            \n",
    "            group_vtx_one_comb.append(gp_len)\n",
    "            intra_one_group = int(gp_len * (gp_len - 1) / 2)\n",
    "            \n",
    "            # To solve 0/0 problem in case of 1 point in a group           \n",
    "            if intra_one_group == 0:\n",
    "                intra_one_group = 1\n",
    "            \n",
    "            intra_edges_one_comb.append(intra_one_group)\n",
    "        \n",
    "        vtx_nbr_all_combinations.append(group_vtx_one_comb)\n",
    "        nbr_intra_edges_all_combinations.append(intra_edges_one_comb)\n",
    "              \n",
    "        group_vtx_one_comb = []\n",
    "        intra_edges_one_comb = []\n",
    "    \n",
    "    print(f'Sample graph:{combinations[0]}')\n",
    "    print(f'Number of vertices in each group/[combination]:\\n{vtx_nbr_all_combinations[0]}\\n')\n",
    "    print(f'Total number of intra edges:\\n{nbr_intra_edges_all_combinations[0]}\\n')\n",
    "    \n",
    "    inter_edges_one_comb = []\n",
    "    nbr_inter_edges_all_combinations = []\n",
    "    \n",
    "    ### Total nbr of edges between groups (binomial inter-edges)\n",
    "    for comb in vtx_nbr_all_combinations:\n",
    "        for i in list(itt.combinations(comb, 2)):\n",
    "\n",
    "            inter_edge = i[0]*i[1]\n",
    "            inter_edges_one_comb.append(inter_edge)\n",
    "        \n",
    "        nbr_inter_edges_all_combinations.append(inter_edges_one_comb)\n",
    "        inter_edges_one_comb = []\n",
    "    # print(f'Total number of inter edges:\\n{nbr_inter_edges_all_combinations[0]}')        \n",
    " \n",
    "    ### Finding inter and intra edge names based on their start-end vertex_ids in each combination\n",
    "    inter_binomial_edge = [] # to keep possible inter edges between each two groups\n",
    "    inter_edges_one_combination = []\n",
    "    name_inter_edges_all_combinations = []\n",
    "    \n",
    "    intra_edges_one_group = [] # a list of all vertices inside a group\n",
    "    name_intra_edges_one_comb = [] # a list of list for intra vertices in one graph combination\n",
    "    name_intra_edges_all_combinations = []\n",
    "    \n",
    "    # for-loop to get a combination of network\n",
    "    for comb in combinations:\n",
    "        \n",
    "        # for-loop to find inter-edges\n",
    "        for binomial in list(itt.combinations(comb, 2)):\n",
    "            inter_binomial_edge = list(itt.product(binomial[0], binomial[1]))\n",
    "                \n",
    "            # print(f'inter_binomial_edge:\\n{inter_binomial_edge}\\n')\n",
    "            inter_edges_one_combination.append(inter_binomial_edge)\n",
    "            inter_binomial_edge = []\n",
    "\n",
    "        name_inter_edges_all_combinations.append(inter_edges_one_combination)\n",
    "        inter_edges_one_combination = []\n",
    "    \n",
    "        # for-loop to find intra-edges\n",
    "        for group in comb:\n",
    "            if len(group) == 1:\n",
    "                name_intra_edges_one_comb.append([])\n",
    "            else:\n",
    "                intra_edges_one_group = list(itt.combinations(group, 2))\n",
    "                name_intra_edges_one_comb.append(intra_edges_one_group)\n",
    "                intra_edges_one_group = []\n",
    "            \n",
    "        name_intra_edges_all_combinations.append(name_intra_edges_one_comb)\n",
    "        name_intra_edges_one_comb = []\n",
    "    \n",
    "    vtx_nbr = np.array(vtx_nbr_all_combinations)\n",
    "    intra_nbr = np.array(nbr_intra_edges_all_combinations)\n",
    "    inter_nbr = np.array(nbr_inter_edges_all_combinations)\n",
    "    inter_name = np.array(name_inter_edges_all_combinations)\n",
    "    intra_name = np.array(name_intra_edges_all_combinations)  \n",
    "                  \n",
    "    print(f'\\n{len(name_inter_edges_all_combinations)} sets of inter edges, one for each graph combination!')\n",
    "    # print(f'The first combination, possible inter edges:\\n{name_inter_edges_all_combinations[0]}\\n')\n",
    "    # print(f'The first combination, possible intra edges:\\n{name_intra_edges_all_combinations[0]}')\n",
    "    \n",
    "    return vtx_nbr, intra_nbr, inter_nbr, inter_name, intra_name                            "
   ]
  },
  {
   "cell_type": "code",
   "execution_count": 7,
   "metadata": {},
   "outputs": [
    {
     "name": "stdout",
     "output_type": "stream",
     "text": [
      "Number of combinations: 31\n",
      "Sample graph:[(0,), (1, 2, 3, 4, 5)]\n",
      "Number of vertices in each group/[combination]:\n",
      "[1, 5]\n",
      "\n",
      "Total number of intra edges:\n",
      "[1, 10]\n",
      "\n",
      "\n",
      "31 sets of inter edges, one for each graph combination!\n"
     ]
    }
   ],
   "source": [
    "# tot as total (all posibilities)\n",
    "# intra_name is not used in the code, so dropped by: '_'\n",
    "vtx_nbr_tot, intra_nbr_tot, inter_nbr_tot, inter_name_tot, _ = prepare_possible_edges(combs, int(k))"
   ]
  },
  {
   "cell_type": "markdown",
   "metadata": {},
   "source": [
    "ind_existing_edges(vtx_nbr_tot, inter_name_tot, combinations, edge_set)"
   ]
  },
  {
   "cell_type": "code",
   "execution_count": 8,
   "metadata": {
    "hide_input": true
   },
   "outputs": [],
   "source": [
    "# For all combinations, parameters are the number of vertices, inter edge names.\n",
    "# Plus graph combinations and observed edge_sets\n",
    "# Exisiting between two groups as refered 'expected degrees' in the literature\n",
    "def find_existing_edges(vtx_nbr_tot, inter_name_tot, combinations, edge_set):\n",
    "    \n",
    "    print(f'Nbr of combinations: {vtx_nbr_tot.shape[0]} with {vtx_nbr_tot[0].size} groups!')\n",
    "    ## Find correct group for existing entra edges\n",
    "    \n",
    "    group_entra_exist = []\n",
    "    comb_entra_exist = []\n",
    "    del_from_group = []\n",
    "    del_from_comb = []\n",
    "    \n",
    "    entra_exist = 0\n",
    "    degree = 0\n",
    "    group_degree = []  \n",
    "    comb_degree = []\n",
    "    \n",
    "    for comb in combinations:\n",
    "        for group in comb:\n",
    "            # print(group)\n",
    "            intra_check = np.isin(edge_set, group)\n",
    "            # print(intra_check)\n",
    "            for i in range(len(intra_check)):\n",
    "                if intra_check[i][0]==True and intra_check[i][1]==True:\n",
    "                    entra_exist += 1\n",
    "                    del_from_group.append(i)\n",
    "                    # print(del_from_group)\n",
    "                    \n",
    "                if intra_check[i][0]==True:\n",
    "                    degree += 1\n",
    "                if intra_check[i][1]==True:\n",
    "                    degree += 1  \n",
    "                \n",
    "            group_entra_exist.append(entra_exist)\n",
    "            entra_exist = 0\n",
    "            \n",
    "            group_degree.append(degree)\n",
    "            degree = 0\n",
    "        \n",
    "            # print(\"--*--\")\n",
    "            # print(del_from_group)\n",
    "        \n",
    "        comb_entra_exist.append(group_entra_exist)\n",
    "        group_entra_exist = []\n",
    "        del_from_comb.append(del_from_group)\n",
    "        del_from_group = []\n",
    "        \n",
    "        comb_degree.append(group_degree)\n",
    "        group_degree = []\n",
    "\n",
    "    group_enter_exist = []\n",
    "    comb_enter_exist = []\n",
    "    # print(f'del_from_comb:{del_from_comb, len(comb_entra_exist)}')\n",
    "    ## Find binomial correct group for existing inter-edges \n",
    "    enter_exist = 0\n",
    "    for i in range(len(inter_name_tot)):\n",
    "        #print(inter_name_tot[i])\n",
    "        \n",
    "        # removing intra-edges from edge set to keep only inter-edges\n",
    "        enter_edge_set = np.delete(edge_set, del_from_comb[i], 0)\n",
    "        # print(f'enter_edge_set:\\n{enter_edge_set}') \n",
    "        \n",
    "\n",
    "        for two_groups in inter_name_tot[i]:\n",
    "            # print(f'vtx of two groups:{two_groups}')\n",
    "            two_gps_vtx = list(set(np.array(two_groups).flatten()))\n",
    "            # print(f'vtx of two groups flattern:{two_gps_vtx}')\n",
    "            \n",
    "            inter_check = np.isin(enter_edge_set, two_gps_vtx)\n",
    "            # print(inter_check)\n",
    "            \n",
    "            for cer in inter_check:\n",
    "                if cer[0]==True and cer[1]==True:\n",
    "                    enter_exist += 1\n",
    "            group_enter_exist.append(enter_exist)\n",
    "            # print(f'enter_exist:{enter_exist}')\n",
    "            enter_exist = 0\n",
    "            \n",
    "        comb_enter_exist.append(group_enter_exist)\n",
    "        group_enter_exist = []       \n",
    "    \n",
    "    print(f'combinations[0]:{combinations[0]}')\n",
    "    print(f'First combination, existing nbr of intra-edges in groups: {comb_entra_exist[0]}')\n",
    "    print(f'First combination, existing nbr of inter-edges between groups: {comb_enter_exist[0]}')\n",
    "    print(f'First combination, total degree in groups: {comb_degree[0]}')\n",
    "    \n",
    "    return np.array(comb_entra_exist), np.array(comb_enter_exist), np.array(comb_degree)"
   ]
  },
  {
   "cell_type": "code",
   "execution_count": 9,
   "metadata": {},
   "outputs": [
    {
     "name": "stdout",
     "output_type": "stream",
     "text": [
      "Nbr of combinations: 31 with 2 groups!\n",
      "combinations[0]:[(0,), (1, 2, 3, 4, 5)]\n",
      "First combination, existing nbr of intra-edges in groups: [0, 5]\n",
      "First combination, existing nbr of inter-edges between groups: [2]\n",
      "First combination, total degree in groups: [2, 12]\n"
     ]
    }
   ],
   "source": [
    "entra_exist, enter_exist, degree = find_existing_edges(vtx_nbr_tot, inter_name_tot, combs, edges)\n",
    "# print(type(entra_exist))"
   ]
  },
  {
   "cell_type": "markdown",
   "metadata": {},
   "source": [
    "def standard_SBM(intra_exist, inter_exist, intra_nbr_tot, inter_nbr_tot)"
   ]
  },
  {
   "cell_type": "code",
   "execution_count": 10,
   "metadata": {
    "hide_input": false
   },
   "outputs": [],
   "source": [
    "# A function to calculate maximum probability likelihood for all combinations\n",
    "def standard_SBM(intra_exist, inter_exist, intra_nbr_tot, inter_nbr_tot):\n",
    "     \n",
    "    mle_value_comb = [] # to keep mle values for all combinations\n",
    "    log_mle_value_comb = [] # to keep log(mle) values for all combinations\n",
    "    k = entra_exist.shape[1] # nbr of groups\n",
    "    \n",
    "    for g in range(len(intra_exist)): # g for each graph(combination)\n",
    "        SM = np.zeros([k,k]) # stochastic_matrix\n",
    "        E = np.zeros([k,k]) # Expected edges as intra_exist for diagonal and inter_exist non_diagonal\n",
    "        N = np.zeros([k,k]) # Possible edges\n",
    "    \n",
    "        E[np.diag_indices(k)] = intra_exist[g] # diagonal values\n",
    "        N[np.diag_indices(k)] = intra_nbr_tot[g] # diagonal values\n",
    "    \n",
    "        # index production to save inter_exist and inter_exist_total values in correct cells\n",
    "        for i in range(k):\n",
    "            # print(f'i:{i}')\n",
    "            for j in range(k):\n",
    "                # print(f'j:{j}')\n",
    "                if i < j:\n",
    "                    # print(f'i,j:{i,j}')\n",
    "                    E[i][j] = E[j][i] = inter_exist[g][i+j-1]\n",
    "                    N[i][j] = N[j][i] = inter_nbr_tot[g][i+j-1]\n",
    "    \n",
    "        SM = E/N\n",
    "\n",
    "        ## CALCULATION PART\n",
    "        mle_value = 1 # Equestion 2, Lecture 17 (Aaron Clauset)\n",
    "        log_mle_value = 0 # Equestion 3, Lecture 17 (Aaron Clauset)    \n",
    "        for x in range(k):\n",
    "            for y in range(k):\n",
    "                if x <= y:\n",
    "                    if (E[x][y] == 0): # case with 0 edges between a pair of groups 0^0 = 1! (SM[i][j])**E[i][j])\n",
    "                        mle_value *= (1-SM[x][y])**N[x][y]\n",
    "                        log_mle_value += (N[x][y])*np.log(N[x][y])-N[x][y]*np.log(N[x][y]) # E[i][j]*ln(E[i][j])\n",
    "\n",
    "                    elif (N[x][y]-E[x][y] == 0): # case with all edges between a pair of groups\n",
    "                        mle_value *= ((SM[x][y])**E[x][y])\n",
    "                        log_mle_value += E[x][y]*np.log(E[x][y])-N[x][y]*np.log(N[x][y])\n",
    "\n",
    "                    else:\n",
    "                        mle_value *= ((SM[x][y])**E[x][y])*((1-SM[x][y])**(N[x][y]-E[x][y]))\n",
    "                        log_mle_value += E[x][y]*np.log(E[x][y]) + (N[x][y]-E[x][y])*np.log(N[x][y]-E[x][y])-N[x][y]*np.log(N[x][y])\n",
    "        \n",
    "        mle_value_comb.append(mle_value)\n",
    "        log_mle_value_comb.append(log_mle_value)\n",
    "        \n",
    "    \n",
    "    print(f'First mle_value: {mle_value_comb[0], len(mle_value_comb)}')\n",
    "    print(f'First log_mle_value: {log_mle_value_comb[0], len(log_mle_value_comb)}')    \n",
    "    print(\"---\")\n",
    "    \n",
    "    print(f'E:\\n{E}')\n",
    "    print(f'N:\\n{N}')\n",
    "    print(f'SM:\\n{SM}')    \n",
    "\n",
    "    return np.array(mle_value_comb),np.array(log_mle_value_comb)"
   ]
  },
  {
   "cell_type": "code",
   "execution_count": 11,
   "metadata": {},
   "outputs": [
    {
     "name": "stdout",
     "output_type": "stream",
     "text": [
      "First mle_value: (3.375e-05, 31)\n",
      "First log_mle_value: (-10.29653014064574, 31)\n",
      "---\n",
      "E:\n",
      "[[1. 4.]\n",
      " [4. 2.]]\n",
      "N:\n",
      "[[3. 9.]\n",
      " [9. 3.]]\n",
      "SM:\n",
      "[[0.33333333 0.44444444]\n",
      " [0.44444444 0.66666667]]\n"
     ]
    }
   ],
   "source": [
    "all_mle_values, all_log_mle_values = standard_SBM(entra_exist, enter_exist, intra_nbr_tot, inter_nbr_tot)"
   ]
  },
  {
   "cell_type": "code",
   "execution_count": 12,
   "metadata": {},
   "outputs": [
    {
     "name": "stdout",
     "output_type": "stream",
     "text": [
      "(31,)\n"
     ]
    },
    {
     "data": {
      "image/png": "[encoded data removed]",
      "text/plain": [
       "<Figure size 432x288 with 2 Axes>"
      ]
     },
     "metadata": {
      "needs_background": "light"
     },
     "output_type": "display_data"
    }
   ],
   "source": [
    "nbr_graphs = np.array(range(len(combs)))\n",
    "print(nbr_graphs.shape)\n",
    "\n",
    "fig, ax1 = plt.subplots()\n",
    "color = 'tab:red'\n",
    "ax1.set_xlabel('Possible number of unique graphs')\n",
    "ax1.set_ylabel('MLE', color=color)\n",
    "ax1.plot(nbr_graphs, all_mle_values, color=color)\n",
    "ax1.tick_params(axis='y', labelcolor=color)\n",
    "\n",
    " # instantiate a second axes that shares the same x-axis\n",
    "ax2 = ax1.twinx()\n",
    "color = 'tab:blue'\n",
    "ax2.set_ylabel('Log(MLE)', color=color)\n",
    "ax2.plot(nbr_graphs, all_log_mle_values, color=color)\n",
    "ax2.tick_params(axis='y', labelcolor=color)\n",
    "\n",
    "fig.tight_layout()\n",
    "plt.show()"
   ]
  },
  {
   "cell_type": "code",
   "execution_count": 13,
   "metadata": {},
   "outputs": [
    {
     "name": "stdout",
     "output_type": "stream",
     "text": [
      "Graph number:[21]\n",
      "Combination1: [(0, 1, 2), (3, 4, 5)]\n",
      " -> MLE: 0.043304927014327296\n",
      " -> log(MLE): -3.1394888625872888\n",
      "Final: (<class 'list'>, 2) groups!\n"
     ]
    }
   ],
   "source": [
    "# Most possible graph\n",
    "max_idx = list(np.where(all_mle_values == np.amax(all_mle_values)))\n",
    "# max_idx = np.where(all_log_mle_values == np.amax(all_log_mle_values))\n",
    "print(f'Graph number:{max_idx[0]}')\n",
    "for i in range(len(max_idx[0])):\n",
    "    print(f'Combination{i+1}: {combs[max_idx[0][i]]}')\n",
    "    print(f' -> MLE: {all_mle_values[max_idx[0][i]]}')\n",
    "    print(f' -> log(MLE): {all_log_mle_values[max_idx[0][i]]}')\n",
    "final_groups = combs[max_idx[0][i]]\n",
    "print(f'Final: {type(final_groups), len(final_groups)} groups!')"
   ]
  },
  {
   "cell_type": "code",
   "execution_count": 14,
   "metadata": {
    "scrolled": true
   },
   "outputs": [
    {
     "name": "stdout",
     "output_type": "stream",
     "text": [
      "maximum degree:3 at vertex/vertices:[2, 3]\n"
     ]
    },
    {
     "data": {
      "image/svg+xml": [
       "<?xml version=\"1.0\" encoding=\"UTF-8\"?>\n",
       "<svg xmlns=\"http://www.w3.org/2000/svg\" xmlns:xlink=\"http://www.w3.org/1999/xlink\" width=\"150pt\" height=\"150pt\" viewBox=\"0 0 150 150\" version=\"1.1\">\n",
       "<defs>\n",
       "<g>\n",
       "<symbol overflow=\"visible\" id=\"glyph0-0\">\n",
       "<path style=\"stroke:none;\" d=\"M 0.453125 1.59375 L 0.453125 -6.34375 L 4.953125 -6.34375 L 4.953125 1.59375 Z M 0.953125 1.09375 L 4.453125 1.09375 L 4.453125 -5.84375 L 0.953125 -5.84375 Z M 0.953125 1.09375 \"/>\n",
       "</symbol>\n",
       "<symbol overflow=\"visible\" id=\"glyph0-1\">\n",
       "<path style=\"stroke:none;\" d=\"M 2.859375 -5.984375 C 2.398438 -5.984375 2.054688 -5.753906 1.828125 -5.296875 C 1.597656 -4.847656 1.484375 -4.175781 1.484375 -3.28125 C 1.484375 -2.375 1.597656 -1.695312 1.828125 -1.25 C 2.054688 -0.800781 2.398438 -0.578125 2.859375 -0.578125 C 3.316406 -0.578125 3.660156 -0.800781 3.890625 -1.25 C 4.117188 -1.695312 4.234375 -2.375 4.234375 -3.28125 C 4.234375 -4.175781 4.117188 -4.847656 3.890625 -5.296875 C 3.660156 -5.753906 3.316406 -5.984375 2.859375 -5.984375 Z M 2.859375 -6.6875 C 3.597656 -6.6875 4.160156 -6.394531 4.546875 -5.8125 C 4.929688 -5.226562 5.125 -4.382812 5.125 -3.28125 C 5.125 -2.175781 4.929688 -1.332031 4.546875 -0.75 C 4.160156 -0.164062 3.597656 0.125 2.859375 0.125 C 2.128906 0.125 1.566406 -0.164062 1.171875 -0.75 C 0.785156 -1.332031 0.59375 -2.175781 0.59375 -3.28125 C 0.59375 -4.382812 0.785156 -5.226562 1.171875 -5.8125 C 1.566406 -6.394531 2.128906 -6.6875 2.859375 -6.6875 Z M 2.859375 -6.6875 \"/>\n",
       "</symbol>\n",
       "<symbol overflow=\"visible\" id=\"glyph0-2\">\n",
       "<path style=\"stroke:none;\" d=\"M 1.109375 -0.75 L 2.5625 -0.75 L 2.5625 -5.75 L 0.984375 -5.4375 L 0.984375 -6.25 L 2.5625 -6.5625 L 3.453125 -6.5625 L 3.453125 -0.75 L 4.890625 -0.75 L 4.890625 0 L 1.109375 0 Z M 1.109375 -0.75 \"/>\n",
       "</symbol>\n",
       "<symbol overflow=\"visible\" id=\"glyph0-3\">\n",
       "<path style=\"stroke:none;\" d=\"M 1.734375 -0.75 L 4.828125 -0.75 L 4.828125 0 L 0.65625 0 L 0.65625 -0.75 C 1 -1.09375 1.457031 -1.554688 2.03125 -2.140625 C 2.613281 -2.734375 2.984375 -3.113281 3.140625 -3.28125 C 3.421875 -3.601562 3.613281 -3.875 3.71875 -4.09375 C 3.832031 -4.320312 3.890625 -4.539062 3.890625 -4.75 C 3.890625 -5.101562 3.769531 -5.390625 3.53125 -5.609375 C 3.289062 -5.828125 2.972656 -5.9375 2.578125 -5.9375 C 2.296875 -5.9375 2 -5.882812 1.6875 -5.78125 C 1.382812 -5.6875 1.054688 -5.539062 0.703125 -5.34375 L 0.703125 -6.25 C 1.054688 -6.382812 1.390625 -6.488281 1.703125 -6.5625 C 2.015625 -6.644531 2.300781 -6.6875 2.5625 -6.6875 C 3.238281 -6.6875 3.78125 -6.515625 4.1875 -6.171875 C 4.59375 -5.828125 4.796875 -5.375 4.796875 -4.8125 C 4.796875 -4.539062 4.742188 -4.28125 4.640625 -4.03125 C 4.535156 -3.789062 4.351562 -3.507812 4.09375 -3.1875 C 4.019531 -3.101562 3.785156 -2.859375 3.390625 -2.453125 C 2.992188 -2.046875 2.441406 -1.476562 1.734375 -0.75 Z M 1.734375 -0.75 \"/>\n",
       "</symbol>\n",
       "<symbol overflow=\"visible\" id=\"glyph0-4\">\n",
       "<path style=\"stroke:none;\" d=\"M 3.65625 -3.53125 C 4.082031 -3.445312 4.410156 -3.257812 4.640625 -2.96875 C 4.878906 -2.6875 5 -2.332031 5 -1.90625 C 5 -1.257812 4.773438 -0.757812 4.328125 -0.40625 C 3.890625 -0.0507812 3.257812 0.125 2.4375 0.125 C 2.164062 0.125 1.882812 0.0976562 1.59375 0.046875 C 1.300781 -0.00390625 1 -0.0859375 0.6875 -0.203125 L 0.6875 -1.0625 C 0.9375 -0.914062 1.207031 -0.804688 1.5 -0.734375 C 1.789062 -0.660156 2.09375 -0.625 2.40625 -0.625 C 2.96875 -0.625 3.394531 -0.734375 3.6875 -0.953125 C 3.976562 -1.171875 4.125 -1.488281 4.125 -1.90625 C 4.125 -2.289062 3.988281 -2.59375 3.71875 -2.8125 C 3.445312 -3.03125 3.066406 -3.140625 2.578125 -3.140625 L 1.8125 -3.140625 L 1.8125 -3.875 L 2.625 -3.875 C 3.0625 -3.875 3.394531 -3.957031 3.625 -4.125 C 3.851562 -4.300781 3.96875 -4.554688 3.96875 -4.890625 C 3.96875 -5.222656 3.847656 -5.476562 3.609375 -5.65625 C 3.367188 -5.84375 3.023438 -5.9375 2.578125 -5.9375 C 2.335938 -5.9375 2.078125 -5.910156 1.796875 -5.859375 C 1.523438 -5.804688 1.222656 -5.722656 0.890625 -5.609375 L 0.890625 -6.40625 C 1.222656 -6.5 1.535156 -6.566406 1.828125 -6.609375 C 2.117188 -6.660156 2.394531 -6.6875 2.65625 -6.6875 C 3.332031 -6.6875 3.867188 -6.53125 4.265625 -6.21875 C 4.660156 -5.914062 4.859375 -5.503906 4.859375 -4.984375 C 4.859375 -4.617188 4.753906 -4.3125 4.546875 -4.0625 C 4.335938 -3.8125 4.039062 -3.632812 3.65625 -3.53125 Z M 3.65625 -3.53125 \"/>\n",
       "</symbol>\n",
       "<symbol overflow=\"visible\" id=\"glyph0-5\">\n",
       "<path style=\"stroke:none;\" d=\"M 3.40625 -5.78125 L 1.15625 -2.28125 L 3.40625 -2.28125 Z M 3.171875 -6.5625 L 4.28125 -6.5625 L 4.28125 -2.28125 L 5.21875 -2.28125 L 5.21875 -1.546875 L 4.28125 -1.546875 L 4.28125 0 L 3.40625 0 L 3.40625 -1.546875 L 0.4375 -1.546875 L 0.4375 -2.40625 Z M 3.171875 -6.5625 \"/>\n",
       "</symbol>\n",
       "<symbol overflow=\"visible\" id=\"glyph0-6\">\n",
       "<path style=\"stroke:none;\" d=\"M 0.96875 -6.5625 L 4.453125 -6.5625 L 4.453125 -5.8125 L 1.78125 -5.8125 L 1.78125 -4.203125 C 1.914062 -4.242188 2.046875 -4.273438 2.171875 -4.296875 C 2.296875 -4.328125 2.425781 -4.34375 2.5625 -4.34375 C 3.289062 -4.34375 3.867188 -4.140625 4.296875 -3.734375 C 4.722656 -3.335938 4.9375 -2.796875 4.9375 -2.109375 C 4.9375 -1.398438 4.71875 -0.847656 4.28125 -0.453125 C 3.84375 -0.0664062 3.222656 0.125 2.421875 0.125 C 2.148438 0.125 1.867188 0.0976562 1.578125 0.046875 C 1.296875 0.00390625 1 -0.0625 0.6875 -0.15625 L 0.6875 -1.046875 C 0.957031 -0.898438 1.234375 -0.789062 1.515625 -0.71875 C 1.796875 -0.65625 2.09375 -0.625 2.40625 -0.625 C 2.914062 -0.625 3.316406 -0.753906 3.609375 -1.015625 C 3.898438 -1.285156 4.046875 -1.648438 4.046875 -2.109375 C 4.046875 -2.566406 3.898438 -2.925781 3.609375 -3.1875 C 3.316406 -3.457031 2.914062 -3.59375 2.40625 -3.59375 C 2.164062 -3.59375 1.925781 -3.566406 1.6875 -3.515625 C 1.457031 -3.460938 1.21875 -3.378906 0.96875 -3.265625 Z M 0.96875 -6.5625 \"/>\n",
       "</symbol>\n",
       "</g>\n",
       "</defs>\n",
       "<g id=\"surface8\">\n",
       "<rect x=\"0\" y=\"0\" width=\"150\" height=\"150\" style=\"fill:rgb(100%,100%,100%);fill-opacity:1;stroke:none;\"/>\n",
       "<path style=\"fill:none;stroke-width:1;stroke-linecap:butt;stroke-linejoin:miter;stroke:rgb(26.666667%,26.666667%,26.666667%);stroke-opacity:1;stroke-miterlimit:10;\" d=\"M 130 110.070312 L 90.863281 130 \"/>\n",
       "<path style=\"fill:none;stroke-width:1;stroke-linecap:butt;stroke-linejoin:miter;stroke:rgb(26.666667%,26.666667%,26.666667%);stroke-opacity:1;stroke-miterlimit:10;\" d=\"M 130 110.070312 L 88.027344 91.558594 \"/>\n",
       "<path style=\"fill:none;stroke-width:1;stroke-linecap:butt;stroke-linejoin:miter;stroke:rgb(26.666667%,26.666667%,26.666667%);stroke-opacity:1;stroke-miterlimit:10;\" d=\"M 90.863281 130 L 88.027344 91.558594 \"/>\n",
       "<path style=\"fill:none;stroke-width:1;stroke-linecap:butt;stroke-linejoin:miter;stroke:rgb(26.666667%,26.666667%,26.666667%);stroke-opacity:1;stroke-miterlimit:10;\" d=\"M 88.027344 91.558594 L 61.972656 58.441406 \"/>\n",
       "<path style=\"fill:none;stroke-width:1;stroke-linecap:butt;stroke-linejoin:miter;stroke:rgb(26.666667%,26.666667%,26.666667%);stroke-opacity:1;stroke-miterlimit:10;\" d=\"M 61.972656 58.441406 L 20 39.929688 \"/>\n",
       "<path style=\"fill:none;stroke-width:1;stroke-linecap:butt;stroke-linejoin:miter;stroke:rgb(26.666667%,26.666667%,26.666667%);stroke-opacity:1;stroke-miterlimit:10;\" d=\"M 61.972656 58.441406 L 59.136719 20 \"/>\n",
       "<path style=\"fill:none;stroke-width:1;stroke-linecap:butt;stroke-linejoin:miter;stroke:rgb(26.666667%,26.666667%,26.666667%);stroke-opacity:1;stroke-miterlimit:10;\" d=\"M 20 39.929688 L 59.136719 20 \"/>\n",
       "<path style=\"fill-rule:nonzero;fill:rgb(93.333333%,67.843137%,5.490196%);fill-opacity:1;stroke-width:1;stroke-linecap:butt;stroke-linejoin:miter;stroke:rgb(0%,0%,0%);stroke-opacity:1;stroke-miterlimit:10;\" d=\"M 139 110.070312 C 139 115.039062 134.96875 119.070312 130 119.070312 C 125.03125 119.070312 121 115.039062 121 110.070312 C 121 105.097656 125.03125 101.070312 130 101.070312 C 134.96875 101.070312 139 105.097656 139 110.070312 \"/>\n",
       "<path style=\"fill-rule:nonzero;fill:rgb(93.333333%,67.843137%,5.490196%);fill-opacity:1;stroke-width:1;stroke-linecap:butt;stroke-linejoin:miter;stroke:rgb(0%,0%,0%);stroke-opacity:1;stroke-miterlimit:10;\" d=\"M 99.863281 130 C 99.863281 134.96875 95.835938 139 90.863281 139 C 85.894531 139 81.863281 134.96875 81.863281 130 C 81.863281 125.03125 85.894531 121 90.863281 121 C 95.835938 121 99.863281 125.03125 99.863281 130 \"/>\n",
       "<path style=\"fill-rule:nonzero;fill:rgb(93.333333%,67.843137%,5.490196%);fill-opacity:1;stroke-width:1;stroke-linecap:butt;stroke-linejoin:miter;stroke:rgb(0%,0%,0%);stroke-opacity:1;stroke-miterlimit:10;\" d=\"M 97.027344 91.558594 C 97.027344 96.527344 92.996094 100.558594 88.027344 100.558594 C 83.054688 100.558594 79.027344 96.527344 79.027344 91.558594 C 79.027344 86.585938 83.054688 82.558594 88.027344 82.558594 C 92.996094 82.558594 97.027344 86.585938 97.027344 91.558594 \"/>\n",
       "<path style=\"fill-rule:nonzero;fill:rgb(12.941176%,12.941176%,12.941176%);fill-opacity:1;stroke-width:1;stroke-linecap:butt;stroke-linejoin:miter;stroke:rgb(0%,0%,0%);stroke-opacity:1;stroke-miterlimit:10;\" d=\"M 70.972656 58.441406 C 70.972656 63.414062 66.945312 67.441406 61.972656 67.441406 C 57.003906 67.441406 52.972656 63.414062 52.972656 58.441406 C 52.972656 53.472656 57.003906 49.441406 61.972656 49.441406 C 66.945312 49.441406 70.972656 53.472656 70.972656 58.441406 \"/>\n",
       "<path style=\"fill-rule:nonzero;fill:rgb(12.941176%,12.941176%,12.941176%);fill-opacity:1;stroke-width:1;stroke-linecap:butt;stroke-linejoin:miter;stroke:rgb(0%,0%,0%);stroke-opacity:1;stroke-miterlimit:10;\" d=\"M 29 39.929688 C 29 44.902344 24.96875 48.929688 20 48.929688 C 15.03125 48.929688 11 44.902344 11 39.929688 C 11 34.960938 15.03125 30.929688 20 30.929688 C 24.96875 30.929688 29 34.960938 29 39.929688 \"/>\n",
       "<path style=\"fill-rule:nonzero;fill:rgb(12.941176%,12.941176%,12.941176%);fill-opacity:1;stroke-width:1;stroke-linecap:butt;stroke-linejoin:miter;stroke:rgb(0%,0%,0%);stroke-opacity:1;stroke-miterlimit:10;\" d=\"M 68.136719 20 C 68.136719 24.96875 64.105469 29 59.136719 29 C 54.164062 29 50.136719 24.96875 50.136719 20 C 50.136719 15.03125 54.164062 11 59.136719 11 C 64.105469 11 68.136719 15.03125 68.136719 20 \"/>\n",
       "<g style=\"fill:rgb(0%,0%,0%);fill-opacity:1;\">\n",
       "  <use xlink:href=\"#glyph0-1\" x=\"127.140625\" y=\"114.472656\"/>\n",
       "</g>\n",
       "<g style=\"fill:rgb(0%,0%,0%);fill-opacity:1;\">\n",
       "  <use xlink:href=\"#glyph0-2\" x=\"87.921875\" y=\"134.34375\"/>\n",
       "</g>\n",
       "<g style=\"fill:rgb(0%,0%,0%);fill-opacity:1;\">\n",
       "  <use xlink:href=\"#glyph0-3\" x=\"85.285156\" y=\"95.957031\"/>\n",
       "</g>\n",
       "<g style=\"fill:rgb(0%,0%,0%);fill-opacity:1;\">\n",
       "  <use xlink:href=\"#glyph0-4\" x=\"59.128906\" y=\"62.84375\"/>\n",
       "</g>\n",
       "<g style=\"fill:rgb(0%,0%,0%);fill-opacity:1;\">\n",
       "  <use xlink:href=\"#glyph0-5\" x=\"17.167969\" y=\"44.273438\"/>\n",
       "</g>\n",
       "<g style=\"fill:rgb(0%,0%,0%);fill-opacity:1;\">\n",
       "  <use xlink:href=\"#glyph0-6\" x=\"56.320312\" y=\"24.34375\"/>\n",
       "</g>\n",
       "</g>\n",
       "</svg>\n"
      ],
      "text/plain": [
       "<igraph.drawing.Plot at 0x7f37d5aa4400>"
      ]
     },
     "execution_count": 14,
     "metadata": {
      "image/svg+xml": {
       "isolated": true
      }
     },
     "output_type": "execute_result"
    }
   ],
   "source": [
    "# igraph for visualization\n",
    "import random\n",
    "colors = list((ig.drawing.colors.known_colors).keys())\n",
    "\n",
    "my_colors = []\n",
    "for i in range(len(final_groups)):\n",
    "    my_colors.append(random.choice(colors))\n",
    "    \n",
    "# print(my_colors, type(my_colors), len(my_colors))\n",
    "g.vs[\"group_nbr\"] = 0\n",
    "\n",
    "# to find related group for each vertex\n",
    "for i in range(len(vtx)):\n",
    "    for j in range(len(final_groups)):\n",
    "        if i in final_groups[j]:\n",
    "            g.vs[i][\"group_nbr\"] = j\n",
    "# g.vs[\"group_nbr\"]\n",
    "\n",
    "visual_style = {}\n",
    "visual_style[\"vertex_size\"] = 18\n",
    "visual_style[\"vertex_label\"] = g.vs[\"name\"]\n",
    "visual_style[\"vertex_color\"] = [my_colors[group_nbr] for group_nbr in g.vs[\"group_nbr\"]]\n",
    "visual_style[\"layout\"] = \"kk\"\n",
    "visual_style[\"vertex_label_size\"] = 9\n",
    "visual_style[\"bbox\"] = (150, 150)\n",
    "\n",
    "print(f'maximum degree:{g.maxdegree()} at vertex/vertices:{g.vs.select(_degree = g.maxdegree())[\"name\"]}')\n",
    "ig.plot(g, **visual_style)"
   ]
  },
  {
   "cell_type": "code",
   "execution_count": 15,
   "metadata": {},
   "outputs": [],
   "source": [
    "visual_style[\"vertex_label_size\"] = 12\n",
    "visual_style[\"vertex_size\"] = 25\n",
    "visual_style[\"bbox\"] = (300, 300)\n",
    "ig.plot(g, \"SBM_standard.png\", **visual_style);"
   ]
  },
  {
   "cell_type": "code",
   "execution_count": 16,
   "metadata": {},
   "outputs": [],
   "source": [
    "# print(f'Edge betweenness:{g.edge_betweenness()}')"
   ]
  },
  {
   "cell_type": "markdown",
   "metadata": {},
   "source": [
    "## Degree-Corrected SBM"
   ]
  },
  {
   "cell_type": "code",
   "execution_count": 17,
   "metadata": {},
   "outputs": [],
   "source": [
    "def degree_corrected_SMB(entra_possible, enter_possible, entra_exist, enter_exist, gp_degree):\n",
    "    \n",
    "    # print(f'1: entra_possible:{entra_possible}')\n",
    "    # print(f'1: enter_possible:{enter_possible}') \n",
    "        \n",
    "    k = entra_possible.size # nbr of groups\n",
    "    # print(f'Number of groups:{k}')\n",
    "    m = sum(entra_exist) + sum(enter_exist)\n",
    "    # print(f'All edges in the network:{m}')\n",
    "\n",
    "    E = np.zeros([k,k]) # As entra_possible for diagonal and enter_possible non_diagonal\n",
    "    E[np.diag_indices(k)] = entra_possible # diagonal values\n",
    "    \n",
    "    # index production to save enter_possible values in correct cells\n",
    "    itr = 0\n",
    "    for i in range(k-1):\n",
    "        for j in range(k):\n",
    "            if i < j:\n",
    "                E[i][j] = E[j][i] = enter_possible[itr]\n",
    "                #print(f'E[{i}][{j}] = E[{j}][{i}] = {enter_possible[itr]}, itr:{itr}')\n",
    "                itr +=1\n",
    "    \n",
    "    # print(f'Total edges:\\n{E}')\n",
    "    # print(f'entra_possible:{entra_possible}')\n",
    "    # print(f'enter_possible:{enter_possible}')    \n",
    "    D = np.zeros([k,k]) # D for matrix of total degrees in each group\n",
    "    \n",
    "    # print(f'gp_degree:{gp_degree}')\n",
    "    D[np.diag_indices(k)] = gp_degree           \n",
    "    # print(f'Degree:\\n{D}')\n",
    "    \n",
    "    ## CALCULATION PART\n",
    "    m2 = 2 * m\n",
    "    # print(f'm2:{m2}\\n--*--')\n",
    "    \n",
    "    dc_mle = 0 #equation 10 from lecture 17\n",
    "    for x in range(k):\n",
    "        for y in range(k):\n",
    "            if (E[x][y] == 0):\n",
    "                # print(f'2-> i:{i},j{j}:E=0!')\n",
    "                continue\n",
    "            else:\n",
    "                if x == y:\n",
    "                    p_k = (E[x][y] * 2) / m2\n",
    "                    dc_mle += p_k * np.log(p_k /((D[x][x]/m2) * (D[y][y]/m2)))\n",
    "                    # print(f'3-> x:{x},y:{y}, E:{E[x][y]}')\n",
    "                elif x < y:\n",
    "                    p_k = E[x][y] / m2\n",
    "                    dc_mle += p_k * np.log(p_k /((D[x][x]/m2) * (D[y][y]/m2)))\n",
    "                    # print(f'4-> x:{x},y:{y}, E:{E[x][y]}')\n",
    "                    \n",
    "    # print(f'dc_mle:{dc_mle}')\n",
    "    return dc_mle"
   ]
  },
  {
   "cell_type": "code",
   "execution_count": 18,
   "metadata": {},
   "outputs": [],
   "source": [
    "all_dc_mle = []\n",
    "for i in range(len(entra_exist)):\n",
    "    #print(f\"{i}---\")\n",
    "    dc_mle = degree_corrected_SMB(entra_exist[i], enter_exist[i], entra_exist[i], enter_exist[i], degree[i]) # intra_nbr_tot[i], inter_nbr_tot[i]\n",
    "    all_dc_mle.append(dc_mle)\n",
    "    #print(f\"---{dc_mle}\")\n",
    "    #i += 1\n",
    "    #break"
   ]
  },
  {
   "cell_type": "code",
   "execution_count": 19,
   "metadata": {},
   "outputs": [],
   "source": [
    "# raise SystemExit(\"OK! Stop right there!\")"
   ]
  },
  {
   "cell_type": "code",
   "execution_count": 20,
   "metadata": {},
   "outputs": [
    {
     "name": "stdout",
     "output_type": "stream",
     "text": [
      "(31,)\n"
     ]
    },
    {
     "data": {
      "image/png": "[encoded data removed]",
      "text/plain": [
       "<Figure size 432x288 with 1 Axes>"
      ]
     },
     "metadata": {
      "needs_background": "light"
     },
     "output_type": "display_data"
    }
   ],
   "source": [
    "nbr_graphs = np.array(range(len(combs)))\n",
    "print(nbr_graphs.shape)\n",
    "\n",
    "fig, ax1 = plt.subplots()\n",
    "color = 'tab:blue'\n",
    "ax1.set_xlabel('Possible number of unique graphs')\n",
    "ax1.set_ylabel('log(MLE)', color=color)\n",
    "ax1.plot(nbr_graphs, all_dc_mle, color=color)\n",
    "ax1.tick_params(axis='y', labelcolor=color)\n",
    "\n",
    "fig.tight_layout()\n",
    "plt.show()"
   ]
  },
  {
   "cell_type": "code",
   "execution_count": 21,
   "metadata": {},
   "outputs": [
    {
     "name": "stdout",
     "output_type": "stream",
     "text": [
      "Graph number:[21]\n",
      "Combination1: [(0, 1, 2), (3, 4, 5)]\n",
      " -> MLE: 0.37251393144977674\n",
      "Final: ([(0, 1, 2), (3, 4, 5)], <class 'list'>, 2) groups!\n"
     ]
    }
   ],
   "source": [
    "# Most possible graph\n",
    "max_idx_dc = list(np.where(all_dc_mle == np.amax(all_dc_mle)))\n",
    "print(f'Graph number:{max_idx_dc[0]}')\n",
    "for i in range(len(max_idx_dc[0])):\n",
    "    print(f'Combination{i+1}: {combs[max_idx_dc[0][i]]}')\n",
    "    print(f' -> MLE: {all_dc_mle[max_idx_dc[0][i]]}')\n",
    "final_groups_dc = combs[max_idx_dc[0][i]]\n",
    "print(f'Final: {final_groups_dc,type(final_groups_dc), len(final_groups_dc)} groups!')"
   ]
  },
  {
   "cell_type": "code",
   "execution_count": 22,
   "metadata": {},
   "outputs": [
    {
     "name": "stdout",
     "output_type": "stream",
     "text": [
      "maximum degree:3 at vertex/vertices:[2, 3]\n"
     ]
    },
    {
     "data": {
      "image/svg+xml": [
       "<?xml version=\"1.0\" encoding=\"UTF-8\"?>\n",
       "<svg xmlns=\"http://www.w3.org/2000/svg\" xmlns:xlink=\"http://www.w3.org/1999/xlink\" width=\"150pt\" height=\"150pt\" viewBox=\"0 0 150 150\" version=\"1.1\">\n",
       "<defs>\n",
       "<g>\n",
       "<symbol overflow=\"visible\" id=\"glyph0-0\">\n",
       "<path style=\"stroke:none;\" d=\"M 0.453125 1.59375 L 0.453125 -6.34375 L 4.953125 -6.34375 L 4.953125 1.59375 Z M 0.953125 1.09375 L 4.453125 1.09375 L 4.453125 -5.84375 L 0.953125 -5.84375 Z M 0.953125 1.09375 \"/>\n",
       "</symbol>\n",
       "<symbol overflow=\"visible\" id=\"glyph0-1\">\n",
       "<path style=\"stroke:none;\" d=\"M 2.859375 -5.984375 C 2.398438 -5.984375 2.054688 -5.753906 1.828125 -5.296875 C 1.597656 -4.847656 1.484375 -4.175781 1.484375 -3.28125 C 1.484375 -2.375 1.597656 -1.695312 1.828125 -1.25 C 2.054688 -0.800781 2.398438 -0.578125 2.859375 -0.578125 C 3.316406 -0.578125 3.660156 -0.800781 3.890625 -1.25 C 4.117188 -1.695312 4.234375 -2.375 4.234375 -3.28125 C 4.234375 -4.175781 4.117188 -4.847656 3.890625 -5.296875 C 3.660156 -5.753906 3.316406 -5.984375 2.859375 -5.984375 Z M 2.859375 -6.6875 C 3.597656 -6.6875 4.160156 -6.394531 4.546875 -5.8125 C 4.929688 -5.226562 5.125 -4.382812 5.125 -3.28125 C 5.125 -2.175781 4.929688 -1.332031 4.546875 -0.75 C 4.160156 -0.164062 3.597656 0.125 2.859375 0.125 C 2.128906 0.125 1.566406 -0.164062 1.171875 -0.75 C 0.785156 -1.332031 0.59375 -2.175781 0.59375 -3.28125 C 0.59375 -4.382812 0.785156 -5.226562 1.171875 -5.8125 C 1.566406 -6.394531 2.128906 -6.6875 2.859375 -6.6875 Z M 2.859375 -6.6875 \"/>\n",
       "</symbol>\n",
       "<symbol overflow=\"visible\" id=\"glyph0-2\">\n",
       "<path style=\"stroke:none;\" d=\"M 1.109375 -0.75 L 2.5625 -0.75 L 2.5625 -5.75 L 0.984375 -5.4375 L 0.984375 -6.25 L 2.5625 -6.5625 L 3.453125 -6.5625 L 3.453125 -0.75 L 4.890625 -0.75 L 4.890625 0 L 1.109375 0 Z M 1.109375 -0.75 \"/>\n",
       "</symbol>\n",
       "<symbol overflow=\"visible\" id=\"glyph0-3\">\n",
       "<path style=\"stroke:none;\" d=\"M 1.734375 -0.75 L 4.828125 -0.75 L 4.828125 0 L 0.65625 0 L 0.65625 -0.75 C 1 -1.09375 1.457031 -1.554688 2.03125 -2.140625 C 2.613281 -2.734375 2.984375 -3.113281 3.140625 -3.28125 C 3.421875 -3.601562 3.613281 -3.875 3.71875 -4.09375 C 3.832031 -4.320312 3.890625 -4.539062 3.890625 -4.75 C 3.890625 -5.101562 3.769531 -5.390625 3.53125 -5.609375 C 3.289062 -5.828125 2.972656 -5.9375 2.578125 -5.9375 C 2.296875 -5.9375 2 -5.882812 1.6875 -5.78125 C 1.382812 -5.6875 1.054688 -5.539062 0.703125 -5.34375 L 0.703125 -6.25 C 1.054688 -6.382812 1.390625 -6.488281 1.703125 -6.5625 C 2.015625 -6.644531 2.300781 -6.6875 2.5625 -6.6875 C 3.238281 -6.6875 3.78125 -6.515625 4.1875 -6.171875 C 4.59375 -5.828125 4.796875 -5.375 4.796875 -4.8125 C 4.796875 -4.539062 4.742188 -4.28125 4.640625 -4.03125 C 4.535156 -3.789062 4.351562 -3.507812 4.09375 -3.1875 C 4.019531 -3.101562 3.785156 -2.859375 3.390625 -2.453125 C 2.992188 -2.046875 2.441406 -1.476562 1.734375 -0.75 Z M 1.734375 -0.75 \"/>\n",
       "</symbol>\n",
       "<symbol overflow=\"visible\" id=\"glyph0-4\">\n",
       "<path style=\"stroke:none;\" d=\"M 3.65625 -3.53125 C 4.082031 -3.445312 4.410156 -3.257812 4.640625 -2.96875 C 4.878906 -2.6875 5 -2.332031 5 -1.90625 C 5 -1.257812 4.773438 -0.757812 4.328125 -0.40625 C 3.890625 -0.0507812 3.257812 0.125 2.4375 0.125 C 2.164062 0.125 1.882812 0.0976562 1.59375 0.046875 C 1.300781 -0.00390625 1 -0.0859375 0.6875 -0.203125 L 0.6875 -1.0625 C 0.9375 -0.914062 1.207031 -0.804688 1.5 -0.734375 C 1.789062 -0.660156 2.09375 -0.625 2.40625 -0.625 C 2.96875 -0.625 3.394531 -0.734375 3.6875 -0.953125 C 3.976562 -1.171875 4.125 -1.488281 4.125 -1.90625 C 4.125 -2.289062 3.988281 -2.59375 3.71875 -2.8125 C 3.445312 -3.03125 3.066406 -3.140625 2.578125 -3.140625 L 1.8125 -3.140625 L 1.8125 -3.875 L 2.625 -3.875 C 3.0625 -3.875 3.394531 -3.957031 3.625 -4.125 C 3.851562 -4.300781 3.96875 -4.554688 3.96875 -4.890625 C 3.96875 -5.222656 3.847656 -5.476562 3.609375 -5.65625 C 3.367188 -5.84375 3.023438 -5.9375 2.578125 -5.9375 C 2.335938 -5.9375 2.078125 -5.910156 1.796875 -5.859375 C 1.523438 -5.804688 1.222656 -5.722656 0.890625 -5.609375 L 0.890625 -6.40625 C 1.222656 -6.5 1.535156 -6.566406 1.828125 -6.609375 C 2.117188 -6.660156 2.394531 -6.6875 2.65625 -6.6875 C 3.332031 -6.6875 3.867188 -6.53125 4.265625 -6.21875 C 4.660156 -5.914062 4.859375 -5.503906 4.859375 -4.984375 C 4.859375 -4.617188 4.753906 -4.3125 4.546875 -4.0625 C 4.335938 -3.8125 4.039062 -3.632812 3.65625 -3.53125 Z M 3.65625 -3.53125 \"/>\n",
       "</symbol>\n",
       "<symbol overflow=\"visible\" id=\"glyph0-5\">\n",
       "<path style=\"stroke:none;\" d=\"M 3.40625 -5.78125 L 1.15625 -2.28125 L 3.40625 -2.28125 Z M 3.171875 -6.5625 L 4.28125 -6.5625 L 4.28125 -2.28125 L 5.21875 -2.28125 L 5.21875 -1.546875 L 4.28125 -1.546875 L 4.28125 0 L 3.40625 0 L 3.40625 -1.546875 L 0.4375 -1.546875 L 0.4375 -2.40625 Z M 3.171875 -6.5625 \"/>\n",
       "</symbol>\n",
       "<symbol overflow=\"visible\" id=\"glyph0-6\">\n",
       "<path style=\"stroke:none;\" d=\"M 0.96875 -6.5625 L 4.453125 -6.5625 L 4.453125 -5.8125 L 1.78125 -5.8125 L 1.78125 -4.203125 C 1.914062 -4.242188 2.046875 -4.273438 2.171875 -4.296875 C 2.296875 -4.328125 2.425781 -4.34375 2.5625 -4.34375 C 3.289062 -4.34375 3.867188 -4.140625 4.296875 -3.734375 C 4.722656 -3.335938 4.9375 -2.796875 4.9375 -2.109375 C 4.9375 -1.398438 4.71875 -0.847656 4.28125 -0.453125 C 3.84375 -0.0664062 3.222656 0.125 2.421875 0.125 C 2.148438 0.125 1.867188 0.0976562 1.578125 0.046875 C 1.296875 0.00390625 1 -0.0625 0.6875 -0.15625 L 0.6875 -1.046875 C 0.957031 -0.898438 1.234375 -0.789062 1.515625 -0.71875 C 1.796875 -0.65625 2.09375 -0.625 2.40625 -0.625 C 2.914062 -0.625 3.316406 -0.753906 3.609375 -1.015625 C 3.898438 -1.285156 4.046875 -1.648438 4.046875 -2.109375 C 4.046875 -2.566406 3.898438 -2.925781 3.609375 -3.1875 C 3.316406 -3.457031 2.914062 -3.59375 2.40625 -3.59375 C 2.164062 -3.59375 1.925781 -3.566406 1.6875 -3.515625 C 1.457031 -3.460938 1.21875 -3.378906 0.96875 -3.265625 Z M 0.96875 -6.5625 \"/>\n",
       "</symbol>\n",
       "</g>\n",
       "</defs>\n",
       "<g id=\"surface27\">\n",
       "<rect x=\"0\" y=\"0\" width=\"150\" height=\"150\" style=\"fill:rgb(100%,100%,100%);fill-opacity:1;stroke:none;\"/>\n",
       "<path style=\"fill:none;stroke-width:1;stroke-linecap:butt;stroke-linejoin:miter;stroke:rgb(26.666667%,26.666667%,26.666667%);stroke-opacity:1;stroke-miterlimit:10;\" d=\"M 130 110.070312 L 90.863281 130 \"/>\n",
       "<path style=\"fill:none;stroke-width:1;stroke-linecap:butt;stroke-linejoin:miter;stroke:rgb(26.666667%,26.666667%,26.666667%);stroke-opacity:1;stroke-miterlimit:10;\" d=\"M 130 110.070312 L 88.027344 91.558594 \"/>\n",
       "<path style=\"fill:none;stroke-width:1;stroke-linecap:butt;stroke-linejoin:miter;stroke:rgb(26.666667%,26.666667%,26.666667%);stroke-opacity:1;stroke-miterlimit:10;\" d=\"M 90.863281 130 L 88.027344 91.558594 \"/>\n",
       "<path style=\"fill:none;stroke-width:1;stroke-linecap:butt;stroke-linejoin:miter;stroke:rgb(26.666667%,26.666667%,26.666667%);stroke-opacity:1;stroke-miterlimit:10;\" d=\"M 88.027344 91.558594 L 61.972656 58.441406 \"/>\n",
       "<path style=\"fill:none;stroke-width:1;stroke-linecap:butt;stroke-linejoin:miter;stroke:rgb(26.666667%,26.666667%,26.666667%);stroke-opacity:1;stroke-miterlimit:10;\" d=\"M 61.972656 58.441406 L 20 39.929688 \"/>\n",
       "<path style=\"fill:none;stroke-width:1;stroke-linecap:butt;stroke-linejoin:miter;stroke:rgb(26.666667%,26.666667%,26.666667%);stroke-opacity:1;stroke-miterlimit:10;\" d=\"M 61.972656 58.441406 L 59.136719 20 \"/>\n",
       "<path style=\"fill:none;stroke-width:1;stroke-linecap:butt;stroke-linejoin:miter;stroke:rgb(26.666667%,26.666667%,26.666667%);stroke-opacity:1;stroke-miterlimit:10;\" d=\"M 20 39.929688 L 59.136719 20 \"/>\n",
       "<path style=\"fill-rule:nonzero;fill:rgb(100%,89.411765%,88.235294%);fill-opacity:1;stroke-width:1;stroke-linecap:butt;stroke-linejoin:miter;stroke:rgb(0%,0%,0%);stroke-opacity:1;stroke-miterlimit:10;\" d=\"M 139 110.070312 C 139 115.039062 134.96875 119.070312 130 119.070312 C 125.03125 119.070312 121 115.039062 121 110.070312 C 121 105.097656 125.03125 101.070312 130 101.070312 C 134.96875 101.070312 139 105.097656 139 110.070312 \"/>\n",
       "<path style=\"fill-rule:nonzero;fill:rgb(100%,89.411765%,88.235294%);fill-opacity:1;stroke-width:1;stroke-linecap:butt;stroke-linejoin:miter;stroke:rgb(0%,0%,0%);stroke-opacity:1;stroke-miterlimit:10;\" d=\"M 99.863281 130 C 99.863281 134.96875 95.835938 139 90.863281 139 C 85.894531 139 81.863281 134.96875 81.863281 130 C 81.863281 125.03125 85.894531 121 90.863281 121 C 95.835938 121 99.863281 125.03125 99.863281 130 \"/>\n",
       "<path style=\"fill-rule:nonzero;fill:rgb(100%,89.411765%,88.235294%);fill-opacity:1;stroke-width:1;stroke-linecap:butt;stroke-linejoin:miter;stroke:rgb(0%,0%,0%);stroke-opacity:1;stroke-miterlimit:10;\" d=\"M 97.027344 91.558594 C 97.027344 96.527344 92.996094 100.558594 88.027344 100.558594 C 83.054688 100.558594 79.027344 96.527344 79.027344 91.558594 C 79.027344 86.585938 83.054688 82.558594 88.027344 82.558594 C 92.996094 82.558594 97.027344 86.585938 97.027344 91.558594 \"/>\n",
       "<path style=\"fill-rule:nonzero;fill:rgb(18.039216%,18.039216%,18.039216%);fill-opacity:1;stroke-width:1;stroke-linecap:butt;stroke-linejoin:miter;stroke:rgb(0%,0%,0%);stroke-opacity:1;stroke-miterlimit:10;\" d=\"M 70.972656 58.441406 C 70.972656 63.414062 66.945312 67.441406 61.972656 67.441406 C 57.003906 67.441406 52.972656 63.414062 52.972656 58.441406 C 52.972656 53.472656 57.003906 49.441406 61.972656 49.441406 C 66.945312 49.441406 70.972656 53.472656 70.972656 58.441406 \"/>\n",
       "<path style=\"fill-rule:nonzero;fill:rgb(18.039216%,18.039216%,18.039216%);fill-opacity:1;stroke-width:1;stroke-linecap:butt;stroke-linejoin:miter;stroke:rgb(0%,0%,0%);stroke-opacity:1;stroke-miterlimit:10;\" d=\"M 29 39.929688 C 29 44.902344 24.96875 48.929688 20 48.929688 C 15.03125 48.929688 11 44.902344 11 39.929688 C 11 34.960938 15.03125 30.929688 20 30.929688 C 24.96875 30.929688 29 34.960938 29 39.929688 \"/>\n",
       "<path style=\"fill-rule:nonzero;fill:rgb(18.039216%,18.039216%,18.039216%);fill-opacity:1;stroke-width:1;stroke-linecap:butt;stroke-linejoin:miter;stroke:rgb(0%,0%,0%);stroke-opacity:1;stroke-miterlimit:10;\" d=\"M 68.136719 20 C 68.136719 24.96875 64.105469 29 59.136719 29 C 54.164062 29 50.136719 24.96875 50.136719 20 C 50.136719 15.03125 54.164062 11 59.136719 11 C 64.105469 11 68.136719 15.03125 68.136719 20 \"/>\n",
       "<g style=\"fill:rgb(0%,0%,0%);fill-opacity:1;\">\n",
       "  <use xlink:href=\"#glyph0-1\" x=\"127.140625\" y=\"114.472656\"/>\n",
       "</g>\n",
       "<g style=\"fill:rgb(0%,0%,0%);fill-opacity:1;\">\n",
       "  <use xlink:href=\"#glyph0-2\" x=\"87.921875\" y=\"134.34375\"/>\n",
       "</g>\n",
       "<g style=\"fill:rgb(0%,0%,0%);fill-opacity:1;\">\n",
       "  <use xlink:href=\"#glyph0-3\" x=\"85.285156\" y=\"95.957031\"/>\n",
       "</g>\n",
       "<g style=\"fill:rgb(0%,0%,0%);fill-opacity:1;\">\n",
       "  <use xlink:href=\"#glyph0-4\" x=\"59.128906\" y=\"62.84375\"/>\n",
       "</g>\n",
       "<g style=\"fill:rgb(0%,0%,0%);fill-opacity:1;\">\n",
       "  <use xlink:href=\"#glyph0-5\" x=\"17.167969\" y=\"44.273438\"/>\n",
       "</g>\n",
       "<g style=\"fill:rgb(0%,0%,0%);fill-opacity:1;\">\n",
       "  <use xlink:href=\"#glyph0-6\" x=\"56.320312\" y=\"24.34375\"/>\n",
       "</g>\n",
       "</g>\n",
       "</svg>\n"
      ],
      "text/plain": [
       "<igraph.drawing.Plot at 0x7f37d583db20>"
      ]
     },
     "execution_count": 22,
     "metadata": {
      "image/svg+xml": {
       "isolated": true
      }
     },
     "output_type": "execute_result"
    }
   ],
   "source": [
    "## igraph for visualization\n",
    "import random\n",
    "colors_dc = list((ig.drawing.colors.known_colors).keys())\n",
    "\n",
    "my_colors_dc = []\n",
    "for i in range(len(final_groups_dc)):\n",
    "    my_colors_dc.append(random.choice(colors_dc))\n",
    "    \n",
    "# print(my_colors, type(my_colors), len(my_colors))\n",
    "g.vs[\"group_nbr\"] = 0\n",
    "\n",
    "# to find related group for each vertex\n",
    "for i in range(len(vtx)):\n",
    "    for j in range(len(final_groups_dc)):\n",
    "        if i in final_groups_dc[j]:\n",
    "            g.vs[i][\"group_nbr\"] = j\n",
    "# g.vs[\"group_nbr\"]\n",
    "\n",
    "visual_style = {}\n",
    "visual_style[\"vertex_size\"] = 18\n",
    "visual_style[\"vertex_label\"] = g.vs[\"name\"]\n",
    "visual_style[\"vertex_color\"] = [my_colors_dc[group_nbr] for group_nbr in g.vs[\"group_nbr\"]]\n",
    "visual_style[\"layout\"] = \"kk\"\n",
    "visual_style[\"vertex_label_size\"] = 9\n",
    "visual_style[\"bbox\"] = (150, 150)\n",
    "\n",
    "print(f'maximum degree:{g.maxdegree()} at vertex/vertices:{g.vs.select(_degree = g.maxdegree())[\"name\"]}')\n",
    "ig.plot(g, **visual_style)"
   ]
  },
  {
   "cell_type": "code",
   "execution_count": null,
   "metadata": {},
   "outputs": [],
   "source": []
  },
  {
   "cell_type": "code",
   "execution_count": null,
   "metadata": {},
   "outputs": [],
   "source": []
  }
 ],
 "metadata": {
  "celltoolbar": "Raw Cell Format",
  "kernelspec": {
   "display_name": "Python 3.8.2 64-bit",
   "language": "python",
   "name": "python38264bit4c4573344c624d1daeff9f674ffb864e"
  },
  "language_info": {
   "codemirror_mode": {
    "name": "ipython",
    "version": 3
   },
   "file_extension": ".py",
   "mimetype": "text/x-python",
   "name": "python",
   "nbconvert_exporter": "python",
   "pygments_lexer": "ipython3",
   "version": "3.8.5"
  }
 },
 "nbformat": 4,
 "nbformat_minor": 4
}
