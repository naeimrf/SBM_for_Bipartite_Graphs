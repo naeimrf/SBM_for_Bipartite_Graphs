{
 "cells": [
  {
   "cell_type": "markdown",
   "metadata": {},
   "source": [
    "%Porject 15cr (Naeim Rashidfarokhi - Deepthi H Venkataramana)\n",
    "\n",
    "This code is based on Equations 3 and 10 in Lecture notes nbr.17 by Aaron Clauset"
   ]
  },
  {
   "cell_type": "code",
   "execution_count": 1,
   "metadata": {
    "ExecuteTime": {
     "end_time": "2020-11-27T21:06:36.375165Z",
     "start_time": "2020-11-27T21:06:35.591565Z"
    },
    "hide_input": false
   },
   "outputs": [
    {
     "data": {
      "text/html": [
       "<style>.container { width:100% !important; }</style>"
      ],
      "text/plain": [
       "<IPython.core.display.HTML object>"
      ]
     },
     "metadata": {},
     "output_type": "display_data"
    },
    {
     "data": {
      "text/html": [
       "<font color='green'>Done!</font>"
      ],
      "text/plain": [
       "<IPython.core.display.HTML object>"
      ]
     },
     "metadata": {},
     "output_type": "display_data"
    }
   ],
   "source": [
    "%matplotlib inline\n",
    "import matplotlib.pyplot as plt\n",
    "import numpy as np\n",
    "import pandas as pd\n",
    "import itertools as itt # to generate combinations\n",
    "import igraph as ig\n",
    "import random # to uneven split\n",
    "import copy\n",
    "import time\n",
    "from math import comb # to edge finding\n",
    "from itertools import islice # to uneven split\n",
    "import statistics\n",
    "\n",
    "from IPython.core.display import display, HTML\n",
    "display(HTML(\"<style>.container { width:100% !important; }</style>\"))\n",
    "display(HTML(\"<font color='green'>Done!</font>\"))\n",
    "\n",
    "import matplotlib.pyplot as plt\n",
    "from matplotlib.colors import ListedColormap\n",
    "import scipy.sparse as sparse\n",
    "import math"
   ]
  },
  {
   "cell_type": "markdown",
   "metadata": {},
   "source": [
    "def uneven_split(chunks, mylist)"
   ]
  },
  {
   "cell_type": "code",
   "execution_count": 2,
   "metadata": {
    "hide_input": true
   },
   "outputs": [],
   "source": [
    "# https://stackoverflow.com/questions/3589214/generate-random-numbers-summing-to-a-predefined-value\n",
    "def uneven_split(chunks, mylist):\n",
    "    #Return a randomly chosen list of n positive integers summing to total\n",
    "\n",
    "    length = len(mylist)\n",
    "    dividers = sorted(random.sample(range(1, length), chunks - 1)) \n",
    "    \n",
    "    group_size = [a - b for a, b in zip(dividers + [length], [0] + dividers)]\n",
    "    \n",
    "    # https://stackoverflow.com/questions/38861457/splitting-a-list-into-uneven-groups    \n",
    "    iterator = iter(mylist)\n",
    "    groups =[list(islice(iterator, 0, i)) for i in group_size]\n",
    "\n",
    "    groups_dict = {}\n",
    "    for i in range(len(groups)):\n",
    "        for j in range(len(groups[i])):\n",
    "            groups_dict[groups[i][j]] = i\n",
    "    \n",
    "    return groups, groups_dict"
   ]
  },
  {
   "cell_type": "markdown",
   "metadata": {},
   "source": [
    "def print_my_graph(vtxset, edgeset, groups, save, k)"
   ]
  },
  {
   "cell_type": "code",
   "execution_count": 3,
   "metadata": {
    "ExecuteTime": {
     "end_time": "2020-11-27T21:06:42.195334Z",
     "start_time": "2020-11-27T21:06:42.175740Z"
    },
    "hide_input": true
   },
   "outputs": [],
   "source": [
    "# igraph for visualization\n",
    "def print_my_graph(vtxset, edgeset, groups, save, k, bipartite, graph_size, my_form):\n",
    "    \n",
    "    if (type(groups) is dict):\n",
    "        # print(\"DICT CONVERSION!\")\n",
    "        lst = [[] for _ in range(k)]\n",
    "        for key,value in groups.items():\n",
    "            lst[value].append(key)\n",
    "        # print(lst)\n",
    "        groups = lst\n",
    "    \n",
    "    g = ig.Graph()\n",
    "    g.add_vertices(list(range(len(vtxset))))\n",
    "    # print(edgeset)\n",
    "    g.add_edges(edgeset)\n",
    "    \n",
    "    colors = list((ig.drawing.colors.known_colors).keys())\n",
    "    shapes = ['rectangle', 'circle', 'triangle-up', 'triangle-down', 'diamond'] #hidden #null\n",
    "    \n",
    "    global my_colors\n",
    "    my_colors = []\n",
    "    my_shapes = []\n",
    "    \n",
    "    for i in range(k):\n",
    "        my_colors.append(random.choice(colors))\n",
    "        my_shapes.append(random.choice(shapes))\n",
    "    \n",
    "\n",
    "    # my_colors = ['light green', 'light yellow']\n",
    "    # print(my_colors, type(my_colors), len(my_colors))\n",
    "    g.vs[\"group_nbr\"] = 0\n",
    "    \n",
    "    # to find related group for each vertex\n",
    "    for i in range(len(vtxset)):\n",
    "        for j in range(len(groups)):\n",
    "            if i in groups[j]:\n",
    "                g.vs[i][\"group_nbr\"] = j\n",
    "    # print(f'my_colors:{my_colors}')\n",
    "    \n",
    "    #print(f'edgeset:{edgeset}')\n",
    "    # https://igraph.org/python/doc/igraph.EdgeSeq-class.html\n",
    "    my_intra_edges = []\n",
    "    for i in range(len(groups)):\n",
    "        temp = g.es.select(_within = groups[i])\n",
    "        for j in range(len(temp)):\n",
    "            my_intra_edges.append((temp[j]).tuple)\n",
    "            \n",
    "    #print(f'my_intra_edges:{my_intra_edges}')\n",
    "    \n",
    "    visual_style = {}\n",
    "    visual_style[\"vertex_size\"] = 20\n",
    "    visual_style[\"vertex_label\"] = g.vs[\"name\"]\n",
    "    visual_style[\"vertex_color\"] = [my_colors[group_nbr] for group_nbr in g.vs[\"group_nbr\"]]\n",
    "    \n",
    "    if bipartite:\n",
    "        print(\"A bipartite network!\")\n",
    "        g.es[\"source\"] = [e.source for e in g.es]\n",
    "        # g.es[\"target\"] = [e.target for e in g.es]\n",
    "        visual_style[\"vertex_shape\"] = [shapes[0] if source in set(g.es[\"source\"]) else shapes[1] for source in list(range(g.vcount()))]\n",
    "        # [f(x) if condition else g(x) for x in sequence]\n",
    "        \n",
    "    else:\n",
    "        visual_style[\"vertex_shape\"] = [my_shapes[group_nbr] for group_nbr in g.vs[\"group_nbr\"]]\n",
    "    \n",
    "    inter_ec, intra_ec = 'Hot Pink', 'black'\n",
    "    visual_style[\"edge_color\"] = [intra_ec if edge in my_intra_edges else inter_ec for edge in g.get_edgelist()]\n",
    "    \n",
    "    visual_style[\"layout\"] = my_form #\"kk\" # large circular grid_fr\n",
    "    visual_style[\"vertex_label_size\"] = 9\n",
    "    visual_style[\"bbox\"] = (graph_size, graph_size)\n",
    "    \n",
    "    if save == True:\n",
    "        visual_style[\"vertex_label_size\"] = 9\n",
    "        visual_style[\"vertex_size\"] = 15\n",
    "        visual_style[\"bbox\"] = (graph_size, graph_size)\n",
    "        ig.plot(g, \"SBM.png\", **visual_style);\n",
    "        print(f'A graph with maximum degree:{g.maxdegree()} at vertex/vertices:{g.vs.select(_degree = g.maxdegree())[\"name\"]} saved.')\n",
    "    else:      \n",
    "        ig.summary(g)\n",
    "        \n",
    "        print(f\"Edge colors:\\nInter-edges: {inter_ec}\\nIntra-edges: {intra_ec}\")\n",
    "        return (ig.plot(g, **visual_style))"
   ]
  },
  {
   "cell_type": "markdown",
   "metadata": {},
   "source": [
    "edge_prepping_dict(groups, igraph_obj)"
   ]
  },
  {
   "cell_type": "code",
   "execution_count": 4,
   "metadata": {
    "hide_input": true
   },
   "outputs": [],
   "source": [
    "# params: splited vertices as 'groups' wtih type dictionary and igraph object as 'igraph_obj'\n",
    "def edge_prepping_dict(groups, igraph_obj):\n",
    "    # print(f'groups:{groups}')\n",
    "    gp_ids = list(set(groups.values())) # to get a unique set of values which are group numbers!\n",
    "    k = len(gp_ids)\n",
    "    # print(f'groups:{groups}, gp_ids:{gp_ids}, k:{k}')    \n",
    "    \n",
    "    existing_intra = {} # dictionary to save the number of intra edges of each community\n",
    "    cardinality_each_group = {} # dictionary to save the number of vertices of each community\n",
    "    possible_intra = {} # dictionary to save the number of possible intra edges of each community\n",
    "    degree_each_group = {} # dictionary to save the degree of each community\n",
    "    \n",
    "    #Intra Edges\n",
    "    for i in range(len(gp_ids)): # i as index is needed for keys in dictionaries (group identification)\n",
    "        gp = [k for k,v in groups.items() if v == gp_ids[i]] # one group; to get the keys which are vertices with a value as group id groups.items()[i]\n",
    "        existing_intra[i] = igraph_obj.subgraph(gp).ecount() #subgraph based on vertices\n",
    "        #if existing_intra[i] == 0:\n",
    "            #existing_intra[i] = 1\n",
    "        \n",
    "        # cardinality_each_group[i] = igraph_obj.subgraph(gp).vcount()\n",
    "        cardinality_each_group[i] = sum(value == gp_ids[i] for value in groups.values())\n",
    "  \n",
    "        possible_intra[i] = comb(cardinality_each_group[i], 2)\n",
    "    \n",
    "        degree_each_group[i] = sum(igraph_obj.degree(gp))\n",
    "        \n",
    "    # print(f\"existing_intra:{existing_intra}\")       \n",
    "    # print(f\"cardinality_each_group:{cardinality_each_group}\")\n",
    "    # print(f\"possible_intras:{possible_intra}\")\n",
    "    # print(f\"degree_each_group:{degree_each_group}\")    \n",
    "    \n",
    "    #Inter edges\n",
    "    possible_inter = {}\n",
    "    existing_inter = {}\n",
    "    total_edges_group_pairs = {} # axilary dictionary\n",
    "    intra_two_groups = {} # axilary dictionary\n",
    "    \n",
    "    # https://stackoverflow.com/questions/3294889/iterating-over-dictionaries-using-for-loops\n",
    "    for i in cardinality_each_group.keys():\n",
    "        for j in cardinality_each_group.keys():\n",
    "            if i < j:\n",
    "                possible_inter[(i,j)] = cardinality_each_group[i] * cardinality_each_group[j] # saving inter edges, key shows group numbers\n",
    "    \n",
    "    # print(f\"possible_inter:{possible_inter}\") \n",
    "    \n",
    "    for i in range(len(gp_ids)):\n",
    "        for j in range(len(gp_ids)):\n",
    "            if i < j:\n",
    "                gp1 = [k for k,v in groups.items() if v == gp_ids[i]]\n",
    "                gp2 = [k for k,v in groups.items() if v == gp_ids[j]]\n",
    "                total_edges_group_pairs[(i,j)] = igraph_obj.subgraph(gp1 + gp2).ecount()\n",
    "                intra_two_groups[(i,j)] = existing_intra[i] + existing_intra[j]\n",
    "    \n",
    "    # print(f'total_edges_group_pairs:{total_edges_group_pairs}')\n",
    "    # print(f'intra_two_groups:{intra_two_groups}')    \n",
    "     # https://www.datacamp.com/community/tutorials/python-dictionary-comprehension\n",
    "    existing_inter = {key:(total_edges_group_pairs[key] - intra_two_groups[key]) for (key,value) in zip(total_edges_group_pairs, intra_two_groups)}\n",
    "    \n",
    "    # print(\"total_edges_group_pairs\", total_edges_group_pairs)\n",
    "    # print(\"intra_two_groups\", intra_two_groups) \n",
    "    # print(\"existing_inter\", existing_inter)\n",
    "\n",
    "    # TAKING CARE OF ZERO EXISTING EDGES\n",
    "    for i in range(len(gp_ids)):\n",
    "        if possible_intra[i] == 0:\n",
    "            possible_intra[i] = 1\n",
    "    \n",
    "    return existing_intra, existing_inter, possible_intra, possible_inter, degree_each_group, cardinality_each_group"
   ]
  },
  {
   "cell_type": "markdown",
   "metadata": {},
   "source": [
    "def standard_SBM(intra_exist, inter_exist, intra_nbr_tot, inter_nbr_tot)"
   ]
  },
  {
   "cell_type": "code",
   "execution_count": 5,
   "metadata": {
    "ExecuteTime": {
     "end_time": "2020-11-27T21:06:42.270936Z",
     "start_time": "2020-11-27T21:06:42.250069Z"
    },
    "hide_input": true
   },
   "outputs": [],
   "source": [
    "### Objective-function: maximum probability likelihood\n",
    "def standard_SBM(intra_exist, inter_exist, intra_possible, inter_possible):\n",
    "    \n",
    "    # print(f'ST_SBM->intra_exist:{intra_exist}')\n",
    "    # print(f'ST_SBM->inter_exist:{inter_exist}')\n",
    "    # print(f'ST_SBM->intra_possible:{intra_possible}')\n",
    "    # print(f'ST_SBM->inter_possible:{inter_possible}')\n",
    "\n",
    "    #conversion of dictionaries to list\n",
    "    intra_exist = np.array(list(intra_exist.values()))\n",
    "    inter_exist = np.array(list(inter_exist.values()))\n",
    "    intra_possible = np.array(list(intra_possible.values()))\n",
    "    inter_possible = np.array(list(inter_possible.values()))\n",
    "    \n",
    "    k = intra_exist.size # nbr of groups\n",
    "    \n",
    "    # SM = np.zeros([k,k]) # stochastic_matrix\n",
    "    E = np.zeros([k,k]) # Expected edges as intra_exist for diagonal and inter_exist non_diagonal\n",
    "    N = np.zeros([k,k]) # Possible edges\n",
    "    \n",
    "    E[np.diag_indices(k)] = intra_exist # diagonal values\n",
    "    N[np.diag_indices(k)] = intra_possible # diagonal values\n",
    "    \n",
    "    # index production to save inter_exist and inter_exist_total values in correct cells\n",
    "    itr = 0\n",
    "    for i in range(k-1):\n",
    "        for j in range(k):\n",
    "            if i < j:\n",
    "                E[i][j] = E[j][i] = inter_exist[itr]\n",
    "                N[i][j] = N[j][i] = inter_possible[itr]\n",
    "                itr +=1                  \n",
    "\n",
    "    # print(f'Expected edges inside and between groups:\\n{E}') \n",
    "    \n",
    "    ## CALCULATION PART\n",
    "    log_mle_value = 0 # Equestion 3, Lecture 17 (Aaron Clauset)    \n",
    "    for x in range(k):\n",
    "        for y in range(k):\n",
    "            if x <= y:\n",
    "                if (E[x][y] == 0): # case with 0 edges between a pair of groups 0^0 = 1! (SM[i][j])**E[i][j])\n",
    "                    #log_mle_value += (N[x][y])*np.log(N[x][y])-N[x][y]*np.log(N[x][y]) # E[i][j]*ln(E[i][j])\n",
    "                    pass\n",
    "                    #continue\n",
    "                    \n",
    "                elif (N[x][y]-E[x][y] == 0): # case with all edges between a pair of groups\n",
    "                    #log_mle_value += E[x][y]*np.log(E[x][y])-N[x][y]*np.log(N[x][y])\n",
    "                    pass\n",
    "                    #continue\n",
    "                else:\n",
    "                    log_mle_value += E[x][y]*np.log(E[x][y]) + (N[x][y]-E[x][y])*np.log(N[x][y]-E[x][y])-N[x][y]*np.log(N[x][y])\n",
    "                    # print(f'E[{x}][{y}]:{E[x][y]}, N[{x}][{y}]:{N[x][y]}, log_mle_value:{log_mle_value}')\n",
    "\n",
    "    # SM = E/N\n",
    "    # print(f'E:\\n{E}\\nN:\\n{N}\\n') # SM:\\n{SM}\\n---\n",
    "    # print(f'ST_MLE:{log_mle_value}')\n",
    "    return log_mle_value"
   ]
  },
  {
   "cell_type": "markdown",
   "metadata": {},
   "source": [
    "def degree_corrected_SMB(intra_exist, inter_exist, gp_degree)"
   ]
  },
  {
   "cell_type": "code",
   "execution_count": 6,
   "metadata": {
    "ExecuteTime": {
     "end_time": "2020-11-27T21:06:42.293025Z",
     "start_time": "2020-11-27T21:06:42.276572Z"
    },
    "hide_input": true
   },
   "outputs": [],
   "source": [
    "def degree_corrected_SMB(intra_exist, inter_exist, gp_degree):\n",
    "    \n",
    "    # print(f'DC_SBM->intra_exist:{intra_exist}')\n",
    "    # print(f'DC_SBM->inter_exist:{inter_exist}')\n",
    "    # print(f'DC_SBM->gp_degree:{gp_degree}')\n",
    "    \n",
    "    # print(f'DC_SBM->intra_exist:{intra_exist}')\n",
    "    intra_exist = np.array(list(intra_exist.values()))\n",
    "    inter_exist = np.array(list(inter_exist.values()))\n",
    "    gp_degree = np.array(list(gp_degree.values()))\n",
    "        \n",
    "    k = intra_exist.size # nbr of groups\n",
    "    # print(f'Number of groups:{k}')\n",
    "    m = sum(intra_exist) + sum(inter_exist)\n",
    "    # print(f'All edges in the network:{m}')\n",
    "\n",
    "    E = np.zeros([k,k]) # As intra_exist for diagonal and inter_exist non_diagonal\n",
    "    E[np.diag_indices(k)] = intra_exist # diagonal values\n",
    "    \n",
    "    # index production to save inter_exist values in correct cells\n",
    "    itr = 0\n",
    "    for i in range(k-1):\n",
    "        for j in range(k):\n",
    "            if i < j:\n",
    "                E[i][j] = E[j][i] = inter_exist[itr]\n",
    "                #print(f'E[{i}][{j}] = E[{j}][{i}] = {inter_exist[itr]}, itr:{itr}')\n",
    "                itr +=1\n",
    "    \n",
    "    # print(f'Total edges(E):\\n{E}')\n",
    "    # print(f'intra_exist:{intra_exist}')\n",
    "    # print(f'inter_exist:{inter_exist}')    \n",
    "    D = np.zeros([k,k]) # D for matrix of total degrees in each group\n",
    "    \n",
    "    # print(f'gp_degree:{gp_degree}')\n",
    "    D[np.diag_indices(k)] = gp_degree           \n",
    "    # print(f'Degree:\\n{D}')\n",
    "    \n",
    "    ## CALCULATION PART\n",
    "    m2 = 2 * m\n",
    "    # print(f'm2:{m2}\\n--*--')\n",
    "    \n",
    "    dc_mle = 0 #equation 10 from lecture 17\n",
    "    for x in range(k):\n",
    "        for y in range(k):\n",
    "            if (E[x][y] == 0):\n",
    "                # print(f'2-> i:{i},j{j}:E=0!')\n",
    "                continue\n",
    "            else:\n",
    "                if x == y:\n",
    "                    p_k = (E[x][y] * 2) / m2\n",
    "                    dc_mle += p_k * np.log(p_k /((D[x][x]/m2) * (D[y][y]/m2)))\n",
    "                    # print(f'3-> x:{x},y:{y}, E:{E[x][y]}')\n",
    "                elif x < y:\n",
    "                    p_k = E[x][y] / m2\n",
    "                    dc_mle += p_k * np.log(p_k /((D[x][x]/m2) * (D[y][y]/m2)))\n",
    "                    # print(f'4-> x:{x},y:{y}, E:{E[x][y]}')\n",
    "                    \n",
    "    # print(f'dc_mle:{dc_mle}')\n",
    "    return dc_mle"
   ]
  },
  {
   "cell_type": "markdown",
   "metadata": {},
   "source": [
    "best_mle_whereabouts(key, t, intra_exist, inter_exist, intra_possible, inter_possible, gp_degree, gp_cardi, k_communities_dict)"
   ]
  },
  {
   "cell_type": "code",
   "execution_count": 7,
   "metadata": {
    "hide_input": true
   },
   "outputs": [],
   "source": [
    "# this function reproduces the graph for the best MLE in a step!\n",
    "def best_mle_whereabouts(best_change_instep, intra_exist, inter_exist, intra_possible, inter_possible, gp_degree, gp_cardi, k_communities_dict):\n",
    "    # Six terms needs a copy and an update as below\n",
    "    \n",
    "    # print(f'----------------------------------------------------\\ninside best_mle_whereabouts\\nbest_change_instep:{best_change_instep}')\n",
    "    key = best_change_instep[0]\n",
    "    t = best_change_instep[1]\n",
    "    value = k_communities_dict[key]\n",
    "    ngbr = graph_obj.neighbors(key)\n",
    "    \n",
    "    #print(f'gp_degree[value]:{gp_degree[value]}, graph_obj.degree(key):{graph_obj.degree(key)}')\n",
    "    gp_degree_temp = gp_degree.copy()\n",
    "    gp_degree_temp.update({value: gp_degree_temp[value]-graph_obj.degree(key)})\n",
    "    gp_degree_temp.update({t: gp_degree_temp[t]+graph_obj.degree(key)})\n",
    "\n",
    "    gp_cardi_temp = gp_cardi.copy()\n",
    "    gp_cardi_temp.update({value: gp_cardi_temp[value]-1})\n",
    "    gp_cardi_temp.update({t: gp_cardi_temp[t]+1})\n",
    "\n",
    "    intra_possible_temp = intra_possible.copy()\n",
    "    for i in range(len(gp_cardi)):\n",
    "        intra_possible_temp.update({i: 1 if gp_cardi_temp[i] == 1 else ((gp_cardi_temp[i] * ((gp_cardi_temp[i])-1)) / 2)})\n",
    "                        \n",
    "    inter_possible_temp = inter_possible.copy()\n",
    "    for i in range(len(gp_cardi)):\n",
    "        for j in range(len(gp_cardi)):\n",
    "            if i<j: \n",
    "                inter_possible_temp.update({(i,j):gp_cardi_temp[i] * gp_cardi_temp[j]})\n",
    "    \n",
    "    intra_exist_temp = intra_exist.copy()\n",
    "    inter_exist_temp = inter_exist.copy()\n",
    "    for n in ngbr: # n as key for each neighbor\n",
    "        n_value = k_communities_dict[n] #n_value as group number\n",
    "    \n",
    "        #print(f'2-> value:{value}, n_value:{n_value}, t:{t}')\n",
    "        if t == n_value:\n",
    "            intra_exist_temp.update({t: intra_exist_temp[t]+1})\n",
    "            inter_exist_temp.update({tuple(sorted((value, n_value))): inter_exist_temp[tuple(sorted((value, n_value)))]-1})\n",
    "    \n",
    "        elif value == n_value:\n",
    "            intra_exist_temp.update({value: intra_exist_temp[value]-1})\n",
    "            inter_exist_temp.update({tuple(sorted((t, n_value))): inter_exist_temp[tuple(sorted((t, n_value)))]+1})\n",
    "    \n",
    "        else:\n",
    "            inter_exist_temp.update({tuple(sorted((n_value, t))): inter_exist_temp[tuple(sorted((n_value, t)))]+1})\n",
    "            inter_exist_temp.update({tuple(sorted((value, n_value))): inter_exist_temp[tuple(sorted((value, n_value)))]-1})\n",
    "    \n",
    "    # to update k_communities_dict for next step!\n",
    "    k_communities_dict_temp = k_communities_dict.copy()\n",
    "    k_communities_dict_temp.update({key:t})\n",
    "    \n",
    "    # print(f'----------------------------------------------------\\n')\n",
    "    return intra_exist_temp, inter_exist_temp, intra_possible_temp, inter_possible_temp, gp_degree_temp, gp_cardi_temp, k_communities_dict_temp"
   ]
  },
  {
   "cell_type": "markdown",
   "metadata": {},
   "source": [
    "atomic_group(value, gp_cardi)"
   ]
  },
  {
   "cell_type": "code",
   "execution_count": 8,
   "metadata": {
    "hide_input": true
   },
   "outputs": [],
   "source": [
    "def atomic_group(value, gp_cardi):\n",
    "    # k, v is in cardinality dict. If 1 exists in values it means corresponding k in cardinality is \n",
    "    # an atomic group. \n",
    "    # print(f\"value:{value}, gp_cardi:{gp_cardi}\")\n",
    "    for k, v in gp_cardi.items():\n",
    "        if v == 1:\n",
    "            if k == value: # Now check if the group of our visiting vertex is that atomic group!\n",
    "                return True\n",
    "    return False"
   ]
  },
  {
   "cell_type": "markdown",
   "metadata": {},
   "source": [
    "def local_heuristic(vtx, edges, k, k_communities, graph_obj, mode, iterations, tolerance)"
   ]
  },
  {
   "cell_type": "code",
   "execution_count": 9,
   "metadata": {
    "ExecuteTime": {
     "end_time": "2020-11-27T21:06:42.430942Z",
     "start_time": "2020-11-27T21:06:42.425446Z"
    },
    "hide_input": true
   },
   "outputs": [],
   "source": [
    "# param 'itr' is for several-runs with different random initial conditions\n",
    "def local_heuristic(vtx, edges, k, k_communities_dict, graph_obj, mode, iterations):\n",
    "    execution_time = time.time()\n",
    "    \n",
    "    # validity check for nbr of groups (k)\n",
    "    nbr_vertices = len(k_communities_dict.keys())\n",
    "    \n",
    "    if k > nbr_vertices:\n",
    "        k = nbr_vertices\n",
    "        print(f'Selected number of groups exceeds number of vertices. Program continues with {k} vertices for grouping!')\n",
    "    \n",
    "    mode = int(mode)\n",
    "    SBM = ['Standard SBM', 'Degree corrected SBM']\n",
    "    if (mode != 0) and (mode != 1):\n",
    "        print (f\"Entered mode:{mode}\\nSet mode to: 0 -> {SBM[0]} or 1 -> {SBM[1]}\")\n",
    "        return\n",
    "    else:\n",
    "        print (f\"---\\nSelected mode -> {[SBM[0] if mode==0 else SBM[1]]}\") \n",
    "    \n",
    "    itr = 0 # counter\n",
    "    iterations_mle = [] # collection of best communities for iterations\n",
    "    iterations_community = []\n",
    "    \n",
    "    gp_ids = list(set(k_communities_dict.values())) # to get a unique set of values which are group numbers!\n",
    "    print(f'gp_ids:{gp_ids}')\n",
    "    \n",
    "    flag = False # to run the algorithm with first randomized-graph and plot it outside the method\n",
    "    for iteration in range(iterations): # 3th-FOR (most outer for-loop)\n",
    "        \n",
    "        one_move = [False] * len(vtx)\n",
    "        vertex_watch = dict(zip(vtx, one_move)) # vtx:keys one_move:values changes to True if vtx moves!\n",
    "\n",
    "        ### Step1: divide the network\n",
    "        if flag:\n",
    "            random.shuffle(vtx)\n",
    "            _, k_communities_dict = uneven_split(k, vtx)\n",
    "        flag = True\n",
    "\n",
    "        ### Step2: move one vtx from one community to another\n",
    "        intra_exist, inter_exist, intra_possible, inter_possible, gp_degree, gp_cardi = edge_prepping_dict(k_communities_dict, graph_obj)\n",
    "\n",
    "        if mode == 0:\n",
    "            new_mle = standard_SBM(intra_exist, inter_exist, intra_possible, inter_possible)\n",
    "        elif mode == 1:\n",
    "            new_mle = degree_corrected_SMB(intra_exist, inter_exist, gp_degree)\n",
    "\n",
    "    \n",
    "        good_move = () # to save that move which leads to best MLE in each step \n",
    "        state_mles = [] # to keep the best MLEs of all steps!\n",
    "        state_mles.append(new_mle)\n",
    "        state_communities = [] # to keep corresponding communities for best MLEs in state_mles\n",
    "        state_communities.append(k_communities_dict)\n",
    "        \n",
    "        #print(f'k_communities_dict:{k_communities_dict}')\n",
    "        for key in vertex_watch.keys(): # 2nd-FOR\n",
    "            #print(f'key1: {key}')\n",
    "            old_mle = None\n",
    "            for key, value in k_communities_dict.items(): # 1st-FOR\n",
    "                if (vertex_watch[key] == True): # subject to the restriction that each vertex may be moved only once\n",
    "                    #print(f\"key2: {key}, Vertex_watch: {vertex_watch[key]}\")\n",
    "                    continue\n",
    "                if atomic_group(value, gp_cardi):\n",
    "                    # vertex_watch.update({key: True})\n",
    "                    # print(f'key2: {key}, Atomic_group!')\n",
    "                    continue\n",
    "                #print(f'key2: {key}')\n",
    "                #print(f'vertex_watch:{vertex_watch}')\n",
    "                target = copy.deepcopy(gp_ids)\n",
    "                # print(f'k:{k}, target:{target}, value:{value}')\n",
    "                target.remove(value)\n",
    "                ngbr = graph_obj.neighbors(key)\n",
    "                for t in target:\n",
    "                    move = (key, t)\n",
    "                    # Six terms need a copy and an update as below\n",
    "                    \n",
    "                    gp_degree_temp = gp_degree.copy()\n",
    "                    gp_degree_temp.update({value: gp_degree_temp[value]-graph_obj.degree(key)})\n",
    "                    gp_degree_temp.update({t: gp_degree_temp[t]+graph_obj.degree(key)})\n",
    "\n",
    "                    gp_cardi_temp = gp_cardi.copy()\n",
    "                    gp_cardi_temp.update({value: gp_cardi_temp[value]-1})\n",
    "                    gp_cardi_temp.update({t: gp_cardi_temp[t]+1})\n",
    "\n",
    "                    intra_possible_temp = intra_possible.copy()\n",
    "                    for i in range(len(gp_ids)):\n",
    "                        intra_possible_temp.update({i: 1 if gp_cardi_temp[i] == 1 else ((gp_cardi_temp[i] * ((gp_cardi_temp[i])-1)) / 2)})\n",
    "                    \n",
    "                    inter_possible_temp = inter_possible.copy()\n",
    "                    for i in range(len(gp_ids)):\n",
    "                        for j in range(len(gp_ids)):\n",
    "                            if i<j: \n",
    "                                inter_possible_temp.update({(i,j):gp_cardi_temp[i] * gp_cardi_temp[j]})\n",
    "                                \n",
    "                    intra_exist_temp = intra_exist.copy()\n",
    "                    inter_exist_temp = inter_exist.copy()\n",
    "\n",
    "                    for n in ngbr: # n as key for each neighbor\n",
    "                        n_value = k_communities_dict[n] #n_value as group number\n",
    "\n",
    "                        if t == n_value:\n",
    "                            intra_exist_temp.update({t: intra_exist_temp[t]+1})\n",
    "                            inter_exist_temp.update({tuple(sorted((value, n_value))): (inter_exist_temp[tuple(sorted((value, n_value)))])-1})\n",
    "\n",
    "                        elif value == n_value:\n",
    "                            intra_exist_temp.update({value: intra_exist_temp[value]-1})\n",
    "                            inter_exist_temp.update({tuple(sorted((t, n_value))): inter_exist_temp[tuple(sorted((t, n_value)))]+1})\n",
    "\n",
    "                        else:\n",
    "                            inter_exist_temp.update({tuple(sorted((n_value, t))): inter_exist_temp[tuple(sorted((n_value, t)))]+1})\n",
    "                            inter_exist_temp.update({tuple(sorted((value, n_value))): inter_exist_temp[tuple(sorted((value, n_value)))]-1})\n",
    "\n",
    "                    if mode == 0:\n",
    "                        new_mle = standard_SBM(intra_exist_temp, inter_exist_temp, intra_possible_temp, inter_possible_temp) \n",
    "                    if mode == 1:\n",
    "                        new_mle = degree_corrected_SMB(intra_exist_temp, inter_exist_temp, gp_degree_temp)\n",
    "\n",
    "                    if (old_mle is None) or (new_mle > old_mle):\n",
    "                        # print(f'new_mle:{new_mle}, old_mle:{old_mle}')\n",
    "                        old_mle = new_mle\n",
    "                        good_move = move\n",
    "                        # print(f'good_move:{good_move}')\n",
    "\n",
    "            if (old_mle is not None):\n",
    "                #print(f\"--- > good_move:{old_mle}\")\n",
    "                vertex_watch.update({good_move[0]: True})\n",
    "                #print(f'{vertex_watch}, good_move[0]:{good_move[0]}')\n",
    "                intra_exist, inter_exist, intra_possible, inter_possible, gp_degree, gp_cardi, k_communities_dict = best_mle_whereabouts(good_move, intra_exist, inter_exist, intra_possible, inter_possible, gp_degree, gp_cardi, k_communities_dict)\n",
    "                state_communities.append(k_communities_dict)\n",
    "                state_mles.append(old_mle)\n",
    "                # print(f'state_mle:{state_mles}')\n",
    "                # print(f'state_communities:{state_communities}\\n')\n",
    "\n",
    "        state_mles_np = np.array(state_mles)\n",
    "        state_communities_np = np.array(state_communities)\n",
    "        \n",
    "        # mle_accumulated_array = np.add.accumulate(state_mles_np)\n",
    "        if mode == 0:\n",
    "            #print(f'state_mles_np:{state_mles_np}')\n",
    "            #print(f'vertex_watch:{vertex_watch}')\n",
    "            mle_accumulated_array = state_mles_np[:-1]/state_mles_np[1:]\n",
    "            # print(f'mle_accumulated_array:{mle_accumulated_array}')\n",
    "            index = np.argmax(mle_accumulated_array) + 1\n",
    "        if mode == 1:\n",
    "            mle_accumulated_array = np.diff(state_mles_np)\n",
    "            # print(f'mle_accumulatmath.ceil(4.2)ed_array:{mle_accumulated_array}')\n",
    "            index = np.argmax(mle_accumulated_array) + 1\n",
    "        \n",
    "        # print(f'index:{index}')\n",
    "        \n",
    "        peak_community = state_communities_np[index] # one structure with best MLE\n",
    "        peak_community_mle = state_mles_np[index] # one number as the best MLE in one iteration\n",
    "        # print(f'peak_community:{peak_community}')\n",
    "        # print(f'peak_community_mle:{peak_community_mle}\\n')\n",
    "        iterations_mle.append(peak_community_mle)\n",
    "        iterations_community.append(peak_community)\n",
    "        # print(f'iterations_mle:{iterations_mle}')\n",
    "        # print(f'iterations_community:{iterations_community}\\n')\n",
    "        \n",
    "        itr += 1\n",
    "        if itr % 25 == 0:\n",
    "            print(f\"{itr}\", end=\" \")\n",
    "        else:\n",
    "            print(\"*\", end=\" \")\n",
    "    \n",
    "    iterations_mle_np = np.array(iterations_mle)\n",
    "    iterations_community_np = np.array(iterations_community)\n",
    "    result_index = np.argmax(iterations_mle_np)\n",
    "    MLE = iterations_mle_np[result_index]\n",
    "    COMMUNITY = iterations_community_np[result_index]\n",
    "    \n",
    "    print(f'\\nlog(MLE) value:{MLE}')\n",
    "    print(f\"Execution_time_local_heuristic:{round((time.time() - execution_time), 4)}s after {itr} iterations!\")   \n",
    "    return COMMUNITY, MLE"
   ]
  },
  {
   "cell_type": "code",
   "execution_count": 10,
   "metadata": {},
   "outputs": [],
   "source": [
    "# raise SystemExit(\"OK! Stop right here!\")"
   ]
  },
  {
   "cell_type": "markdown",
   "metadata": {},
   "source": [
    "def build_graph(case) #Initial graph generation and plot"
   ]
  },
  {
   "cell_type": "code",
   "execution_count": 11,
   "metadata": {
    "hide_input": false
   },
   "outputs": [],
   "source": [
    "def build_graph(case, name, size):\n",
    "    \n",
    "    if case == 99:     \n",
    "        graph_obj = ig.Graph.Read_GML(name) # replace your file name to read it!\n",
    "        vtx = list(range(graph_obj.vcount()))\n",
    "        edges = graph_obj.get_edgelist()\n",
    "        graph_size = (0, 0, size, size)\n",
    "        color = 'black' # Honeydew Linen\n",
    "        label = 10\n",
    "        node_size = 16\n",
    "        \n",
    "    else:\n",
    "        vtx = dict_graph_vtx[case]\n",
    "        edges = dict_graph_edges[case]\n",
    "        graph_obj = ig.Graph()\n",
    "        graph_obj.add_vertices(vtx)\n",
    "        graph_obj.add_edges(edges)\n",
    "        graph_size = (0, 0, size, size)\n",
    "        color = 'black' #'lightblue'\n",
    "        label = 10\n",
    "        node_size = 14\n",
    "        \n",
    "    # https://en.wikipedia.org/wiki/X11_color_names\n",
    "    ig.summary(graph_obj)\n",
    "    return graph_obj, vtx, edges, graph_size, node_size, label, color"
   ]
  },
  {
   "cell_type": "markdown",
   "metadata": {},
   "source": [
    "def stochastic_BM(k, i_graph, result)"
   ]
  },
  {
   "cell_type": "code",
   "execution_count": 12,
   "metadata": {
    "hide_input": true
   },
   "outputs": [],
   "source": [
    "def stochastic_BM(k, i_graph, result):\n",
    "    print(f\"Number of groups:{k}\")\n",
    "    \n",
    "    lst = [[] for _ in range(k)]\n",
    "    # print(f'k_communities_dict:{result}')\n",
    "    for key,value in result.items():\n",
    "        lst[value].append(key)          \n",
    "    # print(f'Communities:{lst}')\n",
    "    \n",
    "    existing_intra, existing_inter, possible_intra, possible_inter, degree_each_group, cardinality_each_group = edge_prepping_dict(result, i_graph)\n",
    "    print(f'Degree of groups:{degree_each_group}')\n",
    "    print(f'Cardinality of groups:{cardinality_each_group}')\n",
    "    \n",
    "    existing_intra = np.array(list(existing_intra.values()))\n",
    "    existing_inter = np.array(list(existing_inter.values()))\n",
    "    possible_intra = np.array(list(possible_intra.values()))\n",
    "    possible_inter = np.array(list(possible_inter.values()))\n",
    "    # -------------------------------------------------- #\n",
    "    M = np.zeros([k,k]) # stochastic_matrix\n",
    "    E = np.zeros([k,k]) # Expected edges as intra_exist for diagonal and inter_exist non_diagonal\n",
    "    N = np.zeros([k,k]) # Possible edges\n",
    "    \n",
    "    E[np.diag_indices(k)] = existing_intra # diagonal values\n",
    "    N[np.diag_indices(k)] = possible_intra # diagonal values\n",
    "    \n",
    "    # index production to save inter_exist and inter_exist_total values in correct cells\n",
    "    itr = 0\n",
    "    for i in range(k-1):\n",
    "        for j in range(k):\n",
    "            if i < j:\n",
    "                E[i][j] = E[j][i] = existing_inter[itr]\n",
    "                N[i][j] = N[j][i] = possible_inter[itr]\n",
    "                itr +=1\n",
    "    M = E/N\n",
    "    return M"
   ]
  },
  {
   "cell_type": "markdown",
   "metadata": {},
   "source": [
    "def print_M(stochastic_matrix, mode, gp_colors)"
   ]
  },
  {
   "cell_type": "code",
   "execution_count": 13,
   "metadata": {
    "hide_input": false
   },
   "outputs": [],
   "source": [
    "def print_M(stochastic_matrix, mode, gp_colors):\n",
    "    \n",
    "    k = len(stochastic_matrix) \n",
    "    fig, ax = plt.subplots()\n",
    "    # https://matplotlib.org/3.3.3/tutorials/colors/colormaps.html\n",
    "    #im = ax.imshow(stochastic_matrix, cmap = 'Pastel1')  # 'binary' 'copper'\n",
    "    \n",
    "    stochastic_matrix = np.ma.masked_where(stochastic_matrix==0, stochastic_matrix)\n",
    "    cmap = plt.cm.OrRd\n",
    "    cmap.set_bad(color='lightgray')\n",
    "    im = ax.imshow(stochastic_matrix, cmap = cmap)  # 'binary' 'copper'\n",
    "    \n",
    "    ax.set_xticks(np.arange(k))\n",
    "    ax.set_yticks(np.arange(k))\n",
    "    \n",
    "    ax.set_xticklabels(gp_colors)\n",
    "    ax.set_yticklabels(gp_colors)\n",
    "    \n",
    "    if k > 3:\n",
    "        plt.setp(ax.get_xticklabels(), rotation=45, ha=\"right\", rotation_mode=\"anchor\")\n",
    "    \n",
    "    for i in range(k):\n",
    "        for j in range(k):\n",
    "            if stochastic_matrix[i, j] != 'masked':\n",
    "                value = round(stochastic_matrix[i, j],2)\n",
    "                text = ax.text(j, i, value, ha=\"center\", va=\"center\", color=\"k\", fontsize=10, weight='bold')\n",
    "            else:\n",
    "                value = 0\n",
    "                text = ax.text(j, i, value, ha=\"center\", va=\"center\", color=\"k\", fontsize=10) # weight='bold'\n",
    "            \n",
    "    if mode == 0:\n",
    "        ax.set_title(\"Standard Stochastic BLock Matrix\\nProbability of existing edge between groups\")\n",
    "    elif mode == 1:\n",
    "        ax.set_title(\"Degree Corrected Stochastic BLock Matrix\\nProbability of existing edge between groups\")  \n",
    "    # cb = colorbar(label='a label')\n",
    "    fig.tight_layout()\n",
    "    plt.show()"
   ]
  },
  {
   "cell_type": "markdown",
   "metadata": {},
   "source": [
    "Input data!"
   ]
  },
  {
   "cell_type": "code",
   "execution_count": 14,
   "metadata": {
    "ExecuteTime": {
     "end_time": "2020-11-27T21:06:42.171302Z",
     "start_time": "2020-11-27T21:06:36.378279Z"
    },
    "hide_input": false
   },
   "outputs": [
    {
     "name": "stdout",
     "output_type": "stream",
     "text": [
      "Enter the nbr of groups:3\n",
      "Enter node numbers to run (6, 11, 32, 35 or 99 for gml file):11\n"
     ]
    }
   ],
   "source": [
    "# Input data!\n",
    "k = int(input(\"Enter the nbr of groups:\"))\n",
    "case = int(input(\"Enter node numbers to run (6, 11, 32, 35 or 99 for gml file):\"))\n",
    "\n",
    "edges6 = np.array([[0,1], [0,2], [1,2], [2,3], [3,4], [3,5], [4,5]])\n",
    "edges11 = np.array([[0,1], [0,2], [1,2], [10,3], [3,4], [3,5], [4,5],[6,7], [7,3], [6,4], [6,5], [0,9], [3,8], [7,8], [0,3], [4,2], [1,9]])\n",
    "edges32 = np.array([[0,23],[0,24],[0,28],[0,30],[1,25],[1,26],[1,27],[1,28],[1,29],[1,30],[2,26],[2,28],[2,29],[3,26],[3,28],[3,29],[4,25],[4,26],[4,28],[4,29],[4,30],[5,19],[5,21],[5,22],[5,23],[5,24],[5,25],[5,26],[5,27],[5,28],[5,29],[5,31],[6,15],[6,16],[6,17],[6,19],[6,20],[6,21],[6,22],[6,28],[7,15],[7,16],[7,17],[7,18],[7,19],[7,20],[7,21],[7,22],[7,25],[7,26],[7,27],[7,29],[7,30],[7,31],[8,14], [8, 15], [8, 16], [8, 17],[8, 18], [8, 19], [8, 27], [8, 28], [8, 29], [8, 30],[9, 17], [9, 18], [9, 21],[10, 16], [10, 17], [10, 21],[11, 14], [11, 16], [11, 17], [11, 18], [11, 20], [11, 21],[12, 16], [12, 18], [12, 21],[13, 14], [13, 15], [13, 16], [13, 17], [13, 18], [13, 20]])\n",
    "edges35 = np.array([[2, 1],[3, 1],[3, 2],[4, 1], [4, 2], [4, 3],[5, 1],[6, 1],[7, 1], [7, 5], [7, 6],[8, 1],[8, 2], [8, 3], [8, 4],[9, 1],[9, 3],[10, 3],[11, 1],[11, 5], [11, 6],[12, 1],[13, 1], [13, 4],[14, 1], [14, 2], [14, 3], [14, 4],[17, 6], [17, 7],[18, 1], [18, 2],[20, 1], [20, 2],[22, 1], [22, 2],[26, 24], [26, 25],[28, 3], [28, 24], [28, 25],[29, 3],[30, 24], [30, 27],[31, 2], [31, 9], [32, 1], [32, 25], [32, 26], [32, 29],[33, 3], [33, 9], [33, 15], [33, 16], [33, 19], [33, 21], [33, 23], [33, 24], [33, 30], [33, 31], [33, 32],[34, 9], [34, 10], [34, 14], [34, 15], [34, 16], [34, 19], [34, 20], [34, 21], [34, 23], [34, 24], [34, 27], [34, 28], [34, 29], [34, 30], [34, 31], [34, 32], [34, 33]])\n",
    "\n",
    "dict_graph_vtx = {6:[0,1,2,3,4,5], 11:list(range(11)), 32:list(range(32)), 35:list(range(35))}\n",
    "dict_graph_edges = {6: edges6, 11: edges11, 32: edges32, 35: edges35}\n",
    "\n",
    "name = \"datasets/user_provider.gml\"\n",
    "bipartite = False # True or False <- FOR VERTEX TYPE REPRESENTATION"
   ]
  },
  {
   "cell_type": "code",
   "execution_count": 15,
   "metadata": {
    "scrolled": true
   },
   "outputs": [
    {
     "name": "stdout",
     "output_type": "stream",
     "text": [
      "IGRAPH UN-- 11 17 -- \n",
      "+ attr: name (v)\n"
     ]
    },
    {
     "data": {
      "image/svg+xml": [
       "<?xml version=\"1.0\" encoding=\"UTF-8\"?>\n",
       "<svg xmlns=\"http://www.w3.org/2000/svg\" xmlns:xlink=\"http://www.w3.org/1999/xlink\" width=\"150pt\" height=\"150pt\" viewBox=\"0 0 150 150\" version=\"1.1\">\n",
       "<g id=\"surface2\">\n",
       "<rect x=\"0\" y=\"0\" width=\"150\" height=\"150\" style=\"fill:rgb(100%,100%,100%);fill-opacity:1;stroke:none;\"/>\n",
       "<path style=\"fill:none;stroke-width:1;stroke-linecap:butt;stroke-linejoin:miter;stroke:rgb(26.666667%,26.666667%,26.666667%);stroke-opacity:1;stroke-miterlimit:10;\" d=\"M 97.304688 89.507812 L 110.878906 125.691406 \"/>\n",
       "<path style=\"fill:none;stroke-width:1;stroke-linecap:butt;stroke-linejoin:miter;stroke:rgb(26.666667%,26.666667%,26.666667%);stroke-opacity:1;stroke-miterlimit:10;\" d=\"M 97.304688 89.507812 L 80.703125 130 \"/>\n",
       "<path style=\"fill:none;stroke-width:1;stroke-linecap:butt;stroke-linejoin:miter;stroke:rgb(26.666667%,26.666667%,26.666667%);stroke-opacity:1;stroke-miterlimit:10;\" d=\"M 110.878906 125.691406 L 80.703125 130 \"/>\n",
       "<path style=\"fill:none;stroke-width:1;stroke-linecap:butt;stroke-linejoin:miter;stroke:rgb(26.666667%,26.666667%,26.666667%);stroke-opacity:1;stroke-miterlimit:10;\" d=\"M 69.394531 60.039062 L 90.558594 22.722656 \"/>\n",
       "<path style=\"fill:none;stroke-width:1;stroke-linecap:butt;stroke-linejoin:miter;stroke:rgb(26.666667%,26.666667%,26.666667%);stroke-opacity:1;stroke-miterlimit:10;\" d=\"M 69.394531 60.039062 L 53.96875 105.304688 \"/>\n",
       "<path style=\"fill:none;stroke-width:1;stroke-linecap:butt;stroke-linejoin:miter;stroke:rgb(26.666667%,26.666667%,26.666667%);stroke-opacity:1;stroke-miterlimit:10;\" d=\"M 69.394531 60.039062 L 42.820312 79.414062 \"/>\n",
       "<path style=\"fill:none;stroke-width:1;stroke-linecap:butt;stroke-linejoin:miter;stroke:rgb(26.666667%,26.666667%,26.666667%);stroke-opacity:1;stroke-miterlimit:10;\" d=\"M 53.96875 105.304688 L 42.820312 79.414062 \"/>\n",
       "<path style=\"fill:none;stroke-width:1;stroke-linecap:butt;stroke-linejoin:miter;stroke:rgb(26.666667%,26.666667%,26.666667%);stroke-opacity:1;stroke-miterlimit:10;\" d=\"M 20 89.015625 L 34.871094 45.074219 \"/>\n",
       "<path style=\"fill:none;stroke-width:1;stroke-linecap:butt;stroke-linejoin:miter;stroke:rgb(26.666667%,26.666667%,26.666667%);stroke-opacity:1;stroke-miterlimit:10;\" d=\"M 69.394531 60.039062 L 34.871094 45.074219 \"/>\n",
       "<path style=\"fill:none;stroke-width:1;stroke-linecap:butt;stroke-linejoin:miter;stroke:rgb(26.666667%,26.666667%,26.666667%);stroke-opacity:1;stroke-miterlimit:10;\" d=\"M 53.96875 105.304688 L 20 89.015625 \"/>\n",
       "<path style=\"fill:none;stroke-width:1;stroke-linecap:butt;stroke-linejoin:miter;stroke:rgb(26.666667%,26.666667%,26.666667%);stroke-opacity:1;stroke-miterlimit:10;\" d=\"M 42.820312 79.414062 L 20 89.015625 \"/>\n",
       "<path style=\"fill:none;stroke-width:1;stroke-linecap:butt;stroke-linejoin:miter;stroke:rgb(26.666667%,26.666667%,26.666667%);stroke-opacity:1;stroke-miterlimit:10;\" d=\"M 97.304688 89.507812 L 130 94.515625 \"/>\n",
       "<path style=\"fill:none;stroke-width:1;stroke-linecap:butt;stroke-linejoin:miter;stroke:rgb(26.666667%,26.666667%,26.666667%);stroke-opacity:1;stroke-miterlimit:10;\" d=\"M 69.394531 60.039062 L 54.417969 20 \"/>\n",
       "<path style=\"fill:none;stroke-width:1;stroke-linecap:butt;stroke-linejoin:miter;stroke:rgb(26.666667%,26.666667%,26.666667%);stroke-opacity:1;stroke-miterlimit:10;\" d=\"M 34.871094 45.074219 L 54.417969 20 \"/>\n",
       "<path style=\"fill:none;stroke-width:1;stroke-linecap:butt;stroke-linejoin:miter;stroke:rgb(26.666667%,26.666667%,26.666667%);stroke-opacity:1;stroke-miterlimit:10;\" d=\"M 97.304688 89.507812 L 69.394531 60.039062 \"/>\n",
       "<path style=\"fill:none;stroke-width:1;stroke-linecap:butt;stroke-linejoin:miter;stroke:rgb(26.666667%,26.666667%,26.666667%);stroke-opacity:1;stroke-miterlimit:10;\" d=\"M 80.703125 130 L 53.96875 105.304688 \"/>\n",
       "<path style=\"fill:none;stroke-width:1;stroke-linecap:butt;stroke-linejoin:miter;stroke:rgb(26.666667%,26.666667%,26.666667%);stroke-opacity:1;stroke-miterlimit:10;\" d=\"M 110.878906 125.691406 L 130 94.515625 \"/>\n",
       "<path style=\"fill-rule:nonzero;fill:rgb(0%,0%,0%);fill-opacity:1;stroke-width:1;stroke-linecap:butt;stroke-linejoin:miter;stroke:rgb(0%,0%,0%);stroke-opacity:1;stroke-miterlimit:10;\" d=\"M 104.304688 89.507812 C 104.304688 93.375 101.171875 96.507812 97.304688 96.507812 C 93.441406 96.507812 90.304688 93.375 90.304688 89.507812 C 90.304688 85.644531 93.441406 82.507812 97.304688 82.507812 C 101.171875 82.507812 104.304688 85.644531 104.304688 89.507812 \"/>\n",
       "<path style=\"fill-rule:nonzero;fill:rgb(0%,0%,0%);fill-opacity:1;stroke-width:1;stroke-linecap:butt;stroke-linejoin:miter;stroke:rgb(0%,0%,0%);stroke-opacity:1;stroke-miterlimit:10;\" d=\"M 117.878906 125.691406 C 117.878906 129.558594 114.746094 132.691406 110.878906 132.691406 C 107.015625 132.691406 103.878906 129.558594 103.878906 125.691406 C 103.878906 121.824219 107.015625 118.691406 110.878906 118.691406 C 114.746094 118.691406 117.878906 121.824219 117.878906 125.691406 \"/>\n",
       "<path style=\"fill-rule:nonzero;fill:rgb(0%,0%,0%);fill-opacity:1;stroke-width:1;stroke-linecap:butt;stroke-linejoin:miter;stroke:rgb(0%,0%,0%);stroke-opacity:1;stroke-miterlimit:10;\" d=\"M 87.703125 130 C 87.703125 133.867188 84.566406 137 80.703125 137 C 76.835938 137 73.703125 133.867188 73.703125 130 C 73.703125 126.132812 76.835938 123 80.703125 123 C 84.566406 123 87.703125 126.132812 87.703125 130 \"/>\n",
       "<path style=\"fill-rule:nonzero;fill:rgb(0%,0%,0%);fill-opacity:1;stroke-width:1;stroke-linecap:butt;stroke-linejoin:miter;stroke:rgb(0%,0%,0%);stroke-opacity:1;stroke-miterlimit:10;\" d=\"M 76.394531 60.039062 C 76.394531 63.90625 73.257812 67.039062 69.394531 67.039062 C 65.527344 67.039062 62.394531 63.90625 62.394531 60.039062 C 62.394531 56.171875 65.527344 53.039062 69.394531 53.039062 C 73.257812 53.039062 76.394531 56.171875 76.394531 60.039062 \"/>\n",
       "<path style=\"fill-rule:nonzero;fill:rgb(0%,0%,0%);fill-opacity:1;stroke-width:1;stroke-linecap:butt;stroke-linejoin:miter;stroke:rgb(0%,0%,0%);stroke-opacity:1;stroke-miterlimit:10;\" d=\"M 60.96875 105.304688 C 60.96875 109.171875 57.835938 112.304688 53.96875 112.304688 C 50.101562 112.304688 46.96875 109.171875 46.96875 105.304688 C 46.96875 101.441406 50.101562 98.304688 53.96875 98.304688 C 57.835938 98.304688 60.96875 101.441406 60.96875 105.304688 \"/>\n",
       "<path style=\"fill-rule:nonzero;fill:rgb(0%,0%,0%);fill-opacity:1;stroke-width:1;stroke-linecap:butt;stroke-linejoin:miter;stroke:rgb(0%,0%,0%);stroke-opacity:1;stroke-miterlimit:10;\" d=\"M 49.820312 79.414062 C 49.820312 83.277344 46.6875 86.414062 42.820312 86.414062 C 38.957031 86.414062 35.820312 83.277344 35.820312 79.414062 C 35.820312 75.546875 38.957031 72.414062 42.820312 72.414062 C 46.6875 72.414062 49.820312 75.546875 49.820312 79.414062 \"/>\n",
       "<path style=\"fill-rule:nonzero;fill:rgb(0%,0%,0%);fill-opacity:1;stroke-width:1;stroke-linecap:butt;stroke-linejoin:miter;stroke:rgb(0%,0%,0%);stroke-opacity:1;stroke-miterlimit:10;\" d=\"M 27 89.015625 C 27 92.882812 23.867188 96.015625 20 96.015625 C 16.132812 96.015625 13 92.882812 13 89.015625 C 13 85.152344 16.132812 82.015625 20 82.015625 C 23.867188 82.015625 27 85.152344 27 89.015625 \"/>\n",
       "<path style=\"fill-rule:nonzero;fill:rgb(0%,0%,0%);fill-opacity:1;stroke-width:1;stroke-linecap:butt;stroke-linejoin:miter;stroke:rgb(0%,0%,0%);stroke-opacity:1;stroke-miterlimit:10;\" d=\"M 41.871094 45.074219 C 41.871094 48.941406 38.734375 52.074219 34.871094 52.074219 C 31.003906 52.074219 27.871094 48.941406 27.871094 45.074219 C 27.871094 41.207031 31.003906 38.074219 34.871094 38.074219 C 38.734375 38.074219 41.871094 41.207031 41.871094 45.074219 \"/>\n",
       "<path style=\"fill-rule:nonzero;fill:rgb(0%,0%,0%);fill-opacity:1;stroke-width:1;stroke-linecap:butt;stroke-linejoin:miter;stroke:rgb(0%,0%,0%);stroke-opacity:1;stroke-miterlimit:10;\" d=\"M 61.417969 20 C 61.417969 23.867188 58.285156 27 54.417969 27 C 50.550781 27 47.417969 23.867188 47.417969 20 C 47.417969 16.132812 50.550781 13 54.417969 13 C 58.285156 13 61.417969 16.132812 61.417969 20 \"/>\n",
       "<path style=\"fill-rule:nonzero;fill:rgb(0%,0%,0%);fill-opacity:1;stroke-width:1;stroke-linecap:butt;stroke-linejoin:miter;stroke:rgb(0%,0%,0%);stroke-opacity:1;stroke-miterlimit:10;\" d=\"M 137 94.515625 C 137 98.382812 133.867188 101.515625 130 101.515625 C 126.132812 101.515625 123 98.382812 123 94.515625 C 123 90.648438 126.132812 87.515625 130 87.515625 C 133.867188 87.515625 137 90.648438 137 94.515625 \"/>\n",
       "<path style=\"fill-rule:nonzero;fill:rgb(0%,0%,0%);fill-opacity:1;stroke-width:1;stroke-linecap:butt;stroke-linejoin:miter;stroke:rgb(0%,0%,0%);stroke-opacity:1;stroke-miterlimit:10;\" d=\"M 97.558594 22.722656 C 97.558594 26.589844 94.421875 29.722656 90.558594 29.722656 C 86.691406 29.722656 83.558594 26.589844 83.558594 22.722656 C 83.558594 18.859375 86.691406 15.722656 90.558594 15.722656 C 94.421875 15.722656 97.558594 18.859375 97.558594 22.722656 \"/>\n",
       "</g>\n",
       "</svg>\n"
      ],
      "text/plain": [
       "<igraph.drawing.Plot at 0x7f035ceb8ee0>"
      ]
     },
     "execution_count": 15,
     "metadata": {
      "image/svg+xml": {
       "isolated": true
      }
     },
     "output_type": "execute_result"
    }
   ],
   "source": [
    "my_graph_size = 150\n",
    "my_form ='kk' #'large' #'tree' #circle\n",
    "#check_extra >>>> \n",
    "graph_obj, vtx, edges, graph_size, node_size, label, color = build_graph(case, name, my_graph_size)\n",
    "ig.plot(graph_obj, bbox=graph_size, vertex_color = color, vertex_size = node_size, layout = my_form, vertex_label_size = label)"
   ]
  },
  {
   "cell_type": "code",
   "execution_count": 16,
   "metadata": {},
   "outputs": [],
   "source": [
    "#raise SystemExit(\"OK! Stop right here!\")"
   ]
  },
  {
   "cell_type": "code",
   "execution_count": 17,
   "metadata": {},
   "outputs": [
    {
     "name": "stdout",
     "output_type": "stream",
     "text": [
      "IGRAPH UN-- 11 17 -- \n",
      "+ attr: group_nbr (v), name (v)\n",
      "Edge colors:\n",
      "Inter-edges: Hot Pink\n",
      "Intra-edges: black\n"
     ]
    },
    {
     "data": {
      "image/svg+xml": [
       "<?xml version=\"1.0\" encoding=\"UTF-8\"?>\n",
       "<svg xmlns=\"http://www.w3.org/2000/svg\" xmlns:xlink=\"http://www.w3.org/1999/xlink\" width=\"150pt\" height=\"150pt\" viewBox=\"0 0 150 150\" version=\"1.1\">\n",
       "<defs>\n",
       "<g>\n",
       "<symbol overflow=\"visible\" id=\"glyph0-0\">\n",
       "<path style=\"stroke:none;\" d=\"M 0.453125 1.59375 L 0.453125 -6.34375 L 4.953125 -6.34375 L 4.953125 1.59375 Z M 0.953125 1.09375 L 4.453125 1.09375 L 4.453125 -5.84375 L 0.953125 -5.84375 Z M 0.953125 1.09375 \"/>\n",
       "</symbol>\n",
       "<symbol overflow=\"visible\" id=\"glyph0-1\">\n",
       "<path style=\"stroke:none;\" d=\"M 2.859375 -5.984375 C 2.398438 -5.984375 2.054688 -5.753906 1.828125 -5.296875 C 1.597656 -4.847656 1.484375 -4.175781 1.484375 -3.28125 C 1.484375 -2.375 1.597656 -1.695312 1.828125 -1.25 C 2.054688 -0.800781 2.398438 -0.578125 2.859375 -0.578125 C 3.316406 -0.578125 3.660156 -0.800781 3.890625 -1.25 C 4.117188 -1.695312 4.234375 -2.375 4.234375 -3.28125 C 4.234375 -4.175781 4.117188 -4.847656 3.890625 -5.296875 C 3.660156 -5.753906 3.316406 -5.984375 2.859375 -5.984375 Z M 2.859375 -6.6875 C 3.597656 -6.6875 4.160156 -6.394531 4.546875 -5.8125 C 4.929688 -5.226562 5.125 -4.382812 5.125 -3.28125 C 5.125 -2.175781 4.929688 -1.332031 4.546875 -0.75 C 4.160156 -0.164062 3.597656 0.125 2.859375 0.125 C 2.128906 0.125 1.566406 -0.164062 1.171875 -0.75 C 0.785156 -1.332031 0.59375 -2.175781 0.59375 -3.28125 C 0.59375 -4.382812 0.785156 -5.226562 1.171875 -5.8125 C 1.566406 -6.394531 2.128906 -6.6875 2.859375 -6.6875 Z M 2.859375 -6.6875 \"/>\n",
       "</symbol>\n",
       "<symbol overflow=\"visible\" id=\"glyph0-2\">\n",
       "<path style=\"stroke:none;\" d=\"M 1.109375 -0.75 L 2.5625 -0.75 L 2.5625 -5.75 L 0.984375 -5.4375 L 0.984375 -6.25 L 2.5625 -6.5625 L 3.453125 -6.5625 L 3.453125 -0.75 L 4.890625 -0.75 L 4.890625 0 L 1.109375 0 Z M 1.109375 -0.75 \"/>\n",
       "</symbol>\n",
       "<symbol overflow=\"visible\" id=\"glyph0-3\">\n",
       "<path style=\"stroke:none;\" d=\"M 1.734375 -0.75 L 4.828125 -0.75 L 4.828125 0 L 0.65625 0 L 0.65625 -0.75 C 1 -1.09375 1.457031 -1.554688 2.03125 -2.140625 C 2.613281 -2.734375 2.984375 -3.113281 3.140625 -3.28125 C 3.421875 -3.601562 3.613281 -3.875 3.71875 -4.09375 C 3.832031 -4.320312 3.890625 -4.539062 3.890625 -4.75 C 3.890625 -5.101562 3.769531 -5.390625 3.53125 -5.609375 C 3.289062 -5.828125 2.972656 -5.9375 2.578125 -5.9375 C 2.296875 -5.9375 2 -5.882812 1.6875 -5.78125 C 1.382812 -5.6875 1.054688 -5.539062 0.703125 -5.34375 L 0.703125 -6.25 C 1.054688 -6.382812 1.390625 -6.488281 1.703125 -6.5625 C 2.015625 -6.644531 2.300781 -6.6875 2.5625 -6.6875 C 3.238281 -6.6875 3.78125 -6.515625 4.1875 -6.171875 C 4.59375 -5.828125 4.796875 -5.375 4.796875 -4.8125 C 4.796875 -4.539062 4.742188 -4.28125 4.640625 -4.03125 C 4.535156 -3.789062 4.351562 -3.507812 4.09375 -3.1875 C 4.019531 -3.101562 3.785156 -2.859375 3.390625 -2.453125 C 2.992188 -2.046875 2.441406 -1.476562 1.734375 -0.75 Z M 1.734375 -0.75 \"/>\n",
       "</symbol>\n",
       "<symbol overflow=\"visible\" id=\"glyph0-4\">\n",
       "<path style=\"stroke:none;\" d=\"M 3.65625 -3.53125 C 4.082031 -3.445312 4.410156 -3.257812 4.640625 -2.96875 C 4.878906 -2.6875 5 -2.332031 5 -1.90625 C 5 -1.257812 4.773438 -0.757812 4.328125 -0.40625 C 3.890625 -0.0507812 3.257812 0.125 2.4375 0.125 C 2.164062 0.125 1.882812 0.0976562 1.59375 0.046875 C 1.300781 -0.00390625 1 -0.0859375 0.6875 -0.203125 L 0.6875 -1.0625 C 0.9375 -0.914062 1.207031 -0.804688 1.5 -0.734375 C 1.789062 -0.660156 2.09375 -0.625 2.40625 -0.625 C 2.96875 -0.625 3.394531 -0.734375 3.6875 -0.953125 C 3.976562 -1.171875 4.125 -1.488281 4.125 -1.90625 C 4.125 -2.289062 3.988281 -2.59375 3.71875 -2.8125 C 3.445312 -3.03125 3.066406 -3.140625 2.578125 -3.140625 L 1.8125 -3.140625 L 1.8125 -3.875 L 2.625 -3.875 C 3.0625 -3.875 3.394531 -3.957031 3.625 -4.125 C 3.851562 -4.300781 3.96875 -4.554688 3.96875 -4.890625 C 3.96875 -5.222656 3.847656 -5.476562 3.609375 -5.65625 C 3.367188 -5.84375 3.023438 -5.9375 2.578125 -5.9375 C 2.335938 -5.9375 2.078125 -5.910156 1.796875 -5.859375 C 1.523438 -5.804688 1.222656 -5.722656 0.890625 -5.609375 L 0.890625 -6.40625 C 1.222656 -6.5 1.535156 -6.566406 1.828125 -6.609375 C 2.117188 -6.660156 2.394531 -6.6875 2.65625 -6.6875 C 3.332031 -6.6875 3.867188 -6.53125 4.265625 -6.21875 C 4.660156 -5.914062 4.859375 -5.503906 4.859375 -4.984375 C 4.859375 -4.617188 4.753906 -4.3125 4.546875 -4.0625 C 4.335938 -3.8125 4.039062 -3.632812 3.65625 -3.53125 Z M 3.65625 -3.53125 \"/>\n",
       "</symbol>\n",
       "<symbol overflow=\"visible\" id=\"glyph0-5\">\n",
       "<path style=\"stroke:none;\" d=\"M 3.40625 -5.78125 L 1.15625 -2.28125 L 3.40625 -2.28125 Z M 3.171875 -6.5625 L 4.28125 -6.5625 L 4.28125 -2.28125 L 5.21875 -2.28125 L 5.21875 -1.546875 L 4.28125 -1.546875 L 4.28125 0 L 3.40625 0 L 3.40625 -1.546875 L 0.4375 -1.546875 L 0.4375 -2.40625 Z M 3.171875 -6.5625 \"/>\n",
       "</symbol>\n",
       "<symbol overflow=\"visible\" id=\"glyph0-6\">\n",
       "<path style=\"stroke:none;\" d=\"M 0.96875 -6.5625 L 4.453125 -6.5625 L 4.453125 -5.8125 L 1.78125 -5.8125 L 1.78125 -4.203125 C 1.914062 -4.242188 2.046875 -4.273438 2.171875 -4.296875 C 2.296875 -4.328125 2.425781 -4.34375 2.5625 -4.34375 C 3.289062 -4.34375 3.867188 -4.140625 4.296875 -3.734375 C 4.722656 -3.335938 4.9375 -2.796875 4.9375 -2.109375 C 4.9375 -1.398438 4.71875 -0.847656 4.28125 -0.453125 C 3.84375 -0.0664062 3.222656 0.125 2.421875 0.125 C 2.148438 0.125 1.867188 0.0976562 1.578125 0.046875 C 1.296875 0.00390625 1 -0.0625 0.6875 -0.15625 L 0.6875 -1.046875 C 0.957031 -0.898438 1.234375 -0.789062 1.515625 -0.71875 C 1.796875 -0.65625 2.09375 -0.625 2.40625 -0.625 C 2.914062 -0.625 3.316406 -0.753906 3.609375 -1.015625 C 3.898438 -1.285156 4.046875 -1.648438 4.046875 -2.109375 C 4.046875 -2.566406 3.898438 -2.925781 3.609375 -3.1875 C 3.316406 -3.457031 2.914062 -3.59375 2.40625 -3.59375 C 2.164062 -3.59375 1.925781 -3.566406 1.6875 -3.515625 C 1.457031 -3.460938 1.21875 -3.378906 0.96875 -3.265625 Z M 0.96875 -6.5625 \"/>\n",
       "</symbol>\n",
       "<symbol overflow=\"visible\" id=\"glyph0-7\">\n",
       "<path style=\"stroke:none;\" d=\"M 2.96875 -3.640625 C 2.570312 -3.640625 2.253906 -3.5 2.015625 -3.21875 C 1.785156 -2.945312 1.671875 -2.578125 1.671875 -2.109375 C 1.671875 -1.628906 1.785156 -1.253906 2.015625 -0.984375 C 2.253906 -0.710938 2.570312 -0.578125 2.96875 -0.578125 C 3.363281 -0.578125 3.675781 -0.710938 3.90625 -0.984375 C 4.144531 -1.253906 4.265625 -1.628906 4.265625 -2.109375 C 4.265625 -2.578125 4.144531 -2.945312 3.90625 -3.21875 C 3.675781 -3.5 3.363281 -3.640625 2.96875 -3.640625 Z M 4.734375 -6.421875 L 4.734375 -5.609375 C 4.515625 -5.710938 4.289062 -5.789062 4.0625 -5.84375 C 3.832031 -5.90625 3.609375 -5.9375 3.390625 -5.9375 C 2.796875 -5.9375 2.34375 -5.738281 2.03125 -5.34375 C 1.726562 -4.945312 1.554688 -4.347656 1.515625 -3.546875 C 1.679688 -3.796875 1.894531 -3.988281 2.15625 -4.125 C 2.414062 -4.269531 2.707031 -4.34375 3.03125 -4.34375 C 3.6875 -4.34375 4.203125 -4.140625 4.578125 -3.734375 C 4.960938 -3.335938 5.15625 -2.796875 5.15625 -2.109375 C 5.15625 -1.429688 4.957031 -0.890625 4.5625 -0.484375 C 4.164062 -0.078125 3.632812 0.125 2.96875 0.125 C 2.207031 0.125 1.625 -0.164062 1.21875 -0.75 C 0.820312 -1.332031 0.625 -2.175781 0.625 -3.28125 C 0.625 -4.3125 0.867188 -5.132812 1.359375 -5.75 C 1.859375 -6.375 2.519531 -6.6875 3.34375 -6.6875 C 3.570312 -6.6875 3.796875 -6.660156 4.015625 -6.609375 C 4.242188 -6.566406 4.484375 -6.503906 4.734375 -6.421875 Z M 4.734375 -6.421875 \"/>\n",
       "</symbol>\n",
       "<symbol overflow=\"visible\" id=\"glyph0-8\">\n",
       "<path style=\"stroke:none;\" d=\"M 0.734375 -6.5625 L 4.953125 -6.5625 L 4.953125 -6.1875 L 2.578125 0 L 1.640625 0 L 3.890625 -5.8125 L 0.734375 -5.8125 Z M 0.734375 -6.5625 \"/>\n",
       "</symbol>\n",
       "<symbol overflow=\"visible\" id=\"glyph0-9\">\n",
       "<path style=\"stroke:none;\" d=\"M 2.859375 -3.109375 C 2.441406 -3.109375 2.109375 -2.992188 1.859375 -2.765625 C 1.617188 -2.546875 1.5 -2.238281 1.5 -1.84375 C 1.5 -1.445312 1.617188 -1.132812 1.859375 -0.90625 C 2.109375 -0.6875 2.441406 -0.578125 2.859375 -0.578125 C 3.285156 -0.578125 3.617188 -0.6875 3.859375 -0.90625 C 4.097656 -1.132812 4.21875 -1.445312 4.21875 -1.84375 C 4.21875 -2.238281 4.097656 -2.546875 3.859375 -2.765625 C 3.617188 -2.992188 3.285156 -3.109375 2.859375 -3.109375 Z M 1.96875 -3.5 C 1.59375 -3.59375 1.296875 -3.769531 1.078125 -4.03125 C 0.867188 -4.289062 0.765625 -4.609375 0.765625 -4.984375 C 0.765625 -5.503906 0.953125 -5.914062 1.328125 -6.21875 C 1.703125 -6.53125 2.210938 -6.6875 2.859375 -6.6875 C 3.515625 -6.6875 4.023438 -6.53125 4.390625 -6.21875 C 4.765625 -5.914062 4.953125 -5.503906 4.953125 -4.984375 C 4.953125 -4.609375 4.84375 -4.289062 4.625 -4.03125 C 4.414062 -3.769531 4.125 -3.59375 3.75 -3.5 C 4.175781 -3.394531 4.507812 -3.195312 4.75 -2.90625 C 4.988281 -2.613281 5.109375 -2.257812 5.109375 -1.84375 C 5.109375 -1.207031 4.914062 -0.71875 4.53125 -0.375 C 4.144531 -0.0390625 3.585938 0.125 2.859375 0.125 C 2.140625 0.125 1.582031 -0.0390625 1.1875 -0.375 C 0.800781 -0.71875 0.609375 -1.207031 0.609375 -1.84375 C 0.609375 -2.257812 0.726562 -2.613281 0.96875 -2.90625 C 1.207031 -3.195312 1.539062 -3.394531 1.96875 -3.5 Z M 1.640625 -4.890625 C 1.640625 -4.554688 1.742188 -4.289062 1.953125 -4.09375 C 2.171875 -3.90625 2.472656 -3.8125 2.859375 -3.8125 C 3.242188 -3.8125 3.539062 -3.90625 3.75 -4.09375 C 3.96875 -4.289062 4.078125 -4.554688 4.078125 -4.890625 C 4.078125 -5.234375 3.96875 -5.5 3.75 -5.6875 C 3.539062 -5.882812 3.242188 -5.984375 2.859375 -5.984375 C 2.472656 -5.984375 2.171875 -5.882812 1.953125 -5.6875 C 1.742188 -5.5 1.640625 -5.234375 1.640625 -4.890625 Z M 1.640625 -4.890625 \"/>\n",
       "</symbol>\n",
       "<symbol overflow=\"visible\" id=\"glyph0-10\">\n",
       "<path style=\"stroke:none;\" d=\"M 0.984375 -0.140625 L 0.984375 -0.9375 C 1.210938 -0.832031 1.441406 -0.753906 1.671875 -0.703125 C 1.898438 -0.648438 2.125 -0.625 2.34375 -0.625 C 2.925781 -0.625 3.367188 -0.816406 3.671875 -1.203125 C 3.984375 -1.597656 4.160156 -2.195312 4.203125 -3 C 4.035156 -2.75 3.820312 -2.554688 3.5625 -2.421875 C 3.300781 -2.285156 3.015625 -2.21875 2.703125 -2.21875 C 2.046875 -2.21875 1.523438 -2.414062 1.140625 -2.8125 C 0.753906 -3.21875 0.5625 -3.765625 0.5625 -4.453125 C 0.5625 -5.117188 0.757812 -5.65625 1.15625 -6.0625 C 1.5625 -6.476562 2.09375 -6.6875 2.75 -6.6875 C 3.507812 -6.6875 4.085938 -6.394531 4.484375 -5.8125 C 4.890625 -5.226562 5.09375 -4.382812 5.09375 -3.28125 C 5.09375 -2.238281 4.847656 -1.410156 4.359375 -0.796875 C 3.867188 -0.179688 3.207031 0.125 2.375 0.125 C 2.15625 0.125 1.929688 0.101562 1.703125 0.0625 C 1.472656 0.0195312 1.234375 -0.046875 0.984375 -0.140625 Z M 2.75 -2.921875 C 3.15625 -2.921875 3.472656 -3.054688 3.703125 -3.328125 C 3.929688 -3.597656 4.046875 -3.972656 4.046875 -4.453125 C 4.046875 -4.921875 3.929688 -5.289062 3.703125 -5.5625 C 3.472656 -5.84375 3.15625 -5.984375 2.75 -5.984375 C 2.351562 -5.984375 2.035156 -5.84375 1.796875 -5.5625 C 1.566406 -5.289062 1.453125 -4.921875 1.453125 -4.453125 C 1.453125 -3.972656 1.566406 -3.597656 1.796875 -3.328125 C 2.035156 -3.054688 2.351562 -2.921875 2.75 -2.921875 Z M 2.75 -2.921875 \"/>\n",
       "</symbol>\n",
       "</g>\n",
       "</defs>\n",
       "<g id=\"surface8\">\n",
       "<rect x=\"0\" y=\"0\" width=\"150\" height=\"150\" style=\"fill:rgb(100%,100%,100%);fill-opacity:1;stroke:none;\"/>\n",
       "<path style=\"fill:none;stroke-width:1;stroke-linecap:butt;stroke-linejoin:miter;stroke:rgb(0%,0%,0%);stroke-opacity:1;stroke-miterlimit:10;\" d=\"M 97.304688 89.507812 L 110.878906 125.691406 \"/>\n",
       "<path style=\"fill:none;stroke-width:1;stroke-linecap:butt;stroke-linejoin:miter;stroke:rgb(100%,41.176471%,70.588235%);stroke-opacity:1;stroke-miterlimit:10;\" d=\"M 97.304688 89.507812 L 80.703125 130 \"/>\n",
       "<path style=\"fill:none;stroke-width:1;stroke-linecap:butt;stroke-linejoin:miter;stroke:rgb(100%,41.176471%,70.588235%);stroke-opacity:1;stroke-miterlimit:10;\" d=\"M 110.878906 125.691406 L 80.703125 130 \"/>\n",
       "<path style=\"fill:none;stroke-width:1;stroke-linecap:butt;stroke-linejoin:miter;stroke:rgb(0%,0%,0%);stroke-opacity:1;stroke-miterlimit:10;\" d=\"M 69.394531 60.039062 L 90.558594 22.722656 \"/>\n",
       "<path style=\"fill:none;stroke-width:1;stroke-linecap:butt;stroke-linejoin:miter;stroke:rgb(0%,0%,0%);stroke-opacity:1;stroke-miterlimit:10;\" d=\"M 69.394531 60.039062 L 53.96875 105.304688 \"/>\n",
       "<path style=\"fill:none;stroke-width:1;stroke-linecap:butt;stroke-linejoin:miter;stroke:rgb(0%,0%,0%);stroke-opacity:1;stroke-miterlimit:10;\" d=\"M 69.394531 60.039062 L 42.820312 79.414062 \"/>\n",
       "<path style=\"fill:none;stroke-width:1;stroke-linecap:butt;stroke-linejoin:miter;stroke:rgb(0%,0%,0%);stroke-opacity:1;stroke-miterlimit:10;\" d=\"M 53.96875 105.304688 L 42.820312 79.414062 \"/>\n",
       "<path style=\"fill:none;stroke-width:1;stroke-linecap:butt;stroke-linejoin:miter;stroke:rgb(100%,41.176471%,70.588235%);stroke-opacity:1;stroke-miterlimit:10;\" d=\"M 20 89.015625 L 34.871094 45.074219 \"/>\n",
       "<path style=\"fill:none;stroke-width:1;stroke-linecap:butt;stroke-linejoin:miter;stroke:rgb(100%,41.176471%,70.588235%);stroke-opacity:1;stroke-miterlimit:10;\" d=\"M 69.394531 60.039062 L 34.871094 45.074219 \"/>\n",
       "<path style=\"fill:none;stroke-width:1;stroke-linecap:butt;stroke-linejoin:miter;stroke:rgb(100%,41.176471%,70.588235%);stroke-opacity:1;stroke-miterlimit:10;\" d=\"M 53.96875 105.304688 L 20 89.015625 \"/>\n",
       "<path style=\"fill:none;stroke-width:1;stroke-linecap:butt;stroke-linejoin:miter;stroke:rgb(100%,41.176471%,70.588235%);stroke-opacity:1;stroke-miterlimit:10;\" d=\"M 42.820312 79.414062 L 20 89.015625 \"/>\n",
       "<path style=\"fill:none;stroke-width:1;stroke-linecap:butt;stroke-linejoin:miter;stroke:rgb(100%,41.176471%,70.588235%);stroke-opacity:1;stroke-miterlimit:10;\" d=\"M 97.304688 89.507812 L 130 94.515625 \"/>\n",
       "<path style=\"fill:none;stroke-width:1;stroke-linecap:butt;stroke-linejoin:miter;stroke:rgb(100%,41.176471%,70.588235%);stroke-opacity:1;stroke-miterlimit:10;\" d=\"M 69.394531 60.039062 L 54.417969 20 \"/>\n",
       "<path style=\"fill:none;stroke-width:1;stroke-linecap:butt;stroke-linejoin:miter;stroke:rgb(100%,41.176471%,70.588235%);stroke-opacity:1;stroke-miterlimit:10;\" d=\"M 34.871094 45.074219 L 54.417969 20 \"/>\n",
       "<path style=\"fill:none;stroke-width:1;stroke-linecap:butt;stroke-linejoin:miter;stroke:rgb(100%,41.176471%,70.588235%);stroke-opacity:1;stroke-miterlimit:10;\" d=\"M 97.304688 89.507812 L 69.394531 60.039062 \"/>\n",
       "<path style=\"fill:none;stroke-width:1;stroke-linecap:butt;stroke-linejoin:miter;stroke:rgb(0%,0%,0%);stroke-opacity:1;stroke-miterlimit:10;\" d=\"M 80.703125 130 L 53.96875 105.304688 \"/>\n",
       "<path style=\"fill:none;stroke-width:1;stroke-linecap:butt;stroke-linejoin:miter;stroke:rgb(100%,41.176471%,70.588235%);stroke-opacity:1;stroke-miterlimit:10;\" d=\"M 110.878906 125.691406 L 130 94.515625 \"/>\n",
       "<path style=\"fill-rule:nonzero;fill:rgb(100%,0%,0%);fill-opacity:1;stroke-width:1;stroke-linecap:butt;stroke-linejoin:miter;stroke:rgb(0%,0%,0%);stroke-opacity:1;stroke-miterlimit:10;\" d=\"M 87.304688 99.507812 L 97.304688 79.507812 L 107.304688 99.507812 Z M 87.304688 99.507812 \"/>\n",
       "<path style=\"fill-rule:nonzero;fill:rgb(100%,0%,0%);fill-opacity:1;stroke-width:1;stroke-linecap:butt;stroke-linejoin:miter;stroke:rgb(0%,0%,0%);stroke-opacity:1;stroke-miterlimit:10;\" d=\"M 100.878906 135.691406 L 110.878906 115.691406 L 120.878906 135.691406 Z M 100.878906 135.691406 \"/>\n",
       "<path style=\"fill-rule:nonzero;fill:rgb(56.078431%,56.078431%,56.078431%);fill-opacity:1;stroke-width:1;stroke-linecap:butt;stroke-linejoin:miter;stroke:rgb(0%,0%,0%);stroke-opacity:1;stroke-miterlimit:10;\" d=\"M 70.703125 130 L 80.703125 140 L 90.703125 130 L 80.703125 120 Z M 70.703125 130 \"/>\n",
       "<path style=\"fill-rule:nonzero;fill:rgb(56.078431%,56.078431%,56.078431%);fill-opacity:1;stroke-width:1;stroke-linecap:butt;stroke-linejoin:miter;stroke:rgb(0%,0%,0%);stroke-opacity:1;stroke-miterlimit:10;\" d=\"M 59.394531 60.039062 L 69.394531 70.039062 L 79.394531 60.039062 L 69.394531 50.039062 Z M 59.394531 60.039062 \"/>\n",
       "<path style=\"fill-rule:nonzero;fill:rgb(56.078431%,56.078431%,56.078431%);fill-opacity:1;stroke-width:1;stroke-linecap:butt;stroke-linejoin:miter;stroke:rgb(0%,0%,0%);stroke-opacity:1;stroke-miterlimit:10;\" d=\"M 43.96875 105.304688 L 53.96875 115.304688 L 63.96875 105.304688 L 53.96875 95.304688 Z M 43.96875 105.304688 \"/>\n",
       "<path style=\"fill-rule:nonzero;fill:rgb(56.078431%,56.078431%,56.078431%);fill-opacity:1;stroke-width:1;stroke-linecap:butt;stroke-linejoin:miter;stroke:rgb(0%,0%,0%);stroke-opacity:1;stroke-miterlimit:10;\" d=\"M 32.820312 79.414062 L 42.820312 89.414062 L 52.820312 79.414062 L 42.820312 69.414062 Z M 32.820312 79.414062 \"/>\n",
       "<path style=\"fill-rule:nonzero;fill:rgb(100%,0%,0%);fill-opacity:1;stroke-width:1;stroke-linecap:butt;stroke-linejoin:miter;stroke:rgb(0%,0%,0%);stroke-opacity:1;stroke-miterlimit:10;\" d=\"M 10 99.015625 L 20 79.015625 L 30 99.015625 Z M 10 99.015625 \"/>\n",
       "<path style=\"fill-rule:nonzero;fill:rgb(27.058824%,54.509804%,0%);fill-opacity:1;stroke-width:1;stroke-linecap:butt;stroke-linejoin:miter;stroke:rgb(0%,0%,0%);stroke-opacity:1;stroke-miterlimit:10;\" d=\"M 24.871094 55.074219 L 34.871094 35.074219 L 44.871094 55.074219 Z M 24.871094 55.074219 \"/>\n",
       "<path style=\"fill-rule:nonzero;fill:rgb(100%,0%,0%);fill-opacity:1;stroke-width:1;stroke-linecap:butt;stroke-linejoin:miter;stroke:rgb(0%,0%,0%);stroke-opacity:1;stroke-miterlimit:10;\" d=\"M 44.417969 30 L 54.417969 10 L 64.417969 30 Z M 44.417969 30 \"/>\n",
       "<path style=\"fill-rule:nonzero;fill:rgb(56.078431%,56.078431%,56.078431%);fill-opacity:1;stroke-width:1;stroke-linecap:butt;stroke-linejoin:miter;stroke:rgb(0%,0%,0%);stroke-opacity:1;stroke-miterlimit:10;\" d=\"M 120 94.515625 L 130 104.515625 L 140 94.515625 L 130 84.515625 Z M 120 94.515625 \"/>\n",
       "<path style=\"fill-rule:nonzero;fill:rgb(56.078431%,56.078431%,56.078431%);fill-opacity:1;stroke-width:1;stroke-linecap:butt;stroke-linejoin:miter;stroke:rgb(0%,0%,0%);stroke-opacity:1;stroke-miterlimit:10;\" d=\"M 80.558594 22.722656 L 90.558594 32.722656 L 100.558594 22.722656 L 90.558594 12.722656 Z M 80.558594 22.722656 \"/>\n",
       "<g style=\"fill:rgb(0%,0%,0%);fill-opacity:1;\">\n",
       "  <use xlink:href=\"#glyph0-1\" x=\"94.445312\" y=\"93.910156\"/>\n",
       "</g>\n",
       "<g style=\"fill:rgb(0%,0%,0%);fill-opacity:1;\">\n",
       "  <use xlink:href=\"#glyph0-2\" x=\"107.9375\" y=\"130.03125\"/>\n",
       "</g>\n",
       "<g style=\"fill:rgb(0%,0%,0%);fill-opacity:1;\">\n",
       "  <use xlink:href=\"#glyph0-3\" x=\"77.960938\" y=\"134.402344\"/>\n",
       "</g>\n",
       "<g style=\"fill:rgb(0%,0%,0%);fill-opacity:1;\">\n",
       "  <use xlink:href=\"#glyph0-4\" x=\"66.546875\" y=\"64.441406\"/>\n",
       "</g>\n",
       "<g style=\"fill:rgb(0%,0%,0%);fill-opacity:1;\">\n",
       "  <use xlink:href=\"#glyph0-5\" x=\"51.136719\" y=\"109.648438\"/>\n",
       "</g>\n",
       "<g style=\"fill:rgb(0%,0%,0%);fill-opacity:1;\">\n",
       "  <use xlink:href=\"#glyph0-6\" x=\"40.003906\" y=\"83.753906\"/>\n",
       "</g>\n",
       "<g style=\"fill:rgb(0%,0%,0%);fill-opacity:1;\">\n",
       "  <use xlink:href=\"#glyph0-7\" x=\"17.105469\" y=\"93.417969\"/>\n",
       "</g>\n",
       "<g style=\"fill:rgb(0%,0%,0%);fill-opacity:1;\">\n",
       "  <use xlink:href=\"#glyph0-8\" x=\"32.023438\" y=\"49.417969\"/>\n",
       "</g>\n",
       "<g style=\"fill:rgb(0%,0%,0%);fill-opacity:1;\">\n",
       "  <use xlink:href=\"#glyph0-9\" x=\"51.558594\" y=\"24.402344\"/>\n",
       "</g>\n",
       "<g style=\"fill:rgb(0%,0%,0%);fill-opacity:1;\">\n",
       "  <use xlink:href=\"#glyph0-10\" x=\"127.171875\" y=\"98.917969\"/>\n",
       "</g>\n",
       "<g style=\"fill:rgb(0%,0%,0%);fill-opacity:1;\">\n",
       "  <use xlink:href=\"#glyph0-2\" x=\"84.636719\" y=\"27.125\"/>\n",
       "  <use xlink:href=\"#glyph0-1\" x=\"90.362793\" y=\"27.125\"/>\n",
       "</g>\n",
       "</g>\n",
       "</svg>\n"
      ],
      "text/plain": [
       "<igraph.drawing.Plot at 0x7f035cd39190>"
      ]
     },
     "execution_count": 17,
     "metadata": {
      "image/svg+xml": {
       "isolated": true
      }
     },
     "output_type": "execute_result"
    }
   ],
   "source": [
    "# Initial randomization and plot\n",
    "random.shuffle(vtx)\n",
    "k_communities, k_communities_dict = uneven_split(k, vtx)\n",
    "print_my_graph(vtx, edges, k_communities, False, k, bipartite, my_graph_size, my_form)"
   ]
  },
  {
   "cell_type": "markdown",
   "metadata": {},
   "source": [
    "STANDARD"
   ]
  },
  {
   "cell_type": "code",
   "execution_count": 18,
   "metadata": {
    "scrolled": false
   },
   "outputs": [
    {
     "name": "stdout",
     "output_type": "stream",
     "text": [
      "---\n",
      "Selected mode -> ['Standard SBM']\n",
      "gp_ids:[0, 1, 2]\n",
      "* * * * * * * * * * * * * * * * * * * * * * * * 25 * * * * * * * * * * * * * * * * * * * * * * * * 50 * * * * * * * * * * * * * * * * * * * * * * * * 75 * * * * * * * * * * * * * * * * * * * * * * * * 100 \n",
      "log(MLE) value:-19.695881880930543\n",
      "Execution_time_local_heuristic:2.7962s after 100 iterations!\n"
     ]
    }
   ],
   "source": [
    "result_SE, _ = local_heuristic(vtx, edges, k, k_communities_dict, graph_obj, 0, 100)"
   ]
  },
  {
   "cell_type": "code",
   "execution_count": 19,
   "metadata": {},
   "outputs": [
    {
     "name": "stdout",
     "output_type": "stream",
     "text": [
      "IGRAPH UN-- 11 17 -- \n",
      "+ attr: group_nbr (v), name (v)\n",
      "Edge colors:\n",
      "Inter-edges: Hot Pink\n",
      "Intra-edges: black\n"
     ]
    },
    {
     "data": {
      "image/svg+xml": [
       "<?xml version=\"1.0\" encoding=\"UTF-8\"?>\n",
       "<svg xmlns=\"http://www.w3.org/2000/svg\" xmlns:xlink=\"http://www.w3.org/1999/xlink\" width=\"150pt\" height=\"150pt\" viewBox=\"0 0 150 150\" version=\"1.1\">\n",
       "<defs>\n",
       "<g>\n",
       "<symbol overflow=\"visible\" id=\"glyph0-0\">\n",
       "<path style=\"stroke:none;\" d=\"M 0.453125 1.59375 L 0.453125 -6.34375 L 4.953125 -6.34375 L 4.953125 1.59375 Z M 0.953125 1.09375 L 4.453125 1.09375 L 4.453125 -5.84375 L 0.953125 -5.84375 Z M 0.953125 1.09375 \"/>\n",
       "</symbol>\n",
       "<symbol overflow=\"visible\" id=\"glyph0-1\">\n",
       "<path style=\"stroke:none;\" d=\"M 2.859375 -5.984375 C 2.398438 -5.984375 2.054688 -5.753906 1.828125 -5.296875 C 1.597656 -4.847656 1.484375 -4.175781 1.484375 -3.28125 C 1.484375 -2.375 1.597656 -1.695312 1.828125 -1.25 C 2.054688 -0.800781 2.398438 -0.578125 2.859375 -0.578125 C 3.316406 -0.578125 3.660156 -0.800781 3.890625 -1.25 C 4.117188 -1.695312 4.234375 -2.375 4.234375 -3.28125 C 4.234375 -4.175781 4.117188 -4.847656 3.890625 -5.296875 C 3.660156 -5.753906 3.316406 -5.984375 2.859375 -5.984375 Z M 2.859375 -6.6875 C 3.597656 -6.6875 4.160156 -6.394531 4.546875 -5.8125 C 4.929688 -5.226562 5.125 -4.382812 5.125 -3.28125 C 5.125 -2.175781 4.929688 -1.332031 4.546875 -0.75 C 4.160156 -0.164062 3.597656 0.125 2.859375 0.125 C 2.128906 0.125 1.566406 -0.164062 1.171875 -0.75 C 0.785156 -1.332031 0.59375 -2.175781 0.59375 -3.28125 C 0.59375 -4.382812 0.785156 -5.226562 1.171875 -5.8125 C 1.566406 -6.394531 2.128906 -6.6875 2.859375 -6.6875 Z M 2.859375 -6.6875 \"/>\n",
       "</symbol>\n",
       "<symbol overflow=\"visible\" id=\"glyph0-2\">\n",
       "<path style=\"stroke:none;\" d=\"M 1.109375 -0.75 L 2.5625 -0.75 L 2.5625 -5.75 L 0.984375 -5.4375 L 0.984375 -6.25 L 2.5625 -6.5625 L 3.453125 -6.5625 L 3.453125 -0.75 L 4.890625 -0.75 L 4.890625 0 L 1.109375 0 Z M 1.109375 -0.75 \"/>\n",
       "</symbol>\n",
       "<symbol overflow=\"visible\" id=\"glyph0-3\">\n",
       "<path style=\"stroke:none;\" d=\"M 1.734375 -0.75 L 4.828125 -0.75 L 4.828125 0 L 0.65625 0 L 0.65625 -0.75 C 1 -1.09375 1.457031 -1.554688 2.03125 -2.140625 C 2.613281 -2.734375 2.984375 -3.113281 3.140625 -3.28125 C 3.421875 -3.601562 3.613281 -3.875 3.71875 -4.09375 C 3.832031 -4.320312 3.890625 -4.539062 3.890625 -4.75 C 3.890625 -5.101562 3.769531 -5.390625 3.53125 -5.609375 C 3.289062 -5.828125 2.972656 -5.9375 2.578125 -5.9375 C 2.296875 -5.9375 2 -5.882812 1.6875 -5.78125 C 1.382812 -5.6875 1.054688 -5.539062 0.703125 -5.34375 L 0.703125 -6.25 C 1.054688 -6.382812 1.390625 -6.488281 1.703125 -6.5625 C 2.015625 -6.644531 2.300781 -6.6875 2.5625 -6.6875 C 3.238281 -6.6875 3.78125 -6.515625 4.1875 -6.171875 C 4.59375 -5.828125 4.796875 -5.375 4.796875 -4.8125 C 4.796875 -4.539062 4.742188 -4.28125 4.640625 -4.03125 C 4.535156 -3.789062 4.351562 -3.507812 4.09375 -3.1875 C 4.019531 -3.101562 3.785156 -2.859375 3.390625 -2.453125 C 2.992188 -2.046875 2.441406 -1.476562 1.734375 -0.75 Z M 1.734375 -0.75 \"/>\n",
       "</symbol>\n",
       "<symbol overflow=\"visible\" id=\"glyph0-4\">\n",
       "<path style=\"stroke:none;\" d=\"M 3.65625 -3.53125 C 4.082031 -3.445312 4.410156 -3.257812 4.640625 -2.96875 C 4.878906 -2.6875 5 -2.332031 5 -1.90625 C 5 -1.257812 4.773438 -0.757812 4.328125 -0.40625 C 3.890625 -0.0507812 3.257812 0.125 2.4375 0.125 C 2.164062 0.125 1.882812 0.0976562 1.59375 0.046875 C 1.300781 -0.00390625 1 -0.0859375 0.6875 -0.203125 L 0.6875 -1.0625 C 0.9375 -0.914062 1.207031 -0.804688 1.5 -0.734375 C 1.789062 -0.660156 2.09375 -0.625 2.40625 -0.625 C 2.96875 -0.625 3.394531 -0.734375 3.6875 -0.953125 C 3.976562 -1.171875 4.125 -1.488281 4.125 -1.90625 C 4.125 -2.289062 3.988281 -2.59375 3.71875 -2.8125 C 3.445312 -3.03125 3.066406 -3.140625 2.578125 -3.140625 L 1.8125 -3.140625 L 1.8125 -3.875 L 2.625 -3.875 C 3.0625 -3.875 3.394531 -3.957031 3.625 -4.125 C 3.851562 -4.300781 3.96875 -4.554688 3.96875 -4.890625 C 3.96875 -5.222656 3.847656 -5.476562 3.609375 -5.65625 C 3.367188 -5.84375 3.023438 -5.9375 2.578125 -5.9375 C 2.335938 -5.9375 2.078125 -5.910156 1.796875 -5.859375 C 1.523438 -5.804688 1.222656 -5.722656 0.890625 -5.609375 L 0.890625 -6.40625 C 1.222656 -6.5 1.535156 -6.566406 1.828125 -6.609375 C 2.117188 -6.660156 2.394531 -6.6875 2.65625 -6.6875 C 3.332031 -6.6875 3.867188 -6.53125 4.265625 -6.21875 C 4.660156 -5.914062 4.859375 -5.503906 4.859375 -4.984375 C 4.859375 -4.617188 4.753906 -4.3125 4.546875 -4.0625 C 4.335938 -3.8125 4.039062 -3.632812 3.65625 -3.53125 Z M 3.65625 -3.53125 \"/>\n",
       "</symbol>\n",
       "<symbol overflow=\"visible\" id=\"glyph0-5\">\n",
       "<path style=\"stroke:none;\" d=\"M 3.40625 -5.78125 L 1.15625 -2.28125 L 3.40625 -2.28125 Z M 3.171875 -6.5625 L 4.28125 -6.5625 L 4.28125 -2.28125 L 5.21875 -2.28125 L 5.21875 -1.546875 L 4.28125 -1.546875 L 4.28125 0 L 3.40625 0 L 3.40625 -1.546875 L 0.4375 -1.546875 L 0.4375 -2.40625 Z M 3.171875 -6.5625 \"/>\n",
       "</symbol>\n",
       "<symbol overflow=\"visible\" id=\"glyph0-6\">\n",
       "<path style=\"stroke:none;\" d=\"M 0.96875 -6.5625 L 4.453125 -6.5625 L 4.453125 -5.8125 L 1.78125 -5.8125 L 1.78125 -4.203125 C 1.914062 -4.242188 2.046875 -4.273438 2.171875 -4.296875 C 2.296875 -4.328125 2.425781 -4.34375 2.5625 -4.34375 C 3.289062 -4.34375 3.867188 -4.140625 4.296875 -3.734375 C 4.722656 -3.335938 4.9375 -2.796875 4.9375 -2.109375 C 4.9375 -1.398438 4.71875 -0.847656 4.28125 -0.453125 C 3.84375 -0.0664062 3.222656 0.125 2.421875 0.125 C 2.148438 0.125 1.867188 0.0976562 1.578125 0.046875 C 1.296875 0.00390625 1 -0.0625 0.6875 -0.15625 L 0.6875 -1.046875 C 0.957031 -0.898438 1.234375 -0.789062 1.515625 -0.71875 C 1.796875 -0.65625 2.09375 -0.625 2.40625 -0.625 C 2.914062 -0.625 3.316406 -0.753906 3.609375 -1.015625 C 3.898438 -1.285156 4.046875 -1.648438 4.046875 -2.109375 C 4.046875 -2.566406 3.898438 -2.925781 3.609375 -3.1875 C 3.316406 -3.457031 2.914062 -3.59375 2.40625 -3.59375 C 2.164062 -3.59375 1.925781 -3.566406 1.6875 -3.515625 C 1.457031 -3.460938 1.21875 -3.378906 0.96875 -3.265625 Z M 0.96875 -6.5625 \"/>\n",
       "</symbol>\n",
       "<symbol overflow=\"visible\" id=\"glyph0-7\">\n",
       "<path style=\"stroke:none;\" d=\"M 2.96875 -3.640625 C 2.570312 -3.640625 2.253906 -3.5 2.015625 -3.21875 C 1.785156 -2.945312 1.671875 -2.578125 1.671875 -2.109375 C 1.671875 -1.628906 1.785156 -1.253906 2.015625 -0.984375 C 2.253906 -0.710938 2.570312 -0.578125 2.96875 -0.578125 C 3.363281 -0.578125 3.675781 -0.710938 3.90625 -0.984375 C 4.144531 -1.253906 4.265625 -1.628906 4.265625 -2.109375 C 4.265625 -2.578125 4.144531 -2.945312 3.90625 -3.21875 C 3.675781 -3.5 3.363281 -3.640625 2.96875 -3.640625 Z M 4.734375 -6.421875 L 4.734375 -5.609375 C 4.515625 -5.710938 4.289062 -5.789062 4.0625 -5.84375 C 3.832031 -5.90625 3.609375 -5.9375 3.390625 -5.9375 C 2.796875 -5.9375 2.34375 -5.738281 2.03125 -5.34375 C 1.726562 -4.945312 1.554688 -4.347656 1.515625 -3.546875 C 1.679688 -3.796875 1.894531 -3.988281 2.15625 -4.125 C 2.414062 -4.269531 2.707031 -4.34375 3.03125 -4.34375 C 3.6875 -4.34375 4.203125 -4.140625 4.578125 -3.734375 C 4.960938 -3.335938 5.15625 -2.796875 5.15625 -2.109375 C 5.15625 -1.429688 4.957031 -0.890625 4.5625 -0.484375 C 4.164062 -0.078125 3.632812 0.125 2.96875 0.125 C 2.207031 0.125 1.625 -0.164062 1.21875 -0.75 C 0.820312 -1.332031 0.625 -2.175781 0.625 -3.28125 C 0.625 -4.3125 0.867188 -5.132812 1.359375 -5.75 C 1.859375 -6.375 2.519531 -6.6875 3.34375 -6.6875 C 3.570312 -6.6875 3.796875 -6.660156 4.015625 -6.609375 C 4.242188 -6.566406 4.484375 -6.503906 4.734375 -6.421875 Z M 4.734375 -6.421875 \"/>\n",
       "</symbol>\n",
       "<symbol overflow=\"visible\" id=\"glyph0-8\">\n",
       "<path style=\"stroke:none;\" d=\"M 0.734375 -6.5625 L 4.953125 -6.5625 L 4.953125 -6.1875 L 2.578125 0 L 1.640625 0 L 3.890625 -5.8125 L 0.734375 -5.8125 Z M 0.734375 -6.5625 \"/>\n",
       "</symbol>\n",
       "<symbol overflow=\"visible\" id=\"glyph0-9\">\n",
       "<path style=\"stroke:none;\" d=\"M 2.859375 -3.109375 C 2.441406 -3.109375 2.109375 -2.992188 1.859375 -2.765625 C 1.617188 -2.546875 1.5 -2.238281 1.5 -1.84375 C 1.5 -1.445312 1.617188 -1.132812 1.859375 -0.90625 C 2.109375 -0.6875 2.441406 -0.578125 2.859375 -0.578125 C 3.285156 -0.578125 3.617188 -0.6875 3.859375 -0.90625 C 4.097656 -1.132812 4.21875 -1.445312 4.21875 -1.84375 C 4.21875 -2.238281 4.097656 -2.546875 3.859375 -2.765625 C 3.617188 -2.992188 3.285156 -3.109375 2.859375 -3.109375 Z M 1.96875 -3.5 C 1.59375 -3.59375 1.296875 -3.769531 1.078125 -4.03125 C 0.867188 -4.289062 0.765625 -4.609375 0.765625 -4.984375 C 0.765625 -5.503906 0.953125 -5.914062 1.328125 -6.21875 C 1.703125 -6.53125 2.210938 -6.6875 2.859375 -6.6875 C 3.515625 -6.6875 4.023438 -6.53125 4.390625 -6.21875 C 4.765625 -5.914062 4.953125 -5.503906 4.953125 -4.984375 C 4.953125 -4.609375 4.84375 -4.289062 4.625 -4.03125 C 4.414062 -3.769531 4.125 -3.59375 3.75 -3.5 C 4.175781 -3.394531 4.507812 -3.195312 4.75 -2.90625 C 4.988281 -2.613281 5.109375 -2.257812 5.109375 -1.84375 C 5.109375 -1.207031 4.914062 -0.71875 4.53125 -0.375 C 4.144531 -0.0390625 3.585938 0.125 2.859375 0.125 C 2.140625 0.125 1.582031 -0.0390625 1.1875 -0.375 C 0.800781 -0.71875 0.609375 -1.207031 0.609375 -1.84375 C 0.609375 -2.257812 0.726562 -2.613281 0.96875 -2.90625 C 1.207031 -3.195312 1.539062 -3.394531 1.96875 -3.5 Z M 1.640625 -4.890625 C 1.640625 -4.554688 1.742188 -4.289062 1.953125 -4.09375 C 2.171875 -3.90625 2.472656 -3.8125 2.859375 -3.8125 C 3.242188 -3.8125 3.539062 -3.90625 3.75 -4.09375 C 3.96875 -4.289062 4.078125 -4.554688 4.078125 -4.890625 C 4.078125 -5.234375 3.96875 -5.5 3.75 -5.6875 C 3.539062 -5.882812 3.242188 -5.984375 2.859375 -5.984375 C 2.472656 -5.984375 2.171875 -5.882812 1.953125 -5.6875 C 1.742188 -5.5 1.640625 -5.234375 1.640625 -4.890625 Z M 1.640625 -4.890625 \"/>\n",
       "</symbol>\n",
       "<symbol overflow=\"visible\" id=\"glyph0-10\">\n",
       "<path style=\"stroke:none;\" d=\"M 0.984375 -0.140625 L 0.984375 -0.9375 C 1.210938 -0.832031 1.441406 -0.753906 1.671875 -0.703125 C 1.898438 -0.648438 2.125 -0.625 2.34375 -0.625 C 2.925781 -0.625 3.367188 -0.816406 3.671875 -1.203125 C 3.984375 -1.597656 4.160156 -2.195312 4.203125 -3 C 4.035156 -2.75 3.820312 -2.554688 3.5625 -2.421875 C 3.300781 -2.285156 3.015625 -2.21875 2.703125 -2.21875 C 2.046875 -2.21875 1.523438 -2.414062 1.140625 -2.8125 C 0.753906 -3.21875 0.5625 -3.765625 0.5625 -4.453125 C 0.5625 -5.117188 0.757812 -5.65625 1.15625 -6.0625 C 1.5625 -6.476562 2.09375 -6.6875 2.75 -6.6875 C 3.507812 -6.6875 4.085938 -6.394531 4.484375 -5.8125 C 4.890625 -5.226562 5.09375 -4.382812 5.09375 -3.28125 C 5.09375 -2.238281 4.847656 -1.410156 4.359375 -0.796875 C 3.867188 -0.179688 3.207031 0.125 2.375 0.125 C 2.15625 0.125 1.929688 0.101562 1.703125 0.0625 C 1.472656 0.0195312 1.234375 -0.046875 0.984375 -0.140625 Z M 2.75 -2.921875 C 3.15625 -2.921875 3.472656 -3.054688 3.703125 -3.328125 C 3.929688 -3.597656 4.046875 -3.972656 4.046875 -4.453125 C 4.046875 -4.921875 3.929688 -5.289062 3.703125 -5.5625 C 3.472656 -5.84375 3.15625 -5.984375 2.75 -5.984375 C 2.351562 -5.984375 2.035156 -5.84375 1.796875 -5.5625 C 1.566406 -5.289062 1.453125 -4.921875 1.453125 -4.453125 C 1.453125 -3.972656 1.566406 -3.597656 1.796875 -3.328125 C 2.035156 -3.054688 2.351562 -2.921875 2.75 -2.921875 Z M 2.75 -2.921875 \"/>\n",
       "</symbol>\n",
       "</g>\n",
       "</defs>\n",
       "<g id=\"surface14\">\n",
       "<rect x=\"0\" y=\"0\" width=\"150\" height=\"150\" style=\"fill:rgb(100%,100%,100%);fill-opacity:1;stroke:none;\"/>\n",
       "<path style=\"fill:none;stroke-width:1;stroke-linecap:butt;stroke-linejoin:miter;stroke:rgb(0%,0%,0%);stroke-opacity:1;stroke-miterlimit:10;\" d=\"M 97.304688 89.507812 L 110.878906 125.691406 \"/>\n",
       "<path style=\"fill:none;stroke-width:1;stroke-linecap:butt;stroke-linejoin:miter;stroke:rgb(0%,0%,0%);stroke-opacity:1;stroke-miterlimit:10;\" d=\"M 97.304688 89.507812 L 80.703125 130 \"/>\n",
       "<path style=\"fill:none;stroke-width:1;stroke-linecap:butt;stroke-linejoin:miter;stroke:rgb(0%,0%,0%);stroke-opacity:1;stroke-miterlimit:10;\" d=\"M 110.878906 125.691406 L 80.703125 130 \"/>\n",
       "<path style=\"fill:none;stroke-width:1;stroke-linecap:butt;stroke-linejoin:miter;stroke:rgb(100%,41.176471%,70.588235%);stroke-opacity:1;stroke-miterlimit:10;\" d=\"M 69.394531 60.039062 L 90.558594 22.722656 \"/>\n",
       "<path style=\"fill:none;stroke-width:1;stroke-linecap:butt;stroke-linejoin:miter;stroke:rgb(100%,41.176471%,70.588235%);stroke-opacity:1;stroke-miterlimit:10;\" d=\"M 69.394531 60.039062 L 53.96875 105.304688 \"/>\n",
       "<path style=\"fill:none;stroke-width:1;stroke-linecap:butt;stroke-linejoin:miter;stroke:rgb(100%,41.176471%,70.588235%);stroke-opacity:1;stroke-miterlimit:10;\" d=\"M 69.394531 60.039062 L 42.820312 79.414062 \"/>\n",
       "<path style=\"fill:none;stroke-width:1;stroke-linecap:butt;stroke-linejoin:miter;stroke:rgb(0%,0%,0%);stroke-opacity:1;stroke-miterlimit:10;\" d=\"M 53.96875 105.304688 L 42.820312 79.414062 \"/>\n",
       "<path style=\"fill:none;stroke-width:1;stroke-linecap:butt;stroke-linejoin:miter;stroke:rgb(100%,41.176471%,70.588235%);stroke-opacity:1;stroke-miterlimit:10;\" d=\"M 20 89.015625 L 34.871094 45.074219 \"/>\n",
       "<path style=\"fill:none;stroke-width:1;stroke-linecap:butt;stroke-linejoin:miter;stroke:rgb(100%,41.176471%,70.588235%);stroke-opacity:1;stroke-miterlimit:10;\" d=\"M 69.394531 60.039062 L 34.871094 45.074219 \"/>\n",
       "<path style=\"fill:none;stroke-width:1;stroke-linecap:butt;stroke-linejoin:miter;stroke:rgb(100%,41.176471%,70.588235%);stroke-opacity:1;stroke-miterlimit:10;\" d=\"M 53.96875 105.304688 L 20 89.015625 \"/>\n",
       "<path style=\"fill:none;stroke-width:1;stroke-linecap:butt;stroke-linejoin:miter;stroke:rgb(100%,41.176471%,70.588235%);stroke-opacity:1;stroke-miterlimit:10;\" d=\"M 42.820312 79.414062 L 20 89.015625 \"/>\n",
       "<path style=\"fill:none;stroke-width:1;stroke-linecap:butt;stroke-linejoin:miter;stroke:rgb(0%,0%,0%);stroke-opacity:1;stroke-miterlimit:10;\" d=\"M 97.304688 89.507812 L 130 94.515625 \"/>\n",
       "<path style=\"fill:none;stroke-width:1;stroke-linecap:butt;stroke-linejoin:miter;stroke:rgb(100%,41.176471%,70.588235%);stroke-opacity:1;stroke-miterlimit:10;\" d=\"M 69.394531 60.039062 L 54.417969 20 \"/>\n",
       "<path style=\"fill:none;stroke-width:1;stroke-linecap:butt;stroke-linejoin:miter;stroke:rgb(0%,0%,0%);stroke-opacity:1;stroke-miterlimit:10;\" d=\"M 34.871094 45.074219 L 54.417969 20 \"/>\n",
       "<path style=\"fill:none;stroke-width:1;stroke-linecap:butt;stroke-linejoin:miter;stroke:rgb(100%,41.176471%,70.588235%);stroke-opacity:1;stroke-miterlimit:10;\" d=\"M 97.304688 89.507812 L 69.394531 60.039062 \"/>\n",
       "<path style=\"fill:none;stroke-width:1;stroke-linecap:butt;stroke-linejoin:miter;stroke:rgb(100%,41.176471%,70.588235%);stroke-opacity:1;stroke-miterlimit:10;\" d=\"M 80.703125 130 L 53.96875 105.304688 \"/>\n",
       "<path style=\"fill:none;stroke-width:1;stroke-linecap:butt;stroke-linejoin:miter;stroke:rgb(0%,0%,0%);stroke-opacity:1;stroke-miterlimit:10;\" d=\"M 110.878906 125.691406 L 130 94.515625 \"/>\n",
       "<path style=\"fill-rule:nonzero;fill:rgb(36.470588%,27.843137%,54.509804%);fill-opacity:1;stroke-width:1;stroke-linecap:butt;stroke-linejoin:miter;stroke:rgb(0%,0%,0%);stroke-opacity:1;stroke-miterlimit:10;\" d=\"M 107.304688 89.507812 C 107.304688 95.03125 102.828125 99.507812 97.304688 99.507812 C 91.785156 99.507812 87.304688 95.03125 87.304688 89.507812 C 87.304688 83.984375 91.785156 79.507812 97.304688 79.507812 C 102.828125 79.507812 107.304688 83.984375 107.304688 89.507812 \"/>\n",
       "<path style=\"fill-rule:nonzero;fill:rgb(36.470588%,27.843137%,54.509804%);fill-opacity:1;stroke-width:1;stroke-linecap:butt;stroke-linejoin:miter;stroke:rgb(0%,0%,0%);stroke-opacity:1;stroke-miterlimit:10;\" d=\"M 120.878906 125.691406 C 120.878906 131.214844 116.402344 135.691406 110.878906 135.691406 C 105.355469 135.691406 100.878906 131.214844 100.878906 125.691406 C 100.878906 120.167969 105.355469 115.691406 110.878906 115.691406 C 116.402344 115.691406 120.878906 120.167969 120.878906 125.691406 \"/>\n",
       "<path style=\"fill-rule:nonzero;fill:rgb(36.470588%,27.843137%,54.509804%);fill-opacity:1;stroke-width:1;stroke-linecap:butt;stroke-linejoin:miter;stroke:rgb(0%,0%,0%);stroke-opacity:1;stroke-miterlimit:10;\" d=\"M 90.703125 130 C 90.703125 135.523438 86.226562 140 80.703125 140 C 75.179688 140 70.703125 135.523438 70.703125 130 C 70.703125 124.476562 75.179688 120 80.703125 120 C 86.226562 120 90.703125 124.476562 90.703125 130 \"/>\n",
       "<path style=\"fill-rule:nonzero;fill:rgb(56.078431%,73.72549%,56.078431%);fill-opacity:1;stroke-width:1;stroke-linecap:butt;stroke-linejoin:miter;stroke:rgb(0%,0%,0%);stroke-opacity:1;stroke-miterlimit:10;\" d=\"M 59.394531 50.039062 L 79.394531 50.039062 L 79.394531 70.039062 L 59.394531 70.039062 Z M 59.394531 50.039062 \"/>\n",
       "<path style=\"fill-rule:nonzero;fill:rgb(100%,98.039216%,98.039216%);fill-opacity:1;stroke-width:1;stroke-linecap:butt;stroke-linejoin:miter;stroke:rgb(0%,0%,0%);stroke-opacity:1;stroke-miterlimit:10;\" d=\"M 43.96875 115.304688 L 53.96875 95.304688 L 63.96875 115.304688 Z M 43.96875 115.304688 \"/>\n",
       "<path style=\"fill-rule:nonzero;fill:rgb(100%,98.039216%,98.039216%);fill-opacity:1;stroke-width:1;stroke-linecap:butt;stroke-linejoin:miter;stroke:rgb(0%,0%,0%);stroke-opacity:1;stroke-miterlimit:10;\" d=\"M 32.820312 89.414062 L 42.820312 69.414062 L 52.820312 89.414062 Z M 32.820312 89.414062 \"/>\n",
       "<path style=\"fill-rule:nonzero;fill:rgb(56.078431%,73.72549%,56.078431%);fill-opacity:1;stroke-width:1;stroke-linecap:butt;stroke-linejoin:miter;stroke:rgb(0%,0%,0%);stroke-opacity:1;stroke-miterlimit:10;\" d=\"M 10 79.015625 L 30 79.015625 L 30 99.015625 L 10 99.015625 Z M 10 79.015625 \"/>\n",
       "<path style=\"fill-rule:nonzero;fill:rgb(100%,98.039216%,98.039216%);fill-opacity:1;stroke-width:1;stroke-linecap:butt;stroke-linejoin:miter;stroke:rgb(0%,0%,0%);stroke-opacity:1;stroke-miterlimit:10;\" d=\"M 24.871094 55.074219 L 34.871094 35.074219 L 44.871094 55.074219 Z M 24.871094 55.074219 \"/>\n",
       "<path style=\"fill-rule:nonzero;fill:rgb(100%,98.039216%,98.039216%);fill-opacity:1;stroke-width:1;stroke-linecap:butt;stroke-linejoin:miter;stroke:rgb(0%,0%,0%);stroke-opacity:1;stroke-miterlimit:10;\" d=\"M 44.417969 30 L 54.417969 10 L 64.417969 30 Z M 44.417969 30 \"/>\n",
       "<path style=\"fill-rule:nonzero;fill:rgb(36.470588%,27.843137%,54.509804%);fill-opacity:1;stroke-width:1;stroke-linecap:butt;stroke-linejoin:miter;stroke:rgb(0%,0%,0%);stroke-opacity:1;stroke-miterlimit:10;\" d=\"M 140 94.515625 C 140 100.039062 135.523438 104.515625 130 104.515625 C 124.476562 104.515625 120 100.039062 120 94.515625 C 120 88.992188 124.476562 84.515625 130 84.515625 C 135.523438 84.515625 140 88.992188 140 94.515625 \"/>\n",
       "<path style=\"fill-rule:nonzero;fill:rgb(100%,98.039216%,98.039216%);fill-opacity:1;stroke-width:1;stroke-linecap:butt;stroke-linejoin:miter;stroke:rgb(0%,0%,0%);stroke-opacity:1;stroke-miterlimit:10;\" d=\"M 80.558594 32.722656 L 90.558594 12.722656 L 100.558594 32.722656 Z M 80.558594 32.722656 \"/>\n",
       "<g style=\"fill:rgb(0%,0%,0%);fill-opacity:1;\">\n",
       "  <use xlink:href=\"#glyph0-1\" x=\"94.445312\" y=\"93.910156\"/>\n",
       "</g>\n",
       "<g style=\"fill:rgb(0%,0%,0%);fill-opacity:1;\">\n",
       "  <use xlink:href=\"#glyph0-2\" x=\"107.9375\" y=\"130.03125\"/>\n",
       "</g>\n",
       "<g style=\"fill:rgb(0%,0%,0%);fill-opacity:1;\">\n",
       "  <use xlink:href=\"#glyph0-3\" x=\"77.960938\" y=\"134.402344\"/>\n",
       "</g>\n",
       "<g style=\"fill:rgb(0%,0%,0%);fill-opacity:1;\">\n",
       "  <use xlink:href=\"#glyph0-4\" x=\"66.546875\" y=\"64.441406\"/>\n",
       "</g>\n",
       "<g style=\"fill:rgb(0%,0%,0%);fill-opacity:1;\">\n",
       "  <use xlink:href=\"#glyph0-5\" x=\"51.136719\" y=\"109.648438\"/>\n",
       "</g>\n",
       "<g style=\"fill:rgb(0%,0%,0%);fill-opacity:1;\">\n",
       "  <use xlink:href=\"#glyph0-6\" x=\"40.003906\" y=\"83.753906\"/>\n",
       "</g>\n",
       "<g style=\"fill:rgb(0%,0%,0%);fill-opacity:1;\">\n",
       "  <use xlink:href=\"#glyph0-7\" x=\"17.105469\" y=\"93.417969\"/>\n",
       "</g>\n",
       "<g style=\"fill:rgb(0%,0%,0%);fill-opacity:1;\">\n",
       "  <use xlink:href=\"#glyph0-8\" x=\"32.023438\" y=\"49.417969\"/>\n",
       "</g>\n",
       "<g style=\"fill:rgb(0%,0%,0%);fill-opacity:1;\">\n",
       "  <use xlink:href=\"#glyph0-9\" x=\"51.558594\" y=\"24.402344\"/>\n",
       "</g>\n",
       "<g style=\"fill:rgb(0%,0%,0%);fill-opacity:1;\">\n",
       "  <use xlink:href=\"#glyph0-10\" x=\"127.171875\" y=\"98.917969\"/>\n",
       "</g>\n",
       "<g style=\"fill:rgb(0%,0%,0%);fill-opacity:1;\">\n",
       "  <use xlink:href=\"#glyph0-2\" x=\"84.636719\" y=\"27.125\"/>\n",
       "  <use xlink:href=\"#glyph0-1\" x=\"90.362793\" y=\"27.125\"/>\n",
       "</g>\n",
       "</g>\n",
       "</svg>\n"
      ],
      "text/plain": [
       "<igraph.drawing.Plot at 0x7f035cd398e0>"
      ]
     },
     "execution_count": 19,
     "metadata": {
      "image/svg+xml": {
       "isolated": true
      }
     },
     "output_type": "execute_result"
    }
   ],
   "source": [
    "print_my_graph(vtx, edges, result_SE, False, k, bipartite, my_graph_size, my_form)"
   ]
  },
  {
   "cell_type": "code",
   "execution_count": 20,
   "metadata": {},
   "outputs": [
    {
     "name": "stdout",
     "output_type": "stream",
     "text": [
      "Number of groups:3\n",
      "Degree of groups:{0: 13, 1: 9, 2: 12}\n",
      "Cardinality of groups:{0: 5, 1: 2, 2: 4}\n"
     ]
    }
   ],
   "source": [
    "M_SE = stochastic_BM(k, graph_obj, result_SE)"
   ]
  },
  {
   "cell_type": "code",
   "execution_count": 21,
   "metadata": {},
   "outputs": [
    {
     "data": {
      "image/png": "[encoded data removed]",
      "text/plain": [
       "<Figure size 432x288 with 1 Axes>"
      ]
     },
     "metadata": {
      "needs_background": "light"
     },
     "output_type": "display_data"
    }
   ],
   "source": [
    "print_M(M_SE, 0, my_colors)\n",
    "# print(M_SE)"
   ]
  },
  {
   "cell_type": "markdown",
   "metadata": {},
   "source": [
    "DEGREE CORRECTED"
   ]
  },
  {
   "cell_type": "code",
   "execution_count": 22,
   "metadata": {
    "scrolled": false
   },
   "outputs": [
    {
     "name": "stdout",
     "output_type": "stream",
     "text": [
      "---\n",
      "Selected mode -> ['Degree corrected SBM']\n",
      "gp_ids:[0, 1, 2]\n",
      "* * * * * * * * * * * * * * * * * * * * * * * * 25 * * * * * * * * * * * * * * * * * * * * * * * * 50 * * * * * * * * * * * * * * * * * * * * * * * * 75 * * * * * * * * * * * * * * * * * * * * * * * * 100 \n",
      "log(MLE) value:0.43425856998881585\n",
      "Execution_time_local_heuristic:1.9821s after 100 iterations!\n"
     ]
    }
   ],
   "source": [
    "result_DC, _ = local_heuristic(vtx, edges, k, k_communities_dict, graph_obj, 1, 100)"
   ]
  },
  {
   "cell_type": "code",
   "execution_count": 23,
   "metadata": {
    "scrolled": false
   },
   "outputs": [
    {
     "name": "stdout",
     "output_type": "stream",
     "text": [
      "Number of groups:3\n",
      "Degree of groups:{0: 12, 1: 10, 2: 12}\n",
      "Cardinality of groups:{0: 4, 1: 3, 2: 4}\n"
     ]
    }
   ],
   "source": [
    "M_DC = stochastic_BM(k, graph_obj, result_DC)"
   ]
  },
  {
   "cell_type": "code",
   "execution_count": 24,
   "metadata": {},
   "outputs": [
    {
     "name": "stdout",
     "output_type": "stream",
     "text": [
      "IGRAPH UN-- 11 17 -- \n",
      "+ attr: group_nbr (v), name (v)\n",
      "Edge colors:\n",
      "Inter-edges: Hot Pink\n",
      "Intra-edges: black\n"
     ]
    },
    {
     "data": {
      "image/svg+xml": [
       "<?xml version=\"1.0\" encoding=\"UTF-8\"?>\n",
       "<svg xmlns=\"http://www.w3.org/2000/svg\" xmlns:xlink=\"http://www.w3.org/1999/xlink\" width=\"150pt\" height=\"150pt\" viewBox=\"0 0 150 150\" version=\"1.1\">\n",
       "<defs>\n",
       "<g>\n",
       "<symbol overflow=\"visible\" id=\"glyph0-0\">\n",
       "<path style=\"stroke:none;\" d=\"M 0.453125 1.59375 L 0.453125 -6.34375 L 4.953125 -6.34375 L 4.953125 1.59375 Z M 0.953125 1.09375 L 4.453125 1.09375 L 4.453125 -5.84375 L 0.953125 -5.84375 Z M 0.953125 1.09375 \"/>\n",
       "</symbol>\n",
       "<symbol overflow=\"visible\" id=\"glyph0-1\">\n",
       "<path style=\"stroke:none;\" d=\"M 2.859375 -5.984375 C 2.398438 -5.984375 2.054688 -5.753906 1.828125 -5.296875 C 1.597656 -4.847656 1.484375 -4.175781 1.484375 -3.28125 C 1.484375 -2.375 1.597656 -1.695312 1.828125 -1.25 C 2.054688 -0.800781 2.398438 -0.578125 2.859375 -0.578125 C 3.316406 -0.578125 3.660156 -0.800781 3.890625 -1.25 C 4.117188 -1.695312 4.234375 -2.375 4.234375 -3.28125 C 4.234375 -4.175781 4.117188 -4.847656 3.890625 -5.296875 C 3.660156 -5.753906 3.316406 -5.984375 2.859375 -5.984375 Z M 2.859375 -6.6875 C 3.597656 -6.6875 4.160156 -6.394531 4.546875 -5.8125 C 4.929688 -5.226562 5.125 -4.382812 5.125 -3.28125 C 5.125 -2.175781 4.929688 -1.332031 4.546875 -0.75 C 4.160156 -0.164062 3.597656 0.125 2.859375 0.125 C 2.128906 0.125 1.566406 -0.164062 1.171875 -0.75 C 0.785156 -1.332031 0.59375 -2.175781 0.59375 -3.28125 C 0.59375 -4.382812 0.785156 -5.226562 1.171875 -5.8125 C 1.566406 -6.394531 2.128906 -6.6875 2.859375 -6.6875 Z M 2.859375 -6.6875 \"/>\n",
       "</symbol>\n",
       "<symbol overflow=\"visible\" id=\"glyph0-2\">\n",
       "<path style=\"stroke:none;\" d=\"M 1.109375 -0.75 L 2.5625 -0.75 L 2.5625 -5.75 L 0.984375 -5.4375 L 0.984375 -6.25 L 2.5625 -6.5625 L 3.453125 -6.5625 L 3.453125 -0.75 L 4.890625 -0.75 L 4.890625 0 L 1.109375 0 Z M 1.109375 -0.75 \"/>\n",
       "</symbol>\n",
       "<symbol overflow=\"visible\" id=\"glyph0-3\">\n",
       "<path style=\"stroke:none;\" d=\"M 1.734375 -0.75 L 4.828125 -0.75 L 4.828125 0 L 0.65625 0 L 0.65625 -0.75 C 1 -1.09375 1.457031 -1.554688 2.03125 -2.140625 C 2.613281 -2.734375 2.984375 -3.113281 3.140625 -3.28125 C 3.421875 -3.601562 3.613281 -3.875 3.71875 -4.09375 C 3.832031 -4.320312 3.890625 -4.539062 3.890625 -4.75 C 3.890625 -5.101562 3.769531 -5.390625 3.53125 -5.609375 C 3.289062 -5.828125 2.972656 -5.9375 2.578125 -5.9375 C 2.296875 -5.9375 2 -5.882812 1.6875 -5.78125 C 1.382812 -5.6875 1.054688 -5.539062 0.703125 -5.34375 L 0.703125 -6.25 C 1.054688 -6.382812 1.390625 -6.488281 1.703125 -6.5625 C 2.015625 -6.644531 2.300781 -6.6875 2.5625 -6.6875 C 3.238281 -6.6875 3.78125 -6.515625 4.1875 -6.171875 C 4.59375 -5.828125 4.796875 -5.375 4.796875 -4.8125 C 4.796875 -4.539062 4.742188 -4.28125 4.640625 -4.03125 C 4.535156 -3.789062 4.351562 -3.507812 4.09375 -3.1875 C 4.019531 -3.101562 3.785156 -2.859375 3.390625 -2.453125 C 2.992188 -2.046875 2.441406 -1.476562 1.734375 -0.75 Z M 1.734375 -0.75 \"/>\n",
       "</symbol>\n",
       "<symbol overflow=\"visible\" id=\"glyph0-4\">\n",
       "<path style=\"stroke:none;\" d=\"M 3.65625 -3.53125 C 4.082031 -3.445312 4.410156 -3.257812 4.640625 -2.96875 C 4.878906 -2.6875 5 -2.332031 5 -1.90625 C 5 -1.257812 4.773438 -0.757812 4.328125 -0.40625 C 3.890625 -0.0507812 3.257812 0.125 2.4375 0.125 C 2.164062 0.125 1.882812 0.0976562 1.59375 0.046875 C 1.300781 -0.00390625 1 -0.0859375 0.6875 -0.203125 L 0.6875 -1.0625 C 0.9375 -0.914062 1.207031 -0.804688 1.5 -0.734375 C 1.789062 -0.660156 2.09375 -0.625 2.40625 -0.625 C 2.96875 -0.625 3.394531 -0.734375 3.6875 -0.953125 C 3.976562 -1.171875 4.125 -1.488281 4.125 -1.90625 C 4.125 -2.289062 3.988281 -2.59375 3.71875 -2.8125 C 3.445312 -3.03125 3.066406 -3.140625 2.578125 -3.140625 L 1.8125 -3.140625 L 1.8125 -3.875 L 2.625 -3.875 C 3.0625 -3.875 3.394531 -3.957031 3.625 -4.125 C 3.851562 -4.300781 3.96875 -4.554688 3.96875 -4.890625 C 3.96875 -5.222656 3.847656 -5.476562 3.609375 -5.65625 C 3.367188 -5.84375 3.023438 -5.9375 2.578125 -5.9375 C 2.335938 -5.9375 2.078125 -5.910156 1.796875 -5.859375 C 1.523438 -5.804688 1.222656 -5.722656 0.890625 -5.609375 L 0.890625 -6.40625 C 1.222656 -6.5 1.535156 -6.566406 1.828125 -6.609375 C 2.117188 -6.660156 2.394531 -6.6875 2.65625 -6.6875 C 3.332031 -6.6875 3.867188 -6.53125 4.265625 -6.21875 C 4.660156 -5.914062 4.859375 -5.503906 4.859375 -4.984375 C 4.859375 -4.617188 4.753906 -4.3125 4.546875 -4.0625 C 4.335938 -3.8125 4.039062 -3.632812 3.65625 -3.53125 Z M 3.65625 -3.53125 \"/>\n",
       "</symbol>\n",
       "<symbol overflow=\"visible\" id=\"glyph0-5\">\n",
       "<path style=\"stroke:none;\" d=\"M 3.40625 -5.78125 L 1.15625 -2.28125 L 3.40625 -2.28125 Z M 3.171875 -6.5625 L 4.28125 -6.5625 L 4.28125 -2.28125 L 5.21875 -2.28125 L 5.21875 -1.546875 L 4.28125 -1.546875 L 4.28125 0 L 3.40625 0 L 3.40625 -1.546875 L 0.4375 -1.546875 L 0.4375 -2.40625 Z M 3.171875 -6.5625 \"/>\n",
       "</symbol>\n",
       "<symbol overflow=\"visible\" id=\"glyph0-6\">\n",
       "<path style=\"stroke:none;\" d=\"M 0.96875 -6.5625 L 4.453125 -6.5625 L 4.453125 -5.8125 L 1.78125 -5.8125 L 1.78125 -4.203125 C 1.914062 -4.242188 2.046875 -4.273438 2.171875 -4.296875 C 2.296875 -4.328125 2.425781 -4.34375 2.5625 -4.34375 C 3.289062 -4.34375 3.867188 -4.140625 4.296875 -3.734375 C 4.722656 -3.335938 4.9375 -2.796875 4.9375 -2.109375 C 4.9375 -1.398438 4.71875 -0.847656 4.28125 -0.453125 C 3.84375 -0.0664062 3.222656 0.125 2.421875 0.125 C 2.148438 0.125 1.867188 0.0976562 1.578125 0.046875 C 1.296875 0.00390625 1 -0.0625 0.6875 -0.15625 L 0.6875 -1.046875 C 0.957031 -0.898438 1.234375 -0.789062 1.515625 -0.71875 C 1.796875 -0.65625 2.09375 -0.625 2.40625 -0.625 C 2.914062 -0.625 3.316406 -0.753906 3.609375 -1.015625 C 3.898438 -1.285156 4.046875 -1.648438 4.046875 -2.109375 C 4.046875 -2.566406 3.898438 -2.925781 3.609375 -3.1875 C 3.316406 -3.457031 2.914062 -3.59375 2.40625 -3.59375 C 2.164062 -3.59375 1.925781 -3.566406 1.6875 -3.515625 C 1.457031 -3.460938 1.21875 -3.378906 0.96875 -3.265625 Z M 0.96875 -6.5625 \"/>\n",
       "</symbol>\n",
       "<symbol overflow=\"visible\" id=\"glyph0-7\">\n",
       "<path style=\"stroke:none;\" d=\"M 2.96875 -3.640625 C 2.570312 -3.640625 2.253906 -3.5 2.015625 -3.21875 C 1.785156 -2.945312 1.671875 -2.578125 1.671875 -2.109375 C 1.671875 -1.628906 1.785156 -1.253906 2.015625 -0.984375 C 2.253906 -0.710938 2.570312 -0.578125 2.96875 -0.578125 C 3.363281 -0.578125 3.675781 -0.710938 3.90625 -0.984375 C 4.144531 -1.253906 4.265625 -1.628906 4.265625 -2.109375 C 4.265625 -2.578125 4.144531 -2.945312 3.90625 -3.21875 C 3.675781 -3.5 3.363281 -3.640625 2.96875 -3.640625 Z M 4.734375 -6.421875 L 4.734375 -5.609375 C 4.515625 -5.710938 4.289062 -5.789062 4.0625 -5.84375 C 3.832031 -5.90625 3.609375 -5.9375 3.390625 -5.9375 C 2.796875 -5.9375 2.34375 -5.738281 2.03125 -5.34375 C 1.726562 -4.945312 1.554688 -4.347656 1.515625 -3.546875 C 1.679688 -3.796875 1.894531 -3.988281 2.15625 -4.125 C 2.414062 -4.269531 2.707031 -4.34375 3.03125 -4.34375 C 3.6875 -4.34375 4.203125 -4.140625 4.578125 -3.734375 C 4.960938 -3.335938 5.15625 -2.796875 5.15625 -2.109375 C 5.15625 -1.429688 4.957031 -0.890625 4.5625 -0.484375 C 4.164062 -0.078125 3.632812 0.125 2.96875 0.125 C 2.207031 0.125 1.625 -0.164062 1.21875 -0.75 C 0.820312 -1.332031 0.625 -2.175781 0.625 -3.28125 C 0.625 -4.3125 0.867188 -5.132812 1.359375 -5.75 C 1.859375 -6.375 2.519531 -6.6875 3.34375 -6.6875 C 3.570312 -6.6875 3.796875 -6.660156 4.015625 -6.609375 C 4.242188 -6.566406 4.484375 -6.503906 4.734375 -6.421875 Z M 4.734375 -6.421875 \"/>\n",
       "</symbol>\n",
       "<symbol overflow=\"visible\" id=\"glyph0-8\">\n",
       "<path style=\"stroke:none;\" d=\"M 0.734375 -6.5625 L 4.953125 -6.5625 L 4.953125 -6.1875 L 2.578125 0 L 1.640625 0 L 3.890625 -5.8125 L 0.734375 -5.8125 Z M 0.734375 -6.5625 \"/>\n",
       "</symbol>\n",
       "<symbol overflow=\"visible\" id=\"glyph0-9\">\n",
       "<path style=\"stroke:none;\" d=\"M 2.859375 -3.109375 C 2.441406 -3.109375 2.109375 -2.992188 1.859375 -2.765625 C 1.617188 -2.546875 1.5 -2.238281 1.5 -1.84375 C 1.5 -1.445312 1.617188 -1.132812 1.859375 -0.90625 C 2.109375 -0.6875 2.441406 -0.578125 2.859375 -0.578125 C 3.285156 -0.578125 3.617188 -0.6875 3.859375 -0.90625 C 4.097656 -1.132812 4.21875 -1.445312 4.21875 -1.84375 C 4.21875 -2.238281 4.097656 -2.546875 3.859375 -2.765625 C 3.617188 -2.992188 3.285156 -3.109375 2.859375 -3.109375 Z M 1.96875 -3.5 C 1.59375 -3.59375 1.296875 -3.769531 1.078125 -4.03125 C 0.867188 -4.289062 0.765625 -4.609375 0.765625 -4.984375 C 0.765625 -5.503906 0.953125 -5.914062 1.328125 -6.21875 C 1.703125 -6.53125 2.210938 -6.6875 2.859375 -6.6875 C 3.515625 -6.6875 4.023438 -6.53125 4.390625 -6.21875 C 4.765625 -5.914062 4.953125 -5.503906 4.953125 -4.984375 C 4.953125 -4.609375 4.84375 -4.289062 4.625 -4.03125 C 4.414062 -3.769531 4.125 -3.59375 3.75 -3.5 C 4.175781 -3.394531 4.507812 -3.195312 4.75 -2.90625 C 4.988281 -2.613281 5.109375 -2.257812 5.109375 -1.84375 C 5.109375 -1.207031 4.914062 -0.71875 4.53125 -0.375 C 4.144531 -0.0390625 3.585938 0.125 2.859375 0.125 C 2.140625 0.125 1.582031 -0.0390625 1.1875 -0.375 C 0.800781 -0.71875 0.609375 -1.207031 0.609375 -1.84375 C 0.609375 -2.257812 0.726562 -2.613281 0.96875 -2.90625 C 1.207031 -3.195312 1.539062 -3.394531 1.96875 -3.5 Z M 1.640625 -4.890625 C 1.640625 -4.554688 1.742188 -4.289062 1.953125 -4.09375 C 2.171875 -3.90625 2.472656 -3.8125 2.859375 -3.8125 C 3.242188 -3.8125 3.539062 -3.90625 3.75 -4.09375 C 3.96875 -4.289062 4.078125 -4.554688 4.078125 -4.890625 C 4.078125 -5.234375 3.96875 -5.5 3.75 -5.6875 C 3.539062 -5.882812 3.242188 -5.984375 2.859375 -5.984375 C 2.472656 -5.984375 2.171875 -5.882812 1.953125 -5.6875 C 1.742188 -5.5 1.640625 -5.234375 1.640625 -4.890625 Z M 1.640625 -4.890625 \"/>\n",
       "</symbol>\n",
       "<symbol overflow=\"visible\" id=\"glyph0-10\">\n",
       "<path style=\"stroke:none;\" d=\"M 0.984375 -0.140625 L 0.984375 -0.9375 C 1.210938 -0.832031 1.441406 -0.753906 1.671875 -0.703125 C 1.898438 -0.648438 2.125 -0.625 2.34375 -0.625 C 2.925781 -0.625 3.367188 -0.816406 3.671875 -1.203125 C 3.984375 -1.597656 4.160156 -2.195312 4.203125 -3 C 4.035156 -2.75 3.820312 -2.554688 3.5625 -2.421875 C 3.300781 -2.285156 3.015625 -2.21875 2.703125 -2.21875 C 2.046875 -2.21875 1.523438 -2.414062 1.140625 -2.8125 C 0.753906 -3.21875 0.5625 -3.765625 0.5625 -4.453125 C 0.5625 -5.117188 0.757812 -5.65625 1.15625 -6.0625 C 1.5625 -6.476562 2.09375 -6.6875 2.75 -6.6875 C 3.507812 -6.6875 4.085938 -6.394531 4.484375 -5.8125 C 4.890625 -5.226562 5.09375 -4.382812 5.09375 -3.28125 C 5.09375 -2.238281 4.847656 -1.410156 4.359375 -0.796875 C 3.867188 -0.179688 3.207031 0.125 2.375 0.125 C 2.15625 0.125 1.929688 0.101562 1.703125 0.0625 C 1.472656 0.0195312 1.234375 -0.046875 0.984375 -0.140625 Z M 2.75 -2.921875 C 3.15625 -2.921875 3.472656 -3.054688 3.703125 -3.328125 C 3.929688 -3.597656 4.046875 -3.972656 4.046875 -4.453125 C 4.046875 -4.921875 3.929688 -5.289062 3.703125 -5.5625 C 3.472656 -5.84375 3.15625 -5.984375 2.75 -5.984375 C 2.351562 -5.984375 2.035156 -5.84375 1.796875 -5.5625 C 1.566406 -5.289062 1.453125 -4.921875 1.453125 -4.453125 C 1.453125 -3.972656 1.566406 -3.597656 1.796875 -3.328125 C 2.035156 -3.054688 2.351562 -2.921875 2.75 -2.921875 Z M 2.75 -2.921875 \"/>\n",
       "</symbol>\n",
       "</g>\n",
       "</defs>\n",
       "<g id=\"surface20\">\n",
       "<rect x=\"0\" y=\"0\" width=\"150\" height=\"150\" style=\"fill:rgb(100%,100%,100%);fill-opacity:1;stroke:none;\"/>\n",
       "<path style=\"fill:none;stroke-width:1;stroke-linecap:butt;stroke-linejoin:miter;stroke:rgb(0%,0%,0%);stroke-opacity:1;stroke-miterlimit:10;\" d=\"M 97.304688 89.507812 L 110.878906 125.691406 \"/>\n",
       "<path style=\"fill:none;stroke-width:1;stroke-linecap:butt;stroke-linejoin:miter;stroke:rgb(0%,0%,0%);stroke-opacity:1;stroke-miterlimit:10;\" d=\"M 97.304688 89.507812 L 80.703125 130 \"/>\n",
       "<path style=\"fill:none;stroke-width:1;stroke-linecap:butt;stroke-linejoin:miter;stroke:rgb(0%,0%,0%);stroke-opacity:1;stroke-miterlimit:10;\" d=\"M 110.878906 125.691406 L 80.703125 130 \"/>\n",
       "<path style=\"fill:none;stroke-width:1;stroke-linecap:butt;stroke-linejoin:miter;stroke:rgb(0%,0%,0%);stroke-opacity:1;stroke-miterlimit:10;\" d=\"M 69.394531 60.039062 L 90.558594 22.722656 \"/>\n",
       "<path style=\"fill:none;stroke-width:1;stroke-linecap:butt;stroke-linejoin:miter;stroke:rgb(100%,41.176471%,70.588235%);stroke-opacity:1;stroke-miterlimit:10;\" d=\"M 69.394531 60.039062 L 53.96875 105.304688 \"/>\n",
       "<path style=\"fill:none;stroke-width:1;stroke-linecap:butt;stroke-linejoin:miter;stroke:rgb(100%,41.176471%,70.588235%);stroke-opacity:1;stroke-miterlimit:10;\" d=\"M 69.394531 60.039062 L 42.820312 79.414062 \"/>\n",
       "<path style=\"fill:none;stroke-width:1;stroke-linecap:butt;stroke-linejoin:miter;stroke:rgb(0%,0%,0%);stroke-opacity:1;stroke-miterlimit:10;\" d=\"M 53.96875 105.304688 L 42.820312 79.414062 \"/>\n",
       "<path style=\"fill:none;stroke-width:1;stroke-linecap:butt;stroke-linejoin:miter;stroke:rgb(100%,41.176471%,70.588235%);stroke-opacity:1;stroke-miterlimit:10;\" d=\"M 20 89.015625 L 34.871094 45.074219 \"/>\n",
       "<path style=\"fill:none;stroke-width:1;stroke-linecap:butt;stroke-linejoin:miter;stroke:rgb(0%,0%,0%);stroke-opacity:1;stroke-miterlimit:10;\" d=\"M 69.394531 60.039062 L 34.871094 45.074219 \"/>\n",
       "<path style=\"fill:none;stroke-width:1;stroke-linecap:butt;stroke-linejoin:miter;stroke:rgb(0%,0%,0%);stroke-opacity:1;stroke-miterlimit:10;\" d=\"M 53.96875 105.304688 L 20 89.015625 \"/>\n",
       "<path style=\"fill:none;stroke-width:1;stroke-linecap:butt;stroke-linejoin:miter;stroke:rgb(0%,0%,0%);stroke-opacity:1;stroke-miterlimit:10;\" d=\"M 42.820312 79.414062 L 20 89.015625 \"/>\n",
       "<path style=\"fill:none;stroke-width:1;stroke-linecap:butt;stroke-linejoin:miter;stroke:rgb(0%,0%,0%);stroke-opacity:1;stroke-miterlimit:10;\" d=\"M 97.304688 89.507812 L 130 94.515625 \"/>\n",
       "<path style=\"fill:none;stroke-width:1;stroke-linecap:butt;stroke-linejoin:miter;stroke:rgb(0%,0%,0%);stroke-opacity:1;stroke-miterlimit:10;\" d=\"M 69.394531 60.039062 L 54.417969 20 \"/>\n",
       "<path style=\"fill:none;stroke-width:1;stroke-linecap:butt;stroke-linejoin:miter;stroke:rgb(0%,0%,0%);stroke-opacity:1;stroke-miterlimit:10;\" d=\"M 34.871094 45.074219 L 54.417969 20 \"/>\n",
       "<path style=\"fill:none;stroke-width:1;stroke-linecap:butt;stroke-linejoin:miter;stroke:rgb(100%,41.176471%,70.588235%);stroke-opacity:1;stroke-miterlimit:10;\" d=\"M 97.304688 89.507812 L 69.394531 60.039062 \"/>\n",
       "<path style=\"fill:none;stroke-width:1;stroke-linecap:butt;stroke-linejoin:miter;stroke:rgb(100%,41.176471%,70.588235%);stroke-opacity:1;stroke-miterlimit:10;\" d=\"M 80.703125 130 L 53.96875 105.304688 \"/>\n",
       "<path style=\"fill:none;stroke-width:1;stroke-linecap:butt;stroke-linejoin:miter;stroke:rgb(0%,0%,0%);stroke-opacity:1;stroke-miterlimit:10;\" d=\"M 110.878906 125.691406 L 130 94.515625 \"/>\n",
       "<path style=\"fill-rule:nonzero;fill:rgb(62.745098%,12.54902%,94.117647%);fill-opacity:1;stroke-width:1;stroke-linecap:butt;stroke-linejoin:miter;stroke:rgb(0%,0%,0%);stroke-opacity:1;stroke-miterlimit:10;\" d=\"M 87.304688 79.507812 L 97.304688 99.507812 L 107.304688 79.507812 Z M 87.304688 79.507812 \"/>\n",
       "<path style=\"fill-rule:nonzero;fill:rgb(62.745098%,12.54902%,94.117647%);fill-opacity:1;stroke-width:1;stroke-linecap:butt;stroke-linejoin:miter;stroke:rgb(0%,0%,0%);stroke-opacity:1;stroke-miterlimit:10;\" d=\"M 100.878906 115.691406 L 110.878906 135.691406 L 120.878906 115.691406 Z M 100.878906 115.691406 \"/>\n",
       "<path style=\"fill-rule:nonzero;fill:rgb(62.745098%,12.54902%,94.117647%);fill-opacity:1;stroke-width:1;stroke-linecap:butt;stroke-linejoin:miter;stroke:rgb(0%,0%,0%);stroke-opacity:1;stroke-miterlimit:10;\" d=\"M 70.703125 120 L 80.703125 140 L 90.703125 120 Z M 70.703125 120 \"/>\n",
       "<path style=\"fill-rule:nonzero;fill:rgb(80.392157%,40%,0%);fill-opacity:1;stroke-width:1;stroke-linecap:butt;stroke-linejoin:miter;stroke:rgb(0%,0%,0%);stroke-opacity:1;stroke-miterlimit:10;\" d=\"M 59.394531 50.039062 L 69.394531 70.039062 L 79.394531 50.039062 Z M 59.394531 50.039062 \"/>\n",
       "<path style=\"fill-rule:nonzero;fill:rgb(54.509804%,49.019608%,48.235294%);fill-opacity:1;stroke-width:1;stroke-linecap:butt;stroke-linejoin:miter;stroke:rgb(0%,0%,0%);stroke-opacity:1;stroke-miterlimit:10;\" d=\"M 43.96875 95.304688 L 53.96875 115.304688 L 63.96875 95.304688 Z M 43.96875 95.304688 \"/>\n",
       "<path style=\"fill-rule:nonzero;fill:rgb(54.509804%,49.019608%,48.235294%);fill-opacity:1;stroke-width:1;stroke-linecap:butt;stroke-linejoin:miter;stroke:rgb(0%,0%,0%);stroke-opacity:1;stroke-miterlimit:10;\" d=\"M 32.820312 69.414062 L 42.820312 89.414062 L 52.820312 69.414062 Z M 32.820312 69.414062 \"/>\n",
       "<path style=\"fill-rule:nonzero;fill:rgb(54.509804%,49.019608%,48.235294%);fill-opacity:1;stroke-width:1;stroke-linecap:butt;stroke-linejoin:miter;stroke:rgb(0%,0%,0%);stroke-opacity:1;stroke-miterlimit:10;\" d=\"M 10 79.015625 L 20 99.015625 L 30 79.015625 Z M 10 79.015625 \"/>\n",
       "<path style=\"fill-rule:nonzero;fill:rgb(80.392157%,40%,0%);fill-opacity:1;stroke-width:1;stroke-linecap:butt;stroke-linejoin:miter;stroke:rgb(0%,0%,0%);stroke-opacity:1;stroke-miterlimit:10;\" d=\"M 24.871094 35.074219 L 34.871094 55.074219 L 44.871094 35.074219 Z M 24.871094 35.074219 \"/>\n",
       "<path style=\"fill-rule:nonzero;fill:rgb(80.392157%,40%,0%);fill-opacity:1;stroke-width:1;stroke-linecap:butt;stroke-linejoin:miter;stroke:rgb(0%,0%,0%);stroke-opacity:1;stroke-miterlimit:10;\" d=\"M 44.417969 10 L 54.417969 30 L 64.417969 10 Z M 44.417969 10 \"/>\n",
       "<path style=\"fill-rule:nonzero;fill:rgb(62.745098%,12.54902%,94.117647%);fill-opacity:1;stroke-width:1;stroke-linecap:butt;stroke-linejoin:miter;stroke:rgb(0%,0%,0%);stroke-opacity:1;stroke-miterlimit:10;\" d=\"M 120 84.515625 L 130 104.515625 L 140 84.515625 Z M 120 84.515625 \"/>\n",
       "<path style=\"fill-rule:nonzero;fill:rgb(80.392157%,40%,0%);fill-opacity:1;stroke-width:1;stroke-linecap:butt;stroke-linejoin:miter;stroke:rgb(0%,0%,0%);stroke-opacity:1;stroke-miterlimit:10;\" d=\"M 80.558594 12.722656 L 90.558594 32.722656 L 100.558594 12.722656 Z M 80.558594 12.722656 \"/>\n",
       "<g style=\"fill:rgb(0%,0%,0%);fill-opacity:1;\">\n",
       "  <use xlink:href=\"#glyph0-1\" x=\"94.445312\" y=\"93.910156\"/>\n",
       "</g>\n",
       "<g style=\"fill:rgb(0%,0%,0%);fill-opacity:1;\">\n",
       "  <use xlink:href=\"#glyph0-2\" x=\"107.9375\" y=\"130.03125\"/>\n",
       "</g>\n",
       "<g style=\"fill:rgb(0%,0%,0%);fill-opacity:1;\">\n",
       "  <use xlink:href=\"#glyph0-3\" x=\"77.960938\" y=\"134.402344\"/>\n",
       "</g>\n",
       "<g style=\"fill:rgb(0%,0%,0%);fill-opacity:1;\">\n",
       "  <use xlink:href=\"#glyph0-4\" x=\"66.546875\" y=\"64.441406\"/>\n",
       "</g>\n",
       "<g style=\"fill:rgb(0%,0%,0%);fill-opacity:1;\">\n",
       "  <use xlink:href=\"#glyph0-5\" x=\"51.136719\" y=\"109.648438\"/>\n",
       "</g>\n",
       "<g style=\"fill:rgb(0%,0%,0%);fill-opacity:1;\">\n",
       "  <use xlink:href=\"#glyph0-6\" x=\"40.003906\" y=\"83.753906\"/>\n",
       "</g>\n",
       "<g style=\"fill:rgb(0%,0%,0%);fill-opacity:1;\">\n",
       "  <use xlink:href=\"#glyph0-7\" x=\"17.105469\" y=\"93.417969\"/>\n",
       "</g>\n",
       "<g style=\"fill:rgb(0%,0%,0%);fill-opacity:1;\">\n",
       "  <use xlink:href=\"#glyph0-8\" x=\"32.023438\" y=\"49.417969\"/>\n",
       "</g>\n",
       "<g style=\"fill:rgb(0%,0%,0%);fill-opacity:1;\">\n",
       "  <use xlink:href=\"#glyph0-9\" x=\"51.558594\" y=\"24.402344\"/>\n",
       "</g>\n",
       "<g style=\"fill:rgb(0%,0%,0%);fill-opacity:1;\">\n",
       "  <use xlink:href=\"#glyph0-10\" x=\"127.171875\" y=\"98.917969\"/>\n",
       "</g>\n",
       "<g style=\"fill:rgb(0%,0%,0%);fill-opacity:1;\">\n",
       "  <use xlink:href=\"#glyph0-2\" x=\"84.636719\" y=\"27.125\"/>\n",
       "  <use xlink:href=\"#glyph0-1\" x=\"90.362793\" y=\"27.125\"/>\n",
       "</g>\n",
       "</g>\n",
       "</svg>\n"
      ],
      "text/plain": [
       "<igraph.drawing.Plot at 0x7f0394360dc0>"
      ]
     },
     "execution_count": 24,
     "metadata": {
      "image/svg+xml": {
       "isolated": true
      }
     },
     "output_type": "execute_result"
    }
   ],
   "source": [
    "print_my_graph(vtx, edges, result_DC, False, k, bipartite, my_graph_size, my_form)"
   ]
  },
  {
   "cell_type": "code",
   "execution_count": 25,
   "metadata": {},
   "outputs": [],
   "source": [
    "# raise SystemExit(\"OK! Stop right here!\")"
   ]
  },
  {
   "cell_type": "code",
   "execution_count": 26,
   "metadata": {
    "scrolled": true
   },
   "outputs": [
    {
     "data": {
      "image/png": "[encoded data removed]",
      "text/plain": [
       "<Figure size 432x288 with 1 Axes>"
      ]
     },
     "metadata": {
      "needs_background": "light"
     },
     "output_type": "display_data"
    }
   ],
   "source": [
    "print_M(M_DC, 1, my_colors)\n",
    "# print(M_DC)"
   ]
  },
  {
   "cell_type": "code",
   "execution_count": 27,
   "metadata": {},
   "outputs": [
    {
     "data": {
      "image/png": "[encoded data removed]",
      "text/plain": [
       "<Figure size 288x288 with 1 Axes>"
      ]
     },
     "metadata": {
      "needs_background": "light"
     },
     "output_type": "display_data"
    }
   ],
   "source": [
    "#Adjacency matrix\n",
    "adj_mtx = np.array(list(graph_obj.get_adjacency()))\n",
    "cmap = ListedColormap(['lightgray', 'g'])\n",
    "plt.matshow(adj_mtx, cmap=cmap)\n",
    "plt.title('Adjacency matrix for given graph', loc='left',  y=1.1)\n",
    "plt.show()"
   ]
  },
  {
   "cell_type": "code",
   "execution_count": 28,
   "metadata": {},
   "outputs": [
    {
     "name": "stdout",
     "output_type": "stream",
     "text": [
      "Clustering_coeffecient: 0.3409090909090909\n",
      "Degree assortativity: -0.33939393939393997\n"
     ]
    }
   ],
   "source": [
    "clustering_coeff = graph_obj.transitivity_undirected()\n",
    "print(f'Clustering_coeffecient: {clustering_coeff}')\n",
    "\n",
    "assort_deg = graph_obj.assortativity_degree()\n",
    "print(f'Degree assortativity: {assort_deg}')"
   ]
  },
  {
   "cell_type": "code",
   "execution_count": 29,
   "metadata": {},
   "outputs": [],
   "source": [
    "# raise SystemExit(\"OK! Stop right here!\")"
   ]
  },
  {
   "cell_type": "code",
   "execution_count": 30,
   "metadata": {},
   "outputs": [],
   "source": [
    "def strictly_convex_k(graph):\n",
    "    #E = total number of edges; N = total number of vertices\n",
    "    E = graph.ecount()\n",
    "    N = graph.vcount()\n",
    "    print(f'E:{E}, N:{N}')\n",
    "    \n",
    "    sigma_k_values = {}\n",
    "    for k in range(2, N-1):  # k is the number of communities\n",
    "        m = k*k + k\n",
    "        x = (m)/(2*E)\n",
    "        h = (1+x)*(np.log(1+x)) - (x)*(np.log(x))\n",
    "        sigma_k = E*h - (E-N)*(np.log(k))\n",
    "        sigma_k_values.update({k:sigma_k})\n",
    "        \n",
    "    #print(f'sigma_k_values:{sigma_k_values}')\n",
    "    \n",
    "    optimal_k = min(sigma_k_values.keys(), key=(lambda k: sigma_k_values[k]))\n",
    "    print(f'optimal_k: {optimal_k}')\n",
    "    \n",
    "    data = sorted(sigma_k_values.items()) # sorted by key, return a list of tuples\n",
    "    x, y = zip(*data) # unpack a list of pairs into two tuples\n",
    "    plt.grid()\n",
    "    plt.plot(x, y)\n",
    "    plt.ylabel(r'$\\sigma_k$', size=16)\n",
    "    plt.xlabel('Number of communities(k)', size=12)\n",
    "    plt.title(f'Optimum community numbers\\nwith Minimum Description Length Principle: {optimal_k}')\n",
    "    plt.plot(optimal_k, sigma_k_values[optimal_k], 'rx', markersize=8)\n",
    "    plt.show()\n",
    "    \n",
    "    return optimal_k"
   ]
  },
  {
   "cell_type": "code",
   "execution_count": 31,
   "metadata": {},
   "outputs": [
    {
     "name": "stdout",
     "output_type": "stream",
     "text": [
      "E:17, N:11\n",
      "optimal_k: 2\n"
     ]
    },
    {
     "data": {
      "image/png": "[encoded data removed]",
      "text/plain": [
       "<Figure size 432x288 with 1 Axes>"
      ]
     },
     "metadata": {
      "needs_background": "light"
     },
     "output_type": "display_data"
    }
   ],
   "source": [
    "optimal_k = strictly_convex_k(graph_obj)"
   ]
  },
  {
   "cell_type": "code",
   "execution_count": 32,
   "metadata": {},
   "outputs": [],
   "source": [
    "# A function to find necessary iterations for a given constant grouping (k)\n",
    "def find_best_iteration(k, vtx, edges, graph_obj, mode, default, max_itr, interval):\n",
    "    itrs = list(range(default, max_itr + interval, interval))\n",
    "    print(f\"Iterations to test:{itrs}\")\n",
    "    \n",
    "    mle_itr_dict = {}\n",
    "    for itr in itrs:\n",
    "        _, k_communities_dict = uneven_split(k, vtx)\n",
    "        _, result = local_heuristic(vtx, edges, k, k_communities_dict, graph_obj, mode, itr)\n",
    "        mle_itr_dict.update({itr: result})\n",
    "    \n",
    "    max_mle = max(mle_itr_dict.values())\n",
    "    best_itr = [k for k, v in mle_itr_dict.items() if v == max_mle]\n",
    "    print(f'LOOK -> max_mle:{max_mle} happens with best_itr:{best_itr}')\n",
    "    \n",
    "    mles = np.array(list(mle_itr_dict.values()))\n",
    "    plt.plot(itrs, mles, '-bo')\n",
    "    plt.ylabel('log(MLE)')\n",
    "    plt.xlabel('Number of iterations')\n",
    "    plt.title(f'Best MLE result with k={k} and {best_itr[0]} iterations')\n",
    "    plt.title(f'MLE results for different iterations for k:{k}')\n",
    "    plt.grid()\n",
    "    \n",
    "    return best_itr"
   ]
  },
  {
   "cell_type": "code",
   "execution_count": 33,
   "metadata": {
    "scrolled": false
   },
   "outputs": [],
   "source": [
    "# best_itr = find_best_iteration(optimal_k, vtx, edges, graph_obj, 1, 50, 200, 50)"
   ]
  },
  {
   "cell_type": "code",
   "execution_count": 34,
   "metadata": {},
   "outputs": [],
   "source": [
    "# A comparative function; example -> 1000 iterations or 10 simulations with 100 iterations!? 100x10 vs 1000\n",
    "def use_iterations_wisely(vtx, edges, k, graph_obj, mode, base_itr, nbr_simulations):\n",
    "    print(f\"Comparative check for {base_itr}x{nbr_simulations} simulations vs 1x{base_itr*nbr_simulations} simulation!\")\n",
    "    \n",
    "    # CASE 1: nbr_simulations such as 10 with 'base_itr' such as 100\n",
    "    mle_itr_dict = {}\n",
    "    for i in range(nbr_simulations):\n",
    "        _, k_communities_dict = uneven_split(k, vtx)\n",
    "        _, result = local_heuristic(vtx, edges, k, k_communities_dict, graph_obj, mode, base_itr)\n",
    "        mle_itr_dict.update({(i+1): result})\n",
    "    \n",
    "    mle_itr_np = np.array(list(mle_itr_dict.values()))\n",
    "    plt.plot(list(range(nbr_simulations)), mle_itr_np, '-go')\n",
    "    plt.title(f'Results for k={k}, {base_itr}x{nbr_simulations} simulations vs 1x{base_itr*nbr_simulations} simulation')\n",
    "    plt.ylabel('log(MLE)')\n",
    "    plt.xlabel('Simulation numbers')\n",
    "    plt.grid()\n",
    "    \n",
    "    index_M = np.argmax(mle_itr_np)\n",
    "    mle_A_M = mle_itr_np[index_M]\n",
    "    index_m = np.argmin(mle_itr_np)\n",
    "    mle_A_m = mle_itr_np[index_m]\n",
    "    \n",
    "    # CASE 2: one simulation with 'itrs' iterations such as 1000\n",
    "    _, k_communities_dict = uneven_split(k, vtx)\n",
    "    _, mle_B = local_heuristic(vtx, edges, k, k_communities_dict, graph_obj, mode, base_itr*nbr_simulations)\n",
    "    plt.plot(nbr_simulations-1, mle_B, 'rx', markersize=10)\n",
    "    print(\"-------\")\n",
    "    print(f\"RESULT:\\nWith 1 simulation and {base_itr*nbr_simulations} of iterations:{mle_B}\\nWith {nbr_simulations} simulations and {base_itr} of iterations:\\nMax:{mle_A_M}\\nmin:{mle_A_m}\\nDifference:{mle_A_M-mle_A_m}\")\n",
    "    \n",
    "    return 'Insight!'"
   ]
  },
  {
   "cell_type": "code",
   "execution_count": 35,
   "metadata": {},
   "outputs": [],
   "source": [
    "# use_iterations_wisely(vtx, edges, optimal_k, graph_obj, 1, 10, 10)"
   ]
  },
  {
   "cell_type": "code",
   "execution_count": 36,
   "metadata": {},
   "outputs": [],
   "source": [
    "# A function to find necessary iterations and number of runs\n",
    "def optimized_iteration(k, vtx, edges, graph_obj, mode, default, max_itr, interval, runs):\n",
    "    itrs = list(range(default, max_itr + interval, interval))\n",
    "    print(f\"Iterations to test:{itrs}\")\n",
    "    \n",
    "    mle_itr_dict = {}\n",
    "    comm_itr_dict = {}\n",
    "    for itr in itrs:\n",
    "        mle_list = []\n",
    "        comm_list = []\n",
    "        for run in range(runs):\n",
    "            _, k_communities_dict = uneven_split(k, vtx)\n",
    "            community, mle = local_heuristic(vtx, edges, k, k_communities_dict, graph_obj, mode, itr)\n",
    "            mle_list.append(mle)\n",
    "            comm_list.append(community)\n",
    "        mle_itr_dict.update({itr: mle_list})\n",
    "        comm_itr_dict.update({itr: comm_list})\n",
    "    \n",
    "    # print(f'>>>>>>>>> mle_itr_dict:{mle_itr_dict}')\n",
    "    # print(f'>>>>>>>>> comm_itr_dict:{comm_itr_dict}')\n",
    "    \n",
    "    # min_max_mean_mle = {}\n",
    "    max_mle_dict = {}\n",
    "    mean_values = []\n",
    "    error_range = []\n",
    "    for key, value in mle_itr_dict.items():\n",
    "        minimum = min(value)\n",
    "        maximum = max(value)\n",
    "        mean = statistics.mean(value)\n",
    "        # min_max_mean_mle.update({key: [minimum, maximum, mean]})\n",
    "        max_mle_dict.update({key: [maximum]})\n",
    "        error_range.append((maximum-minimum)/2)\n",
    "        mean_values.append(mean)\n",
    "    \n",
    "    # print(f'>>>>>>>>> max_mle_dict:{max_mle_dict}')\n",
    "    \n",
    "    max_mle = max(max_mle_dict.values())\n",
    "    best_key = [k for k, v in max_mle_dict.items() if v == max_mle]\n",
    "    print(f'Maximum MLE:{max_mle} happens with best_itr:{best_key}')\n",
    "    \n",
    "    # print(F'AAAAAAAAAA:{mle_itr_dict[best_key[0]]}')\n",
    "    target_comm = mle_itr_dict[best_key[0]]\n",
    "    max_index = target_comm.index(max_mle)\n",
    "    \n",
    "    # print(f'>>>>>> max_index:{max_index}')\n",
    "    # print(f'RESULT: {(comm_itr_dict[best_key[0]])[max_index]}')\n",
    "    \n",
    "    \n",
    "    f = plt.figure(figsize=(9,4))\n",
    "    mles = np.array(list(mle_itr_dict.values()))\n",
    "    ax = f.add_subplot(121)\n",
    "    ax.plot(itrs, mles, 'o', color='black')\n",
    "    plt.ylabel('log(MLE)')\n",
    "    plt.xlabel('Number of iterations')\n",
    "    plt.title(f'Best MLE result with k={k} and {best_key[0]} iterations')\n",
    "    plt.title(f'MLE results for {runs} runs and k:{k}')\n",
    "    plt.grid()\n",
    "    \n",
    "    ax2 = f.add_subplot(122)\n",
    "    ax2.errorbar(itrs, mean_values, yerr=error_range, ecolor='blue', fmt='kx', markersize= 8, linestyle='--', capsize=4) # uplims=True,lolims=True\n",
    "    plt.xlabel('Number of iterations')\n",
    "    plt.title(f'min-mean-MAX MLE values for {runs} runs')\n",
    "    plt.grid()\n",
    "    \n",
    "    return (comm_itr_dict[best_key[0]])[max_index]"
   ]
  },
  {
   "cell_type": "code",
   "execution_count": 37,
   "metadata": {
    "scrolled": false
   },
   "outputs": [
    {
     "name": "stdout",
     "output_type": "stream",
     "text": [
      "Iterations to test:[25, 50, 75, 100]\n",
      "---\n",
      "Selected mode -> ['Degree corrected SBM']\n",
      "gp_ids:[0, 1]\n",
      "* * * * * * * * * * * * * * * * * * * * * * * * 25 \n",
      "log(MLE) value:0.3728999474550605\n",
      "Execution_time_local_heuristic:0.2242s after 25 iterations!\n",
      "---\n",
      "Selected mode -> ['Degree corrected SBM']\n",
      "gp_ids:[0, 1]\n",
      "* * * * * * * * * * * * * * * * * * * * * * * * 25 \n",
      "log(MLE) value:0.3728999474550605\n",
      "Execution_time_local_heuristic:0.2344s after 25 iterations!\n",
      "---\n",
      "Selected mode -> ['Degree corrected SBM']\n",
      "gp_ids:[0, 1]\n",
      "* * * * * * * * * * * * * * * * * * * * * * * * 25 \n",
      "log(MLE) value:0.3728999474550605\n",
      "Execution_time_local_heuristic:0.2172s after 25 iterations!\n",
      "---\n",
      "Selected mode -> ['Degree corrected SBM']\n",
      "gp_ids:[0, 1]\n",
      "* * * * * * * * * * * * * * * * * * * * * * * * 25 \n",
      "log(MLE) value:0.3728999474550605\n",
      "Execution_time_local_heuristic:0.2285s after 25 iterations!\n",
      "---\n",
      "Selected mode -> ['Degree corrected SBM']\n",
      "gp_ids:[0, 1]\n",
      "* * * * * * * * * * * * * * * * * * * * * * * * 25 \n",
      "log(MLE) value:0.3728999474550605\n",
      "Execution_time_local_heuristic:0.2139s after 25 iterations!\n",
      "---\n",
      "Selected mode -> ['Degree corrected SBM']\n",
      "gp_ids:[0, 1]\n",
      "* * * * * * * * * * * * * * * * * * * * * * * * 25 \n",
      "log(MLE) value:0.3728999474550605\n",
      "Execution_time_local_heuristic:0.239s after 25 iterations!\n",
      "---\n",
      "Selected mode -> ['Degree corrected SBM']\n",
      "gp_ids:[0, 1]\n",
      "* * * * * * * * * * * * * * * * * * * * * * * * 25 \n",
      "log(MLE) value:0.3728999474550605\n",
      "Execution_time_local_heuristic:0.2207s after 25 iterations!\n",
      "---\n",
      "Selected mode -> ['Degree corrected SBM']\n",
      "gp_ids:[0, 1]\n",
      "* * * * * * * * * * * * * * * * * * * * * * * * 25 \n",
      "log(MLE) value:0.3728999474550605\n",
      "Execution_time_local_heuristic:0.2014s after 25 iterations!\n",
      "---\n",
      "Selected mode -> ['Degree corrected SBM']\n",
      "gp_ids:[0, 1]\n",
      "* * * * * * * * * * * * * * * * * * * * * * * * 25 \n",
      "log(MLE) value:0.3728999474550605\n",
      "Execution_time_local_heuristic:0.2275s after 25 iterations!\n",
      "---\n",
      "Selected mode -> ['Degree corrected SBM']\n",
      "gp_ids:[0, 1]\n",
      "* * * * * * * * * * * * * * * * * * * * * * * * 25 \n",
      "log(MLE) value:0.3728999474550605\n",
      "Execution_time_local_heuristic:0.2137s after 25 iterations!\n",
      "---\n",
      "Selected mode -> ['Degree corrected SBM']\n",
      "gp_ids:[0, 1]\n",
      "* * * * * * * * * * * * * * * * * * * * * * * * 25 * * * * * * * * * * * * * * * * * * * * * * * * 50 \n",
      "log(MLE) value:0.3728999474550605\n",
      "Execution_time_local_heuristic:0.4285s after 50 iterations!\n",
      "---\n",
      "Selected mode -> ['Degree corrected SBM']\n",
      "gp_ids:[0, 1]\n",
      "* * * * * * * * * * * * * * * * * * * * * * * * 25 * * * * * * * * * * * * * * * * * * * * * * * * 50 \n",
      "log(MLE) value:0.3728999474550605\n",
      "Execution_time_local_heuristic:0.4548s after 50 iterations!\n",
      "---\n",
      "Selected mode -> ['Degree corrected SBM']\n",
      "gp_ids:[0, 1]\n",
      "* * * * * * * * * * * * * * * * * * * * * * * * 25 * * * * * * * * * * * * * * * * * * * * * * * * 50 \n",
      "log(MLE) value:0.3728999474550605\n",
      "Execution_time_local_heuristic:0.6407s after 50 iterations!\n",
      "---\n",
      "Selected mode -> ['Degree corrected SBM']\n",
      "gp_ids:[0, 1]\n",
      "* * * * * * * * * * * * * * * * * * * * * * * * 25 * * * * * * * * * * * * * * * * * * * * * * * * 50 \n",
      "log(MLE) value:0.3728999474550605\n",
      "Execution_time_local_heuristic:0.5917s after 50 iterations!\n",
      "---\n",
      "Selected mode -> ['Degree corrected SBM']\n",
      "gp_ids:[0, 1]\n",
      "* * * * * * * * * * * * * * * * * * * * * * * * 25 * * * * * * * * * * * * * * * * * * * * * * * * 50 \n",
      "log(MLE) value:0.3728999474550605\n",
      "Execution_time_local_heuristic:0.4299s after 50 iterations!\n",
      "---\n",
      "Selected mode -> ['Degree corrected SBM']\n",
      "gp_ids:[0, 1]\n",
      "* * * * * * * * * * * * * * * * * * * * * * * * 25 * * * * * * * * * * * * * * * * * * * * * * * * 50 \n",
      "log(MLE) value:0.3728999474550605\n",
      "Execution_time_local_heuristic:0.4875s after 50 iterations!\n",
      "---\n",
      "Selected mode -> ['Degree corrected SBM']\n",
      "gp_ids:[0, 1]\n",
      "* * * * * * * * * * * * * * * * * * * * * * * * 25 * * * * * * * * * * * * * * * * * * * * * * * * 50 \n",
      "log(MLE) value:0.3728999474550605\n",
      "Execution_time_local_heuristic:0.4093s after 50 iterations!\n",
      "---\n",
      "Selected mode -> ['Degree corrected SBM']\n",
      "gp_ids:[0, 1]\n",
      "* * * * * * * * * * * * * * * * * * * * * * * * 25 * * * * * * * * * * * * * * * * * * * * * * * * 50 \n",
      "log(MLE) value:0.3728999474550605\n",
      "Execution_time_local_heuristic:0.4259s after 50 iterations!\n",
      "---\n",
      "Selected mode -> ['Degree corrected SBM']\n",
      "gp_ids:[0, 1]\n",
      "* * * * * * * * * * * * * * * * * * * * * * * * 25 * * * * * * * * * * * * * * * * * * * * * * * * 50 \n",
      "log(MLE) value:0.3728999474550605\n",
      "Execution_time_local_heuristic:0.4794s after 50 iterations!\n",
      "---\n",
      "Selected mode -> ['Degree corrected SBM']\n",
      "gp_ids:[0, 1]\n",
      "* * * * * * * * * * * * * * * * * * * * * * * * 25 * * * * * * * * * * * * * * * * * * * * * * * * 50 \n",
      "log(MLE) value:0.3728999474550605\n",
      "Execution_time_local_heuristic:0.48s after 50 iterations!\n",
      "---\n",
      "Selected mode -> ['Degree corrected SBM']\n",
      "gp_ids:[0, 1]\n",
      "* * * * * * * * * * * * * * * * * * * * * * * * 25 * * * * * * * * * * * * * * * * * * * * * * * * 50 * * * * * * * * * * * * * * * * * * * * * * * * 75 \n",
      "log(MLE) value:0.3728999474550605\n",
      "Execution_time_local_heuristic:0.6974s after 75 iterations!\n",
      "---\n",
      "Selected mode -> ['Degree corrected SBM']\n",
      "gp_ids:[0, 1]\n",
      "* * * * * * * * * * * * * * * * * * * * * * * * 25 * * * * * * * * * * * * * * * * * * * * * * * * 50 * * * * * * * * * * * * * * * * * * * * * * * * 75 \n",
      "log(MLE) value:0.3728999474550605\n",
      "Execution_time_local_heuristic:0.6326s after 75 iterations!\n",
      "---\n",
      "Selected mode -> ['Degree corrected SBM']\n",
      "gp_ids:[0, 1]\n",
      "* * * * * * * * * * * * * * * * * * * * * * * * 25 * * * * * * * * * * * * * * * * * * * * * * * * 50 * * * * * * * * * * * * * * * * * * * * * * * * 75 \n",
      "log(MLE) value:0.3728999474550605\n",
      "Execution_time_local_heuristic:0.6573s after 75 iterations!\n",
      "---\n",
      "Selected mode -> ['Degree corrected SBM']\n",
      "gp_ids:[0, 1]\n",
      "* * * * * * * * * * * * * * * * * * * * * * * * 25 * * * * * * * * * * * * * * * * * * * * * * * * 50 * * * * * * * * * * * * * * * * * * * * * * * * 75 \n",
      "log(MLE) value:0.3728999474550605\n",
      "Execution_time_local_heuristic:0.6708s after 75 iterations!\n",
      "---\n",
      "Selected mode -> ['Degree corrected SBM']\n",
      "gp_ids:[0, 1]\n",
      "* * * * * * * * * * * * * * * * * * * * * * * * 25 * * * * * * * * * * * * * * * * * * * * * * * * 50 * * * * * * * * * * * * * * * * * * * * * * * * 75 \n",
      "log(MLE) value:0.3728999474550605\n",
      "Execution_time_local_heuristic:0.6597s after 75 iterations!\n",
      "---\n",
      "Selected mode -> ['Degree corrected SBM']\n",
      "gp_ids:[0, 1]\n",
      "* * * * * * * * * * * * * * * * * * * * * * * * 25 * * * * * * * * * * * * * * * * * * * * * * * * 50 * * * * * * * * * * * * * * * * * * * * * * * * 75 \n",
      "log(MLE) value:0.3728999474550605\n",
      "Execution_time_local_heuristic:0.6889s after 75 iterations!\n",
      "---\n",
      "Selected mode -> ['Degree corrected SBM']\n",
      "gp_ids:[0, 1]\n",
      "* * * * * * * * * * * * * * * * * * * * * * * * 25 * * * * * * * * * * * * * * * * * * * * * * * * 50 * * * * * * * * * * * * * * * * * * * * * * * * 75 \n",
      "log(MLE) value:0.3728999474550605\n",
      "Execution_time_local_heuristic:0.7136s after 75 iterations!\n",
      "---\n",
      "Selected mode -> ['Degree corrected SBM']\n",
      "gp_ids:[0, 1]\n",
      "* * * * * * * * * * * * * * * * * * * * * * * * 25 * * * * * * * * * * * * * * * * * * * * * * * * 50 * * * * * * * * * * * * * * * * * * * * * * * * 75 \n",
      "log(MLE) value:0.3728999474550605\n",
      "Execution_time_local_heuristic:0.7046s after 75 iterations!\n",
      "---\n",
      "Selected mode -> ['Degree corrected SBM']\n",
      "gp_ids:[0, 1]\n",
      "* * * * * * * * * * * * * * * * * * * * * * * * 25 * * * * * * * * * * * * * * * * * * * * * * * * 50 * * * * * * * * * * * * * * * * * * * * * * * * 75 \n",
      "log(MLE) value:0.3728999474550605\n",
      "Execution_time_local_heuristic:0.7783s after 75 iterations!\n",
      "---\n",
      "Selected mode -> ['Degree corrected SBM']\n",
      "gp_ids:[0, 1]\n",
      "* * * * * * * * * * * * * * * * * * * * * * * * 25 * * * * * * * * * * * * * * * * * * * * * * * * 50 * * * * * * * * * * * * * * * * * * * * * * * * 75 \n",
      "log(MLE) value:0.3728999474550605\n",
      "Execution_time_local_heuristic:0.7721s after 75 iterations!\n",
      "---\n",
      "Selected mode -> ['Degree corrected SBM']\n",
      "gp_ids:[0, 1]\n",
      "* * * * * * * * * * * * * * * * * * * * * * * * 25 * * * * * * * * * * * * * * * * * * * * * * * * 50 * * * * * * * * * * * * * * * * * * * * * * * * 75 * * * * * * * * * * * * * * * * * * * * * * * * 100 \n",
      "log(MLE) value:0.3728999474550605\n",
      "Execution_time_local_heuristic:0.99s after 100 iterations!\n",
      "---\n",
      "Selected mode -> ['Degree corrected SBM']\n",
      "gp_ids:[0, 1]\n",
      "* * * * * * * * * * * * * * * * * * * * * * * * 25 * * * * * * * * * * * * * * * * * * * * * * * * 50 * * * * * * * * * * * * * * * * * * * * * * * * 75 * * * * * * * * * * * * * * * * * * * * * * * * 100 \n",
      "log(MLE) value:0.3728999474550605\n",
      "Execution_time_local_heuristic:0.9511s after 100 iterations!\n",
      "---\n",
      "Selected mode -> ['Degree corrected SBM']\n",
      "gp_ids:[0, 1]\n",
      "* * * * * * * * * * * * * * * * * * * * * * * * 25 * * * * * * * * * * * * * * * * * * * * * * * * 50 * * * * * * * * * * * * * * * * * * * * * * * * 75 * * * * * * * * * * * * * * * * * * * * * * * * 100 \n",
      "log(MLE) value:0.3728999474550605\n",
      "Execution_time_local_heuristic:1.058s after 100 iterations!\n",
      "---\n",
      "Selected mode -> ['Degree corrected SBM']\n",
      "gp_ids:[0, 1]\n",
      "* * * * * * * * * * * * * * * * * * * * * * * * 25 * * * * * * * * * * * * * * * * * * * * * * * * 50 * * * * * * * * * * * * * * * * * * * * * * * * 75 * * * * * * * * * * * * * * * * * * * * * * * * 100 \n",
      "log(MLE) value:0.3728999474550605\n",
      "Execution_time_local_heuristic:0.9535s after 100 iterations!\n",
      "---\n",
      "Selected mode -> ['Degree corrected SBM']\n",
      "gp_ids:[0, 1]\n",
      "* * * * * * * * * * * * * * * * * * * * * * * * 25 * * * * * * * * * * * * * * * * * * * * * * * * 50 * * * * * * * * * * * * * * * * * * * * * * * * 75 * * * * * * * * * * * * * * * * * * * * * * * * 100 \n",
      "log(MLE) value:0.3728999474550605\n",
      "Execution_time_local_heuristic:0.904s after 100 iterations!\n",
      "---\n",
      "Selected mode -> ['Degree corrected SBM']\n",
      "gp_ids:[0, 1]\n",
      "* * * * * * * * * * * * * * * * * * * * * * * * 25 * * * * * * * * * * * * * * * * * * * * * * * * 50 * * * * * * * * * * * * * * * * * * * * * * * * 75 * * * * * * * * * * * * * * * * * * * * * * * * 100 \n",
      "log(MLE) value:0.3728999474550605\n",
      "Execution_time_local_heuristic:0.9796s after 100 iterations!\n",
      "---\n",
      "Selected mode -> ['Degree corrected SBM']\n",
      "gp_ids:[0, 1]\n",
      "* * * * * * * * * * * * * * * * * * * * * * * * 25 * * * * * * * * * * * * * * * * * * * * * * * * 50 * * * * * * * * * * * * * * * * * * * * * * * * 75 * * * * * * * * * * * * * * * * * * * * * * * * 100 \n",
      "log(MLE) value:0.3728999474550605\n",
      "Execution_time_local_heuristic:0.8883s after 100 iterations!\n",
      "---\n",
      "Selected mode -> ['Degree corrected SBM']\n",
      "gp_ids:[0, 1]\n",
      "* * * * * * * * * * * * * * * * * * * * * * * * 25 * * * * * * * * * * * * * * * * * * * * * * * * 50 * * * * * * * * * * * * * * * * * * * * * * * * 75 * * * * * * * * * * * * * * * * * * * * * * * * 100 \n",
      "log(MLE) value:0.3728999474550605\n",
      "Execution_time_local_heuristic:0.8402s after 100 iterations!\n",
      "---\n",
      "Selected mode -> ['Degree corrected SBM']\n",
      "gp_ids:[0, 1]\n",
      "* * * * * * * * * * * * * * * * * * * * * * * * 25 * * * * * * * * * * * * * * * * * * * * * * * * 50 * * * * * * * * * * * * * * * * * * * * * * * * 75 * * * * * * * * * * * * * * * * * * * * * * * * 100 \n",
      "log(MLE) value:0.3728999474550605\n",
      "Execution_time_local_heuristic:1.0055s after 100 iterations!\n",
      "---\n",
      "Selected mode -> ['Degree corrected SBM']\n",
      "gp_ids:[0, 1]\n",
      "* * * * * * * * * * * * * * * * * * * * * * * * 25 * * * * * * * * * * * * * * * * * * * * * * * * 50 * * * * * * * * * * * * * * * * * * * * * * * * 75 * * * * * * * * * * * * * * * * * * * * * * * * 100 \n",
      "log(MLE) value:0.3728999474550605\n",
      "Execution_time_local_heuristic:1.1149s after 100 iterations!\n",
      "Maximum MLE:[0.3728999474550605] happens with best_itr:[25, 50, 75, 100]\n",
      "Total optimized_iteration time:23.772043466567993 seconds!\n"
     ]
    },
    {
     "data": {
      "image/png": "[encoded data removed]",
      "text/plain": [
       "<Figure size 648x288 with 2 Axes>"
      ]
     },
     "metadata": {
      "needs_background": "light"
     },
     "output_type": "display_data"
    }
   ],
   "source": [
    "start_time = time.time()\n",
    "result_DC2 = optimized_iteration(optimal_k, vtx, edges, graph_obj, 1, 25, 100, 25, 10)\n",
    "print(f'Total optimized_iteration time:{time.time() - start_time} seconds!')"
   ]
  },
  {
   "cell_type": "code",
   "execution_count": 92,
   "metadata": {},
   "outputs": [
    {
     "name": "stdout",
     "output_type": "stream",
     "text": [
      "IGRAPH UN-- 11 17 -- \n",
      "+ attr: group_nbr (v), name (v)\n",
      "Edge colors:\n",
      "Inter-edges: Hot Pink\n",
      "Intra-edges: black\n"
     ]
    },
    {
     "data": {
      "image/svg+xml": [
       "<?xml version=\"1.0\" encoding=\"UTF-8\"?>\n",
       "<svg xmlns=\"http://www.w3.org/2000/svg\" xmlns:xlink=\"http://www.w3.org/1999/xlink\" width=\"150pt\" height=\"150pt\" viewBox=\"0 0 150 150\" version=\"1.1\">\n",
       "<defs>\n",
       "<g>\n",
       "<symbol overflow=\"visible\" id=\"glyph0-0\">\n",
       "<path style=\"stroke:none;\" d=\"M 0.453125 1.59375 L 0.453125 -6.34375 L 4.953125 -6.34375 L 4.953125 1.59375 Z M 0.953125 1.09375 L 4.453125 1.09375 L 4.453125 -5.84375 L 0.953125 -5.84375 Z M 0.953125 1.09375 \"/>\n",
       "</symbol>\n",
       "<symbol overflow=\"visible\" id=\"glyph0-1\">\n",
       "<path style=\"stroke:none;\" d=\"M 2.859375 -5.984375 C 2.398438 -5.984375 2.054688 -5.753906 1.828125 -5.296875 C 1.597656 -4.847656 1.484375 -4.175781 1.484375 -3.28125 C 1.484375 -2.375 1.597656 -1.695312 1.828125 -1.25 C 2.054688 -0.800781 2.398438 -0.578125 2.859375 -0.578125 C 3.316406 -0.578125 3.660156 -0.800781 3.890625 -1.25 C 4.117188 -1.695312 4.234375 -2.375 4.234375 -3.28125 C 4.234375 -4.175781 4.117188 -4.847656 3.890625 -5.296875 C 3.660156 -5.753906 3.316406 -5.984375 2.859375 -5.984375 Z M 2.859375 -6.6875 C 3.597656 -6.6875 4.160156 -6.394531 4.546875 -5.8125 C 4.929688 -5.226562 5.125 -4.382812 5.125 -3.28125 C 5.125 -2.175781 4.929688 -1.332031 4.546875 -0.75 C 4.160156 -0.164062 3.597656 0.125 2.859375 0.125 C 2.128906 0.125 1.566406 -0.164062 1.171875 -0.75 C 0.785156 -1.332031 0.59375 -2.175781 0.59375 -3.28125 C 0.59375 -4.382812 0.785156 -5.226562 1.171875 -5.8125 C 1.566406 -6.394531 2.128906 -6.6875 2.859375 -6.6875 Z M 2.859375 -6.6875 \"/>\n",
       "</symbol>\n",
       "<symbol overflow=\"visible\" id=\"glyph0-2\">\n",
       "<path style=\"stroke:none;\" d=\"M 1.109375 -0.75 L 2.5625 -0.75 L 2.5625 -5.75 L 0.984375 -5.4375 L 0.984375 -6.25 L 2.5625 -6.5625 L 3.453125 -6.5625 L 3.453125 -0.75 L 4.890625 -0.75 L 4.890625 0 L 1.109375 0 Z M 1.109375 -0.75 \"/>\n",
       "</symbol>\n",
       "<symbol overflow=\"visible\" id=\"glyph0-3\">\n",
       "<path style=\"stroke:none;\" d=\"M 1.734375 -0.75 L 4.828125 -0.75 L 4.828125 0 L 0.65625 0 L 0.65625 -0.75 C 1 -1.09375 1.457031 -1.554688 2.03125 -2.140625 C 2.613281 -2.734375 2.984375 -3.113281 3.140625 -3.28125 C 3.421875 -3.601562 3.613281 -3.875 3.71875 -4.09375 C 3.832031 -4.320312 3.890625 -4.539062 3.890625 -4.75 C 3.890625 -5.101562 3.769531 -5.390625 3.53125 -5.609375 C 3.289062 -5.828125 2.972656 -5.9375 2.578125 -5.9375 C 2.296875 -5.9375 2 -5.882812 1.6875 -5.78125 C 1.382812 -5.6875 1.054688 -5.539062 0.703125 -5.34375 L 0.703125 -6.25 C 1.054688 -6.382812 1.390625 -6.488281 1.703125 -6.5625 C 2.015625 -6.644531 2.300781 -6.6875 2.5625 -6.6875 C 3.238281 -6.6875 3.78125 -6.515625 4.1875 -6.171875 C 4.59375 -5.828125 4.796875 -5.375 4.796875 -4.8125 C 4.796875 -4.539062 4.742188 -4.28125 4.640625 -4.03125 C 4.535156 -3.789062 4.351562 -3.507812 4.09375 -3.1875 C 4.019531 -3.101562 3.785156 -2.859375 3.390625 -2.453125 C 2.992188 -2.046875 2.441406 -1.476562 1.734375 -0.75 Z M 1.734375 -0.75 \"/>\n",
       "</symbol>\n",
       "<symbol overflow=\"visible\" id=\"glyph0-4\">\n",
       "<path style=\"stroke:none;\" d=\"M 3.65625 -3.53125 C 4.082031 -3.445312 4.410156 -3.257812 4.640625 -2.96875 C 4.878906 -2.6875 5 -2.332031 5 -1.90625 C 5 -1.257812 4.773438 -0.757812 4.328125 -0.40625 C 3.890625 -0.0507812 3.257812 0.125 2.4375 0.125 C 2.164062 0.125 1.882812 0.0976562 1.59375 0.046875 C 1.300781 -0.00390625 1 -0.0859375 0.6875 -0.203125 L 0.6875 -1.0625 C 0.9375 -0.914062 1.207031 -0.804688 1.5 -0.734375 C 1.789062 -0.660156 2.09375 -0.625 2.40625 -0.625 C 2.96875 -0.625 3.394531 -0.734375 3.6875 -0.953125 C 3.976562 -1.171875 4.125 -1.488281 4.125 -1.90625 C 4.125 -2.289062 3.988281 -2.59375 3.71875 -2.8125 C 3.445312 -3.03125 3.066406 -3.140625 2.578125 -3.140625 L 1.8125 -3.140625 L 1.8125 -3.875 L 2.625 -3.875 C 3.0625 -3.875 3.394531 -3.957031 3.625 -4.125 C 3.851562 -4.300781 3.96875 -4.554688 3.96875 -4.890625 C 3.96875 -5.222656 3.847656 -5.476562 3.609375 -5.65625 C 3.367188 -5.84375 3.023438 -5.9375 2.578125 -5.9375 C 2.335938 -5.9375 2.078125 -5.910156 1.796875 -5.859375 C 1.523438 -5.804688 1.222656 -5.722656 0.890625 -5.609375 L 0.890625 -6.40625 C 1.222656 -6.5 1.535156 -6.566406 1.828125 -6.609375 C 2.117188 -6.660156 2.394531 -6.6875 2.65625 -6.6875 C 3.332031 -6.6875 3.867188 -6.53125 4.265625 -6.21875 C 4.660156 -5.914062 4.859375 -5.503906 4.859375 -4.984375 C 4.859375 -4.617188 4.753906 -4.3125 4.546875 -4.0625 C 4.335938 -3.8125 4.039062 -3.632812 3.65625 -3.53125 Z M 3.65625 -3.53125 \"/>\n",
       "</symbol>\n",
       "<symbol overflow=\"visible\" id=\"glyph0-5\">\n",
       "<path style=\"stroke:none;\" d=\"M 3.40625 -5.78125 L 1.15625 -2.28125 L 3.40625 -2.28125 Z M 3.171875 -6.5625 L 4.28125 -6.5625 L 4.28125 -2.28125 L 5.21875 -2.28125 L 5.21875 -1.546875 L 4.28125 -1.546875 L 4.28125 0 L 3.40625 0 L 3.40625 -1.546875 L 0.4375 -1.546875 L 0.4375 -2.40625 Z M 3.171875 -6.5625 \"/>\n",
       "</symbol>\n",
       "<symbol overflow=\"visible\" id=\"glyph0-6\">\n",
       "<path style=\"stroke:none;\" d=\"M 0.96875 -6.5625 L 4.453125 -6.5625 L 4.453125 -5.8125 L 1.78125 -5.8125 L 1.78125 -4.203125 C 1.914062 -4.242188 2.046875 -4.273438 2.171875 -4.296875 C 2.296875 -4.328125 2.425781 -4.34375 2.5625 -4.34375 C 3.289062 -4.34375 3.867188 -4.140625 4.296875 -3.734375 C 4.722656 -3.335938 4.9375 -2.796875 4.9375 -2.109375 C 4.9375 -1.398438 4.71875 -0.847656 4.28125 -0.453125 C 3.84375 -0.0664062 3.222656 0.125 2.421875 0.125 C 2.148438 0.125 1.867188 0.0976562 1.578125 0.046875 C 1.296875 0.00390625 1 -0.0625 0.6875 -0.15625 L 0.6875 -1.046875 C 0.957031 -0.898438 1.234375 -0.789062 1.515625 -0.71875 C 1.796875 -0.65625 2.09375 -0.625 2.40625 -0.625 C 2.914062 -0.625 3.316406 -0.753906 3.609375 -1.015625 C 3.898438 -1.285156 4.046875 -1.648438 4.046875 -2.109375 C 4.046875 -2.566406 3.898438 -2.925781 3.609375 -3.1875 C 3.316406 -3.457031 2.914062 -3.59375 2.40625 -3.59375 C 2.164062 -3.59375 1.925781 -3.566406 1.6875 -3.515625 C 1.457031 -3.460938 1.21875 -3.378906 0.96875 -3.265625 Z M 0.96875 -6.5625 \"/>\n",
       "</symbol>\n",
       "<symbol overflow=\"visible\" id=\"glyph0-7\">\n",
       "<path style=\"stroke:none;\" d=\"M 2.96875 -3.640625 C 2.570312 -3.640625 2.253906 -3.5 2.015625 -3.21875 C 1.785156 -2.945312 1.671875 -2.578125 1.671875 -2.109375 C 1.671875 -1.628906 1.785156 -1.253906 2.015625 -0.984375 C 2.253906 -0.710938 2.570312 -0.578125 2.96875 -0.578125 C 3.363281 -0.578125 3.675781 -0.710938 3.90625 -0.984375 C 4.144531 -1.253906 4.265625 -1.628906 4.265625 -2.109375 C 4.265625 -2.578125 4.144531 -2.945312 3.90625 -3.21875 C 3.675781 -3.5 3.363281 -3.640625 2.96875 -3.640625 Z M 4.734375 -6.421875 L 4.734375 -5.609375 C 4.515625 -5.710938 4.289062 -5.789062 4.0625 -5.84375 C 3.832031 -5.90625 3.609375 -5.9375 3.390625 -5.9375 C 2.796875 -5.9375 2.34375 -5.738281 2.03125 -5.34375 C 1.726562 -4.945312 1.554688 -4.347656 1.515625 -3.546875 C 1.679688 -3.796875 1.894531 -3.988281 2.15625 -4.125 C 2.414062 -4.269531 2.707031 -4.34375 3.03125 -4.34375 C 3.6875 -4.34375 4.203125 -4.140625 4.578125 -3.734375 C 4.960938 -3.335938 5.15625 -2.796875 5.15625 -2.109375 C 5.15625 -1.429688 4.957031 -0.890625 4.5625 -0.484375 C 4.164062 -0.078125 3.632812 0.125 2.96875 0.125 C 2.207031 0.125 1.625 -0.164062 1.21875 -0.75 C 0.820312 -1.332031 0.625 -2.175781 0.625 -3.28125 C 0.625 -4.3125 0.867188 -5.132812 1.359375 -5.75 C 1.859375 -6.375 2.519531 -6.6875 3.34375 -6.6875 C 3.570312 -6.6875 3.796875 -6.660156 4.015625 -6.609375 C 4.242188 -6.566406 4.484375 -6.503906 4.734375 -6.421875 Z M 4.734375 -6.421875 \"/>\n",
       "</symbol>\n",
       "<symbol overflow=\"visible\" id=\"glyph0-8\">\n",
       "<path style=\"stroke:none;\" d=\"M 0.734375 -6.5625 L 4.953125 -6.5625 L 4.953125 -6.1875 L 2.578125 0 L 1.640625 0 L 3.890625 -5.8125 L 0.734375 -5.8125 Z M 0.734375 -6.5625 \"/>\n",
       "</symbol>\n",
       "<symbol overflow=\"visible\" id=\"glyph0-9\">\n",
       "<path style=\"stroke:none;\" d=\"M 2.859375 -3.109375 C 2.441406 -3.109375 2.109375 -2.992188 1.859375 -2.765625 C 1.617188 -2.546875 1.5 -2.238281 1.5 -1.84375 C 1.5 -1.445312 1.617188 -1.132812 1.859375 -0.90625 C 2.109375 -0.6875 2.441406 -0.578125 2.859375 -0.578125 C 3.285156 -0.578125 3.617188 -0.6875 3.859375 -0.90625 C 4.097656 -1.132812 4.21875 -1.445312 4.21875 -1.84375 C 4.21875 -2.238281 4.097656 -2.546875 3.859375 -2.765625 C 3.617188 -2.992188 3.285156 -3.109375 2.859375 -3.109375 Z M 1.96875 -3.5 C 1.59375 -3.59375 1.296875 -3.769531 1.078125 -4.03125 C 0.867188 -4.289062 0.765625 -4.609375 0.765625 -4.984375 C 0.765625 -5.503906 0.953125 -5.914062 1.328125 -6.21875 C 1.703125 -6.53125 2.210938 -6.6875 2.859375 -6.6875 C 3.515625 -6.6875 4.023438 -6.53125 4.390625 -6.21875 C 4.765625 -5.914062 4.953125 -5.503906 4.953125 -4.984375 C 4.953125 -4.609375 4.84375 -4.289062 4.625 -4.03125 C 4.414062 -3.769531 4.125 -3.59375 3.75 -3.5 C 4.175781 -3.394531 4.507812 -3.195312 4.75 -2.90625 C 4.988281 -2.613281 5.109375 -2.257812 5.109375 -1.84375 C 5.109375 -1.207031 4.914062 -0.71875 4.53125 -0.375 C 4.144531 -0.0390625 3.585938 0.125 2.859375 0.125 C 2.140625 0.125 1.582031 -0.0390625 1.1875 -0.375 C 0.800781 -0.71875 0.609375 -1.207031 0.609375 -1.84375 C 0.609375 -2.257812 0.726562 -2.613281 0.96875 -2.90625 C 1.207031 -3.195312 1.539062 -3.394531 1.96875 -3.5 Z M 1.640625 -4.890625 C 1.640625 -4.554688 1.742188 -4.289062 1.953125 -4.09375 C 2.171875 -3.90625 2.472656 -3.8125 2.859375 -3.8125 C 3.242188 -3.8125 3.539062 -3.90625 3.75 -4.09375 C 3.96875 -4.289062 4.078125 -4.554688 4.078125 -4.890625 C 4.078125 -5.234375 3.96875 -5.5 3.75 -5.6875 C 3.539062 -5.882812 3.242188 -5.984375 2.859375 -5.984375 C 2.472656 -5.984375 2.171875 -5.882812 1.953125 -5.6875 C 1.742188 -5.5 1.640625 -5.234375 1.640625 -4.890625 Z M 1.640625 -4.890625 \"/>\n",
       "</symbol>\n",
       "<symbol overflow=\"visible\" id=\"glyph0-10\">\n",
       "<path style=\"stroke:none;\" d=\"M 0.984375 -0.140625 L 0.984375 -0.9375 C 1.210938 -0.832031 1.441406 -0.753906 1.671875 -0.703125 C 1.898438 -0.648438 2.125 -0.625 2.34375 -0.625 C 2.925781 -0.625 3.367188 -0.816406 3.671875 -1.203125 C 3.984375 -1.597656 4.160156 -2.195312 4.203125 -3 C 4.035156 -2.75 3.820312 -2.554688 3.5625 -2.421875 C 3.300781 -2.285156 3.015625 -2.21875 2.703125 -2.21875 C 2.046875 -2.21875 1.523438 -2.414062 1.140625 -2.8125 C 0.753906 -3.21875 0.5625 -3.765625 0.5625 -4.453125 C 0.5625 -5.117188 0.757812 -5.65625 1.15625 -6.0625 C 1.5625 -6.476562 2.09375 -6.6875 2.75 -6.6875 C 3.507812 -6.6875 4.085938 -6.394531 4.484375 -5.8125 C 4.890625 -5.226562 5.09375 -4.382812 5.09375 -3.28125 C 5.09375 -2.238281 4.847656 -1.410156 4.359375 -0.796875 C 3.867188 -0.179688 3.207031 0.125 2.375 0.125 C 2.15625 0.125 1.929688 0.101562 1.703125 0.0625 C 1.472656 0.0195312 1.234375 -0.046875 0.984375 -0.140625 Z M 2.75 -2.921875 C 3.15625 -2.921875 3.472656 -3.054688 3.703125 -3.328125 C 3.929688 -3.597656 4.046875 -3.972656 4.046875 -4.453125 C 4.046875 -4.921875 3.929688 -5.289062 3.703125 -5.5625 C 3.472656 -5.84375 3.15625 -5.984375 2.75 -5.984375 C 2.351562 -5.984375 2.035156 -5.84375 1.796875 -5.5625 C 1.566406 -5.289062 1.453125 -4.921875 1.453125 -4.453125 C 1.453125 -3.972656 1.566406 -3.597656 1.796875 -3.328125 C 2.035156 -3.054688 2.351562 -2.921875 2.75 -2.921875 Z M 2.75 -2.921875 \"/>\n",
       "</symbol>\n",
       "</g>\n",
       "</defs>\n",
       "<g id=\"surface314\">\n",
       "<rect x=\"0\" y=\"0\" width=\"150\" height=\"150\" style=\"fill:rgb(100%,100%,100%);fill-opacity:1;stroke:none;\"/>\n",
       "<path style=\"fill:none;stroke-width:1;stroke-linecap:butt;stroke-linejoin:miter;stroke:rgb(0%,0%,0%);stroke-opacity:1;stroke-miterlimit:10;\" d=\"M 97.304688 89.507812 L 110.878906 125.691406 \"/>\n",
       "<path style=\"fill:none;stroke-width:1;stroke-linecap:butt;stroke-linejoin:miter;stroke:rgb(0%,0%,0%);stroke-opacity:1;stroke-miterlimit:10;\" d=\"M 97.304688 89.507812 L 80.703125 130 \"/>\n",
       "<path style=\"fill:none;stroke-width:1;stroke-linecap:butt;stroke-linejoin:miter;stroke:rgb(0%,0%,0%);stroke-opacity:1;stroke-miterlimit:10;\" d=\"M 110.878906 125.691406 L 80.703125 130 \"/>\n",
       "<path style=\"fill:none;stroke-width:1;stroke-linecap:butt;stroke-linejoin:miter;stroke:rgb(0%,0%,0%);stroke-opacity:1;stroke-miterlimit:10;\" d=\"M 69.394531 60.039062 L 90.558594 22.722656 \"/>\n",
       "<path style=\"fill:none;stroke-width:1;stroke-linecap:butt;stroke-linejoin:miter;stroke:rgb(0%,0%,0%);stroke-opacity:1;stroke-miterlimit:10;\" d=\"M 69.394531 60.039062 L 53.96875 105.304688 \"/>\n",
       "<path style=\"fill:none;stroke-width:1;stroke-linecap:butt;stroke-linejoin:miter;stroke:rgb(0%,0%,0%);stroke-opacity:1;stroke-miterlimit:10;\" d=\"M 69.394531 60.039062 L 42.820312 79.414062 \"/>\n",
       "<path style=\"fill:none;stroke-width:1;stroke-linecap:butt;stroke-linejoin:miter;stroke:rgb(0%,0%,0%);stroke-opacity:1;stroke-miterlimit:10;\" d=\"M 53.96875 105.304688 L 42.820312 79.414062 \"/>\n",
       "<path style=\"fill:none;stroke-width:1;stroke-linecap:butt;stroke-linejoin:miter;stroke:rgb(0%,0%,0%);stroke-opacity:1;stroke-miterlimit:10;\" d=\"M 20 89.015625 L 34.871094 45.074219 \"/>\n",
       "<path style=\"fill:none;stroke-width:1;stroke-linecap:butt;stroke-linejoin:miter;stroke:rgb(0%,0%,0%);stroke-opacity:1;stroke-miterlimit:10;\" d=\"M 69.394531 60.039062 L 34.871094 45.074219 \"/>\n",
       "<path style=\"fill:none;stroke-width:1;stroke-linecap:butt;stroke-linejoin:miter;stroke:rgb(0%,0%,0%);stroke-opacity:1;stroke-miterlimit:10;\" d=\"M 53.96875 105.304688 L 20 89.015625 \"/>\n",
       "<path style=\"fill:none;stroke-width:1;stroke-linecap:butt;stroke-linejoin:miter;stroke:rgb(0%,0%,0%);stroke-opacity:1;stroke-miterlimit:10;\" d=\"M 42.820312 79.414062 L 20 89.015625 \"/>\n",
       "<path style=\"fill:none;stroke-width:1;stroke-linecap:butt;stroke-linejoin:miter;stroke:rgb(0%,0%,0%);stroke-opacity:1;stroke-miterlimit:10;\" d=\"M 97.304688 89.507812 L 130 94.515625 \"/>\n",
       "<path style=\"fill:none;stroke-width:1;stroke-linecap:butt;stroke-linejoin:miter;stroke:rgb(0%,0%,0%);stroke-opacity:1;stroke-miterlimit:10;\" d=\"M 69.394531 60.039062 L 54.417969 20 \"/>\n",
       "<path style=\"fill:none;stroke-width:1;stroke-linecap:butt;stroke-linejoin:miter;stroke:rgb(0%,0%,0%);stroke-opacity:1;stroke-miterlimit:10;\" d=\"M 34.871094 45.074219 L 54.417969 20 \"/>\n",
       "<path style=\"fill:none;stroke-width:1;stroke-linecap:butt;stroke-linejoin:miter;stroke:rgb(100%,41.176471%,70.588235%);stroke-opacity:1;stroke-miterlimit:10;\" d=\"M 97.304688 89.507812 L 69.394531 60.039062 \"/>\n",
       "<path style=\"fill:none;stroke-width:1;stroke-linecap:butt;stroke-linejoin:miter;stroke:rgb(100%,41.176471%,70.588235%);stroke-opacity:1;stroke-miterlimit:10;\" d=\"M 80.703125 130 L 53.96875 105.304688 \"/>\n",
       "<path style=\"fill:none;stroke-width:1;stroke-linecap:butt;stroke-linejoin:miter;stroke:rgb(0%,0%,0%);stroke-opacity:1;stroke-miterlimit:10;\" d=\"M 110.878906 125.691406 L 130 94.515625 \"/>\n",
       "<path style=\"fill-rule:nonzero;fill:rgb(39.215686%,58.431373%,92.941176%);fill-opacity:1;stroke-width:1;stroke-linecap:butt;stroke-linejoin:miter;stroke:rgb(0%,0%,0%);stroke-opacity:1;stroke-miterlimit:10;\" d=\"M 87.304688 89.507812 L 97.304688 99.507812 L 107.304688 89.507812 L 97.304688 79.507812 Z M 87.304688 89.507812 \"/>\n",
       "<path style=\"fill-rule:nonzero;fill:rgb(39.215686%,58.431373%,92.941176%);fill-opacity:1;stroke-width:1;stroke-linecap:butt;stroke-linejoin:miter;stroke:rgb(0%,0%,0%);stroke-opacity:1;stroke-miterlimit:10;\" d=\"M 100.878906 125.691406 L 110.878906 135.691406 L 120.878906 125.691406 L 110.878906 115.691406 Z M 100.878906 125.691406 \"/>\n",
       "<path style=\"fill-rule:nonzero;fill:rgb(39.215686%,58.431373%,92.941176%);fill-opacity:1;stroke-width:1;stroke-linecap:butt;stroke-linejoin:miter;stroke:rgb(0%,0%,0%);stroke-opacity:1;stroke-miterlimit:10;\" d=\"M 70.703125 130 L 80.703125 140 L 90.703125 130 L 80.703125 120 Z M 70.703125 130 \"/>\n",
       "<path style=\"fill-rule:nonzero;fill:rgb(93.333333%,81.176471%,63.137255%);fill-opacity:1;stroke-width:1;stroke-linecap:butt;stroke-linejoin:miter;stroke:rgb(0%,0%,0%);stroke-opacity:1;stroke-miterlimit:10;\" d=\"M 79.394531 60.039062 C 79.394531 65.5625 74.917969 70.039062 69.394531 70.039062 C 63.871094 70.039062 59.394531 65.5625 59.394531 60.039062 C 59.394531 54.515625 63.871094 50.039062 69.394531 50.039062 C 74.917969 50.039062 79.394531 54.515625 79.394531 60.039062 \"/>\n",
       "<path style=\"fill-rule:nonzero;fill:rgb(93.333333%,81.176471%,63.137255%);fill-opacity:1;stroke-width:1;stroke-linecap:butt;stroke-linejoin:miter;stroke:rgb(0%,0%,0%);stroke-opacity:1;stroke-miterlimit:10;\" d=\"M 63.96875 105.304688 C 63.96875 110.828125 59.492188 115.304688 53.96875 115.304688 C 48.445312 115.304688 43.96875 110.828125 43.96875 105.304688 C 43.96875 99.785156 48.445312 95.304688 53.96875 95.304688 C 59.492188 95.304688 63.96875 99.785156 63.96875 105.304688 \"/>\n",
       "<path style=\"fill-rule:nonzero;fill:rgb(93.333333%,81.176471%,63.137255%);fill-opacity:1;stroke-width:1;stroke-linecap:butt;stroke-linejoin:miter;stroke:rgb(0%,0%,0%);stroke-opacity:1;stroke-miterlimit:10;\" d=\"M 52.820312 79.414062 C 52.820312 84.9375 48.34375 89.414062 42.820312 89.414062 C 37.296875 89.414062 32.820312 84.9375 32.820312 79.414062 C 32.820312 73.890625 37.296875 69.414062 42.820312 69.414062 C 48.34375 69.414062 52.820312 73.890625 52.820312 79.414062 \"/>\n",
       "<path style=\"fill-rule:nonzero;fill:rgb(93.333333%,81.176471%,63.137255%);fill-opacity:1;stroke-width:1;stroke-linecap:butt;stroke-linejoin:miter;stroke:rgb(0%,0%,0%);stroke-opacity:1;stroke-miterlimit:10;\" d=\"M 30 89.015625 C 30 94.539062 25.523438 99.015625 20 99.015625 C 14.476562 99.015625 10 94.539062 10 89.015625 C 10 83.496094 14.476562 79.015625 20 79.015625 C 25.523438 79.015625 30 83.496094 30 89.015625 \"/>\n",
       "<path style=\"fill-rule:nonzero;fill:rgb(93.333333%,81.176471%,63.137255%);fill-opacity:1;stroke-width:1;stroke-linecap:butt;stroke-linejoin:miter;stroke:rgb(0%,0%,0%);stroke-opacity:1;stroke-miterlimit:10;\" d=\"M 44.871094 45.074219 C 44.871094 50.597656 40.390625 55.074219 34.871094 55.074219 C 29.347656 55.074219 24.871094 50.597656 24.871094 45.074219 C 24.871094 39.550781 29.347656 35.074219 34.871094 35.074219 C 40.390625 35.074219 44.871094 39.550781 44.871094 45.074219 \"/>\n",
       "<path style=\"fill-rule:nonzero;fill:rgb(93.333333%,81.176471%,63.137255%);fill-opacity:1;stroke-width:1;stroke-linecap:butt;stroke-linejoin:miter;stroke:rgb(0%,0%,0%);stroke-opacity:1;stroke-miterlimit:10;\" d=\"M 64.417969 20 C 64.417969 25.523438 59.941406 30 54.417969 30 C 48.894531 30 44.417969 25.523438 44.417969 20 C 44.417969 14.476562 48.894531 10 54.417969 10 C 59.941406 10 64.417969 14.476562 64.417969 20 \"/>\n",
       "<path style=\"fill-rule:nonzero;fill:rgb(39.215686%,58.431373%,92.941176%);fill-opacity:1;stroke-width:1;stroke-linecap:butt;stroke-linejoin:miter;stroke:rgb(0%,0%,0%);stroke-opacity:1;stroke-miterlimit:10;\" d=\"M 120 94.515625 L 130 104.515625 L 140 94.515625 L 130 84.515625 Z M 120 94.515625 \"/>\n",
       "<path style=\"fill-rule:nonzero;fill:rgb(93.333333%,81.176471%,63.137255%);fill-opacity:1;stroke-width:1;stroke-linecap:butt;stroke-linejoin:miter;stroke:rgb(0%,0%,0%);stroke-opacity:1;stroke-miterlimit:10;\" d=\"M 100.558594 22.722656 C 100.558594 28.246094 96.078125 32.722656 90.558594 32.722656 C 85.035156 32.722656 80.558594 28.246094 80.558594 22.722656 C 80.558594 17.199219 85.035156 12.722656 90.558594 12.722656 C 96.078125 12.722656 100.558594 17.199219 100.558594 22.722656 \"/>\n",
       "<g style=\"fill:rgb(0%,0%,0%);fill-opacity:1;\">\n",
       "  <use xlink:href=\"#glyph0-1\" x=\"94.445312\" y=\"93.910156\"/>\n",
       "</g>\n",
       "<g style=\"fill:rgb(0%,0%,0%);fill-opacity:1;\">\n",
       "  <use xlink:href=\"#glyph0-2\" x=\"107.9375\" y=\"130.03125\"/>\n",
       "</g>\n",
       "<g style=\"fill:rgb(0%,0%,0%);fill-opacity:1;\">\n",
       "  <use xlink:href=\"#glyph0-3\" x=\"77.960938\" y=\"134.402344\"/>\n",
       "</g>\n",
       "<g style=\"fill:rgb(0%,0%,0%);fill-opacity:1;\">\n",
       "  <use xlink:href=\"#glyph0-4\" x=\"66.546875\" y=\"64.441406\"/>\n",
       "</g>\n",
       "<g style=\"fill:rgb(0%,0%,0%);fill-opacity:1;\">\n",
       "  <use xlink:href=\"#glyph0-5\" x=\"51.136719\" y=\"109.648438\"/>\n",
       "</g>\n",
       "<g style=\"fill:rgb(0%,0%,0%);fill-opacity:1;\">\n",
       "  <use xlink:href=\"#glyph0-6\" x=\"40.003906\" y=\"83.753906\"/>\n",
       "</g>\n",
       "<g style=\"fill:rgb(0%,0%,0%);fill-opacity:1;\">\n",
       "  <use xlink:href=\"#glyph0-7\" x=\"17.105469\" y=\"93.417969\"/>\n",
       "</g>\n",
       "<g style=\"fill:rgb(0%,0%,0%);fill-opacity:1;\">\n",
       "  <use xlink:href=\"#glyph0-8\" x=\"32.023438\" y=\"49.417969\"/>\n",
       "</g>\n",
       "<g style=\"fill:rgb(0%,0%,0%);fill-opacity:1;\">\n",
       "  <use xlink:href=\"#glyph0-9\" x=\"51.558594\" y=\"24.402344\"/>\n",
       "</g>\n",
       "<g style=\"fill:rgb(0%,0%,0%);fill-opacity:1;\">\n",
       "  <use xlink:href=\"#glyph0-10\" x=\"127.171875\" y=\"98.917969\"/>\n",
       "</g>\n",
       "<g style=\"fill:rgb(0%,0%,0%);fill-opacity:1;\">\n",
       "  <use xlink:href=\"#glyph0-2\" x=\"84.636719\" y=\"27.125\"/>\n",
       "  <use xlink:href=\"#glyph0-1\" x=\"90.362793\" y=\"27.125\"/>\n",
       "</g>\n",
       "</g>\n",
       "</svg>\n"
      ],
      "text/plain": [
       "<igraph.drawing.Plot at 0x7f0358087940>"
      ]
     },
     "execution_count": 92,
     "metadata": {
      "image/svg+xml": {
       "isolated": true
      }
     },
     "output_type": "execute_result"
    }
   ],
   "source": [
    "print_my_graph(vtx, edges, result_DC2, False, optimal_k, bipartite, my_graph_size, my_form)"
   ]
  },
  {
   "cell_type": "code",
   "execution_count": 93,
   "metadata": {},
   "outputs": [
    {
     "name": "stdout",
     "output_type": "stream",
     "text": [
      "Number of groups:2\n",
      "Degree of groups:{0: 22, 1: 12}\n",
      "Cardinality of groups:{0: 7, 1: 4}\n"
     ]
    },
    {
     "data": {
      "image/png": "[encoded data removed]",
      "text/plain": [
       "<Figure size 432x288 with 1 Axes>"
      ]
     },
     "metadata": {
      "needs_background": "light"
     },
     "output_type": "display_data"
    }
   ],
   "source": [
    "M_DC2 = stochastic_BM(optimal_k, graph_obj, result_DC2)\n",
    "print_M(M_DC2, 1, my_colors)"
   ]
  },
  {
   "cell_type": "code",
   "execution_count": null,
   "metadata": {},
   "outputs": [],
   "source": []
  }
 ],
 "metadata": {
  "celltoolbar": "Raw Cell Format",
  "kernelspec": {
   "display_name": "Python 3 (ipykernel)",
   "language": "python",
   "name": "python3"
  },
  "language_info": {
   "codemirror_mode": {
    "name": "ipython",
    "version": 3
   },
   "file_extension": ".py",
   "mimetype": "text/x-python",
   "name": "python",
   "nbconvert_exporter": "python",
   "pygments_lexer": "ipython3",
   "version": "3.9.7"
  }
 },
 "nbformat": 4,
 "nbformat_minor": 4
}
